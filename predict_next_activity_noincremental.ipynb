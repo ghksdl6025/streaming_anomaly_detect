{
 "cells": [
  {
   "cell_type": "code",
   "execution_count": 36,
   "id": "44387976",
   "metadata": {},
   "outputs": [
    {
     "data": {
      "text/plain": [
       "<module 'sliding_window' from 'C:\\\\Users\\\\suhwanlee\\\\Desktop\\\\project\\\\streaming_anomaly_detect\\\\sliding_window.py'>"
      ]
     },
     "execution_count": 36,
     "metadata": {},
     "output_type": "execute_result"
    }
   ],
   "source": [
    "import pandas as pd\n",
    "from river import stream,tree,metrics\n",
    "import utils\n",
    "from encoding import prefix_bin\n",
    "import numpy as np\n",
    "from sklearn.metrics import classification_report, accuracy_score\n",
    "import os\n",
    "from tqdm import tqdm\n",
    "import sliding_window\n",
    "from sklearn.ensemble import RandomForestClassifier\n",
    "from sklearn.tree import DecisionTreeClassifier\n",
    "import time\n",
    "import importlib\n",
    "importlib.reload(sliding_window)"
   ]
  },
  {
   "cell_type": "code",
   "execution_count": 37,
   "id": "5f424c5a",
   "metadata": {},
   "outputs": [],
   "source": [
    "dataset = stream.iter_csv(\n",
    "            './bpic17_sampling3.csv',\n",
    "            )\n",
    "\n",
    "totallength = len(list(dataset))"
   ]
  },
  {
   "cell_type": "code",
   "execution_count": 38,
   "id": "bd08beef",
   "metadata": {},
   "outputs": [],
   "source": [
    "dataset = stream.iter_csv(\n",
    "            './bpic17_sampling3.csv',\n",
    "            drop=['resource'],\n",
    "            )\n",
    "enctype = 'Index-base'"
   ]
  },
  {
   "cell_type": "code",
   "execution_count": 39,
   "id": "b7654d96",
   "metadata": {},
   "outputs": [],
   "source": [
    "key_pair = {\n",
    "# 'Case ID':'caseid',\n",
    "# 'Activity':'activity',\n",
    "# 'Resource':'resource',\n",
    "# 'Complete Timestamp':'ts',\n",
    "}\n",
    "catatars= ['activity']#,'resource']\n",
    "\n",
    "case_dict ={}\n",
    "training_models ={}\n",
    "\n",
    "casecount = 0\n",
    "rowcounter = 0\n",
    "resultdict ={}\n",
    "acc_dict ={}\n",
    "\n",
    "prediction_result = {}\n",
    "graceperiod_finish=0\n",
    "finishedcases = set()"
   ]
  },
  {
   "cell_type": "code",
   "execution_count": 40,
   "id": "0f457584",
   "metadata": {},
   "outputs": [],
   "source": [
    "# Sliding window for training setting\n",
    "window_size = 30\n",
    "retraining_size = 10\n",
    "training_window = sliding_window.training_window(window_size,retraining_size)\n"
   ]
  },
  {
   "cell_type": "code",
   "execution_count": 41,
   "id": "2bef05fd",
   "metadata": {},
   "outputs": [],
   "source": [
    "def display_progress(row_counting, total_length, interval=500):\n",
    "    if rowcounter%interval == 0:\n",
    "        print(round(rowcounter*100/totallength,2) ,'%', 'Case finished: %s'%(casecount))"
   ]
  },
  {
   "cell_type": "code",
   "execution_count": 42,
   "id": "9dc27209",
   "metadata": {},
   "outputs": [],
   "source": [
    "def training_stage(window, training_models):\n",
    "    '''\n",
    "    Manage training stage of streaming anomaly detection\n",
    "    ----------\n",
    "    Parameters\n",
    "    window: class training_window\n",
    "        Sliding window with training data\n",
    "    training_models: dict\n",
    "        Trained detector by prefix stored in. Default is randomforest\n",
    "    ----------\n",
    "    Return\n",
    "    training_models\n",
    "    '''\n",
    "    pw_window = window.prefix_wise_window()\n",
    "    for x in pw_window:\n",
    "        clf  = RandomForestClassifier(max_depth=10)\n",
    "        clf.fit(pw_window[x][0],pw_window[x][1])\n",
    "        if 'detector_%s'%(x) not in training_models:\n",
    "            training_models['detector_%s'%(x)] =[0,0]\n",
    "        training_models['detector_%s'%(x)][0] += 1\n",
    "        training_models['detector_%s'%(x)][1] = clf\n",
    "    return training_models"
   ]
  },
  {
   "cell_type": "code",
   "execution_count": 43,
   "id": "4594b58d",
   "metadata": {},
   "outputs": [],
   "source": [
    "def predict_activity_proba():\n",
    "    pass"
   ]
  },
  {
   "cell_type": "code",
   "execution_count": 44,
   "id": "ebdc5a68",
   "metadata": {
    "scrolled": true
   },
   "outputs": [
    {
     "name": "stdout",
     "output_type": "stream",
     "text": [
      "0.0 % Case finished: 0\n",
      "15.61 % Case finished: 0\n",
      "31.21 % Case finished: 0\n",
      "1\n",
      "2\n",
      "3\n",
      "4\n",
      "5\n",
      "6\n",
      "7\n",
      "46.82 % Case finished: 0\n",
      "8\n",
      "9\n",
      "10\n",
      "89\n",
      "1\n"
     ]
    },
    {
     "ename": "ValueError",
     "evalue": "X has 116 features, but DecisionTreeClassifier is expecting 105 features as input.",
     "output_type": "error",
     "traceback": [
      "\u001b[1;31m---------------------------------------------------------------------------\u001b[0m",
      "\u001b[1;31mValueError\u001b[0m                                Traceback (most recent call last)",
      "\u001b[1;32mC:\\Users\\SUHWAN~1\\AppData\\Local\\Temp/ipykernel_10316/173262401.py\u001b[0m in \u001b[0;36m<module>\u001b[1;34m\u001b[0m\n\u001b[0;32m     48\u001b[0m             \u001b[0mcurrent_event\u001b[0m \u001b[1;33m=\u001b[0m \u001b[0mutils\u001b[0m\u001b[1;33m.\u001b[0m\u001b[0mreadjustment_training\u001b[0m\u001b[1;33m(\u001b[0m\u001b[0mlast_event\u001b[0m\u001b[1;33m.\u001b[0m\u001b[0mencoded\u001b[0m\u001b[1;33m,\u001b[0m \u001b[0mfeature_matrix\u001b[0m\u001b[1;33m)\u001b[0m\u001b[1;33m\u001b[0m\u001b[1;33m\u001b[0m\u001b[0m\n\u001b[0;32m     49\u001b[0m             \u001b[0mcurrent_event\u001b[0m \u001b[1;33m=\u001b[0m \u001b[0mpd\u001b[0m\u001b[1;33m.\u001b[0m\u001b[0mSeries\u001b[0m\u001b[1;33m(\u001b[0m\u001b[0mcurrent_event\u001b[0m\u001b[1;33m)\u001b[0m\u001b[1;33m.\u001b[0m\u001b[0mto_frame\u001b[0m\u001b[1;33m(\u001b[0m\u001b[1;33m)\u001b[0m\u001b[1;33m.\u001b[0m\u001b[0mT\u001b[0m\u001b[1;33m\u001b[0m\u001b[1;33m\u001b[0m\u001b[0m\n\u001b[1;32m---> 50\u001b[1;33m             \u001b[0mprediction\u001b[0m \u001b[1;33m=\u001b[0m \u001b[1;33m[\u001b[0m\u001b[0mtraining_models\u001b[0m\u001b[1;33m[\u001b[0m\u001b[1;34m'detector_window_%s'\u001b[0m\u001b[1;33m%\u001b[0m\u001b[1;33m(\u001b[0m\u001b[0mlast_event\u001b[0m\u001b[1;33m.\u001b[0m\u001b[0mprefix_length\u001b[0m\u001b[1;33m)\u001b[0m\u001b[1;33m]\u001b[0m\u001b[1;33m[\u001b[0m\u001b[1;36m1\u001b[0m\u001b[1;33m]\u001b[0m\u001b[1;33m.\u001b[0m\u001b[0mpredict_proba\u001b[0m\u001b[1;33m(\u001b[0m\u001b[0mcurrent_event\u001b[0m\u001b[1;33m)\u001b[0m\u001b[1;33m,\u001b[0m \u001b[0mtraining_models\u001b[0m\u001b[1;33m[\u001b[0m\u001b[1;34m'detector_window_%s'\u001b[0m\u001b[1;33m%\u001b[0m\u001b[1;33m(\u001b[0m\u001b[0mlast_event\u001b[0m\u001b[1;33m.\u001b[0m\u001b[0mprefix_length\u001b[0m\u001b[1;33m)\u001b[0m\u001b[1;33m]\u001b[0m\u001b[1;33m[\u001b[0m\u001b[1;36m1\u001b[0m\u001b[1;33m]\u001b[0m\u001b[1;33m.\u001b[0m\u001b[0mclasses_\u001b[0m\u001b[1;33m]\u001b[0m\u001b[1;33m\u001b[0m\u001b[1;33m\u001b[0m\u001b[0m\n\u001b[0m\u001b[0;32m     51\u001b[0m             \u001b[0mmodelid\u001b[0m \u001b[1;33m=\u001b[0m \u001b[0mtraining_models\u001b[0m\u001b[1;33m[\u001b[0m\u001b[1;34m'detector_window_%s'\u001b[0m\u001b[1;33m%\u001b[0m\u001b[1;33m(\u001b[0m\u001b[0mlast_event\u001b[0m\u001b[1;33m.\u001b[0m\u001b[0mprefix_length\u001b[0m\u001b[1;33m)\u001b[0m\u001b[1;33m]\u001b[0m\u001b[1;33m[\u001b[0m\u001b[1;36m0\u001b[0m\u001b[1;33m]\u001b[0m\u001b[1;33m\u001b[0m\u001b[1;33m\u001b[0m\u001b[0m\n\u001b[0;32m     52\u001b[0m     \u001b[0mcase_bin\u001b[0m\u001b[1;33m.\u001b[0m\u001b[0mupdate_prediction\u001b[0m\u001b[1;33m(\u001b[0m\u001b[1;33m(\u001b[0m\u001b[0mmodelid\u001b[0m\u001b[1;33m,\u001b[0m \u001b[1;33m(\u001b[0m\u001b[0mprediction\u001b[0m\u001b[1;33m,\u001b[0m\u001b[0mts\u001b[0m\u001b[1;33m)\u001b[0m\u001b[1;33m)\u001b[0m\u001b[1;33m)\u001b[0m\u001b[1;33m\u001b[0m\u001b[1;33m\u001b[0m\u001b[0m\n",
      "\u001b[1;32mc:\\python\\lib\\site-packages\\sklearn\\ensemble\\_forest.py\u001b[0m in \u001b[0;36mpredict_proba\u001b[1;34m(self, X)\u001b[0m\n\u001b[0;32m    672\u001b[0m         \u001b[0mcheck_is_fitted\u001b[0m\u001b[1;33m(\u001b[0m\u001b[0mself\u001b[0m\u001b[1;33m)\u001b[0m\u001b[1;33m\u001b[0m\u001b[1;33m\u001b[0m\u001b[0m\n\u001b[0;32m    673\u001b[0m         \u001b[1;31m# Check data\u001b[0m\u001b[1;33m\u001b[0m\u001b[1;33m\u001b[0m\u001b[1;33m\u001b[0m\u001b[0m\n\u001b[1;32m--> 674\u001b[1;33m         \u001b[0mX\u001b[0m \u001b[1;33m=\u001b[0m \u001b[0mself\u001b[0m\u001b[1;33m.\u001b[0m\u001b[0m_validate_X_predict\u001b[0m\u001b[1;33m(\u001b[0m\u001b[0mX\u001b[0m\u001b[1;33m)\u001b[0m\u001b[1;33m\u001b[0m\u001b[1;33m\u001b[0m\u001b[0m\n\u001b[0m\u001b[0;32m    675\u001b[0m \u001b[1;33m\u001b[0m\u001b[0m\n\u001b[0;32m    676\u001b[0m         \u001b[1;31m# Assign chunk of trees to jobs\u001b[0m\u001b[1;33m\u001b[0m\u001b[1;33m\u001b[0m\u001b[1;33m\u001b[0m\u001b[0m\n",
      "\u001b[1;32mc:\\python\\lib\\site-packages\\sklearn\\ensemble\\_forest.py\u001b[0m in \u001b[0;36m_validate_X_predict\u001b[1;34m(self, X)\u001b[0m\n\u001b[0;32m    420\u001b[0m         \u001b[0mcheck_is_fitted\u001b[0m\u001b[1;33m(\u001b[0m\u001b[0mself\u001b[0m\u001b[1;33m)\u001b[0m\u001b[1;33m\u001b[0m\u001b[1;33m\u001b[0m\u001b[0m\n\u001b[0;32m    421\u001b[0m \u001b[1;33m\u001b[0m\u001b[0m\n\u001b[1;32m--> 422\u001b[1;33m         \u001b[1;32mreturn\u001b[0m \u001b[0mself\u001b[0m\u001b[1;33m.\u001b[0m\u001b[0mestimators_\u001b[0m\u001b[1;33m[\u001b[0m\u001b[1;36m0\u001b[0m\u001b[1;33m]\u001b[0m\u001b[1;33m.\u001b[0m\u001b[0m_validate_X_predict\u001b[0m\u001b[1;33m(\u001b[0m\u001b[0mX\u001b[0m\u001b[1;33m,\u001b[0m \u001b[0mcheck_input\u001b[0m\u001b[1;33m=\u001b[0m\u001b[1;32mTrue\u001b[0m\u001b[1;33m)\u001b[0m\u001b[1;33m\u001b[0m\u001b[1;33m\u001b[0m\u001b[0m\n\u001b[0m\u001b[0;32m    423\u001b[0m \u001b[1;33m\u001b[0m\u001b[0m\n\u001b[0;32m    424\u001b[0m     \u001b[1;33m@\u001b[0m\u001b[0mproperty\u001b[0m\u001b[1;33m\u001b[0m\u001b[1;33m\u001b[0m\u001b[0m\n",
      "\u001b[1;32mc:\\python\\lib\\site-packages\\sklearn\\tree\\_classes.py\u001b[0m in \u001b[0;36m_validate_X_predict\u001b[1;34m(self, X, check_input)\u001b[0m\n\u001b[0;32m    405\u001b[0m         \u001b[1;34m\"\"\"Validate the training data on predict (probabilities).\"\"\"\u001b[0m\u001b[1;33m\u001b[0m\u001b[1;33m\u001b[0m\u001b[0m\n\u001b[0;32m    406\u001b[0m         \u001b[1;32mif\u001b[0m \u001b[0mcheck_input\u001b[0m\u001b[1;33m:\u001b[0m\u001b[1;33m\u001b[0m\u001b[1;33m\u001b[0m\u001b[0m\n\u001b[1;32m--> 407\u001b[1;33m             X = self._validate_data(X, dtype=DTYPE, accept_sparse=\"csr\",\n\u001b[0m\u001b[0;32m    408\u001b[0m                                     reset=False)\n\u001b[0;32m    409\u001b[0m             if issparse(X) and (X.indices.dtype != np.intc or\n",
      "\u001b[1;32mc:\\python\\lib\\site-packages\\sklearn\\base.py\u001b[0m in \u001b[0;36m_validate_data\u001b[1;34m(self, X, y, reset, validate_separately, **check_params)\u001b[0m\n\u001b[0;32m    435\u001b[0m \u001b[1;33m\u001b[0m\u001b[0m\n\u001b[0;32m    436\u001b[0m         \u001b[1;32mif\u001b[0m \u001b[0mcheck_params\u001b[0m\u001b[1;33m.\u001b[0m\u001b[0mget\u001b[0m\u001b[1;33m(\u001b[0m\u001b[1;34m'ensure_2d'\u001b[0m\u001b[1;33m,\u001b[0m \u001b[1;32mTrue\u001b[0m\u001b[1;33m)\u001b[0m\u001b[1;33m:\u001b[0m\u001b[1;33m\u001b[0m\u001b[1;33m\u001b[0m\u001b[0m\n\u001b[1;32m--> 437\u001b[1;33m             \u001b[0mself\u001b[0m\u001b[1;33m.\u001b[0m\u001b[0m_check_n_features\u001b[0m\u001b[1;33m(\u001b[0m\u001b[0mX\u001b[0m\u001b[1;33m,\u001b[0m \u001b[0mreset\u001b[0m\u001b[1;33m=\u001b[0m\u001b[0mreset\u001b[0m\u001b[1;33m)\u001b[0m\u001b[1;33m\u001b[0m\u001b[1;33m\u001b[0m\u001b[0m\n\u001b[0m\u001b[0;32m    438\u001b[0m \u001b[1;33m\u001b[0m\u001b[0m\n\u001b[0;32m    439\u001b[0m         \u001b[1;32mreturn\u001b[0m \u001b[0mout\u001b[0m\u001b[1;33m\u001b[0m\u001b[1;33m\u001b[0m\u001b[0m\n",
      "\u001b[1;32mc:\\python\\lib\\site-packages\\sklearn\\base.py\u001b[0m in \u001b[0;36m_check_n_features\u001b[1;34m(self, X, reset)\u001b[0m\n\u001b[0;32m    363\u001b[0m \u001b[1;33m\u001b[0m\u001b[0m\n\u001b[0;32m    364\u001b[0m         \u001b[1;32mif\u001b[0m \u001b[0mn_features\u001b[0m \u001b[1;33m!=\u001b[0m \u001b[0mself\u001b[0m\u001b[1;33m.\u001b[0m\u001b[0mn_features_in_\u001b[0m\u001b[1;33m:\u001b[0m\u001b[1;33m\u001b[0m\u001b[1;33m\u001b[0m\u001b[0m\n\u001b[1;32m--> 365\u001b[1;33m             raise ValueError(\n\u001b[0m\u001b[0;32m    366\u001b[0m                 \u001b[1;34mf\"X has {n_features} features, but {self.__class__.__name__} \"\u001b[0m\u001b[1;33m\u001b[0m\u001b[1;33m\u001b[0m\u001b[0m\n\u001b[0;32m    367\u001b[0m                 f\"is expecting {self.n_features_in_} features as input.\")\n",
      "\u001b[1;31mValueError\u001b[0m: X has 116 features, but DecisionTreeClassifier is expecting 105 features as input."
     ]
    }
   ],
   "source": [
    "start_time = time.time()\n",
    "\n",
    "for x,y in dataset:\n",
    "    display_progress(rowcounter, totallength)\n",
    "    rowcounter +=1\n",
    "    \n",
    "    utils.dictkey_chg(x, key_pair)\n",
    "    # Event stream change dictionary keys\n",
    "    x['ts'] = x['ts'][:-4]\n",
    "    \n",
    "    # Check label possible\n",
    "    \n",
    "    # Initialize case by prefix length\n",
    "    caseid = x['caseid']\n",
    "    x.pop('caseid')\n",
    "    \n",
    "    case_bin = prefix_bin(caseid, x)\n",
    "    \n",
    "    if caseid not in list(case_dict.keys()):\n",
    "        case_dict[caseid] = []\n",
    "        case_bin.set_prefix_length(1)\n",
    "        \n",
    "    elif caseid in finishedcases:\n",
    "        continue\n",
    "    \n",
    "    else:\n",
    "        case_bin.set_prefix_length(len(case_dict[caseid])+1)\n",
    "        case_bin.set_prev_enc(case_dict[caseid][-1])\n",
    "    \n",
    "    # Encode event and cases and add to DB\n",
    "    ts = case_bin.event['ts']\n",
    "    case_bin.update_encoded(catattrs=catatars,enctype=enctype)\n",
    "    \n",
    "    # Set current activity as outcome of previous event\n",
    "    if case_bin.prefix_length != 1:\n",
    "        case_bin.prev_enc.update_truelabel(x['activity'])\n",
    "\n",
    "    # First prediction for current event\n",
    "    \n",
    "    last_event = case_bin\n",
    "    modelid = 'None'\n",
    "    prediction = 'Not Available'\n",
    "\n",
    "    if len(training_window.getAllitems()) !=0:\n",
    "        prefix_wise_window = training_window.prefix_wise_window()\n",
    "        if 'window_%s'%(last_event.prefix_length) in list(prefix_wise_window.keys()) and 'detector_window_%s'%(last_event.prefix_length) in training_models.keys():\n",
    "            feature_matrix = prefix_wise_window['window_%s'%(last_event.prefix_length)][0].columns.values\n",
    "            current_event = utils.readjustment_training(last_event.encoded, feature_matrix)\n",
    "            current_event = pd.Series(current_event).to_frame().T\n",
    "            prediction = [training_models['detector_window_%s'%(last_event.prefix_length)][1].predict_proba(current_event), training_models['detector_window_%s'%(last_event.prefix_length)][1].classes_]\n",
    "            modelid = training_models['detector_window_%s'%(last_event.prefix_length)][0]\n",
    "    case_bin.update_prediction((modelid, (prediction,ts)))        \n",
    "            \n",
    "    # Update training window and finish the case\n",
    "    if x['activity'] == 'End':\n",
    "        training_window.update_window({caseid: case_dict[caseid]})\n",
    "        print(training_window.retraining_count)\n",
    "        \n",
    "        if training_window.retraining == training_window.retraining_count:            \n",
    "            training_models = training_stage(training_window, training_models)\n",
    "            resultdict[caseid] = case_dict[caseid]\n",
    "            case_dict.pop(caseid)\n",
    "\n",
    "            casecount +=1\n",
    "            print(len(case_dict))\n",
    "            for x in case_dict:\n",
    "                last_event = case_dict[x][-1]\n",
    "                modelid = 'None'\n",
    "                prediction = 'Not Available'\n",
    "\n",
    "                if len(training_window.getAllitems()) !=0:\n",
    "                    prefix_wise_window = training_window.prefix_wise_window()\n",
    "                    if 'window_%s'%(last_event.prefix_length) in list(prefix_wise_window.keys()) and 'detector_window_%s'%(last_event.prefix_length) in training_models.keys():\n",
    "                        feature_matrix = prefix_wise_window['window_%s'%(last_event.prefix_length)][0].columns.values\n",
    "                        current_event = utils.readjustment_training(last_event.encoded, feature_matrix)\n",
    "                        current_event = pd.Series(current_event).to_frame().T\n",
    "                        prediction = [training_models['detector_window_%s'%(last_event.prefix_length)][1].predict_proba(current_event), training_models['detector_window_%s'%(last_event.prefix_length)][1].classes_]\n",
    "                        modelid = training_models['detector_window_%s'%(last_event.prefix_length)][0]\n",
    "                case_dict[x][-1].update_prediction((modelid, (prediction,ts)))        \n",
    "            training_window.reset_retraining_count()\n",
    "    else:\n",
    "        case_dict[caseid].append(case_bin)\n",
    "\n",
    "\n",
    "end_time = time.time()"
   ]
  },
  {
   "cell_type": "code",
   "execution_count": 45,
   "id": "05477f75",
   "metadata": {},
   "outputs": [
    {
     "name": "stdout",
     "output_type": "stream",
     "text": [
      "{'container': deque([{'Application_369105792': [<encoding.prefix_bin object at 0x00000214995CC820>, <encoding.prefix_bin object at 0x00000214995CC8E0>, <encoding.prefix_bin object at 0x00000214995CC910>, <encoding.prefix_bin object at 0x00000214995CCC10>, <encoding.prefix_bin object at 0x00000214995CCC70>, <encoding.prefix_bin object at 0x00000214995CCCD0>, <encoding.prefix_bin object at 0x000002149931F3D0>, <encoding.prefix_bin object at 0x000002149931F730>, <encoding.prefix_bin object at 0x000002149931F790>, <encoding.prefix_bin object at 0x000002149931F7F0>, <encoding.prefix_bin object at 0x000002149931F850>, <encoding.prefix_bin object at 0x000002149931F8B0>, <encoding.prefix_bin object at 0x000002149931F910>, <encoding.prefix_bin object at 0x000002149931F970>, <encoding.prefix_bin object at 0x000002149931F9D0>, <encoding.prefix_bin object at 0x00000214995BDAF0>, <encoding.prefix_bin object at 0x00000214995BDB50>, <encoding.prefix_bin object at 0x00000214995BDBB0>]}, {'Application_1754943309': [<encoding.prefix_bin object at 0x0000021499504AC0>, <encoding.prefix_bin object at 0x0000021499504B80>, <encoding.prefix_bin object at 0x0000021499504BB0>, <encoding.prefix_bin object at 0x0000021499504C10>, <encoding.prefix_bin object at 0x0000021499504CA0>, <encoding.prefix_bin object at 0x0000021499504CD0>, <encoding.prefix_bin object at 0x00000214994E1340>, <encoding.prefix_bin object at 0x00000214994E1580>, <encoding.prefix_bin object at 0x00000214994E15E0>, <encoding.prefix_bin object at 0x00000214994E1F40>, <encoding.prefix_bin object at 0x00000214995980A0>, <encoding.prefix_bin object at 0x0000021499598100>, <encoding.prefix_bin object at 0x0000021499598EB0>, <encoding.prefix_bin object at 0x0000021499598F70>, <encoding.prefix_bin object at 0x0000021499598FD0>, <encoding.prefix_bin object at 0x000002149934E2B0>, <encoding.prefix_bin object at 0x000002149934E2E0>, <encoding.prefix_bin object at 0x000002149934E340>, <encoding.prefix_bin object at 0x000002149934E3A0>, <encoding.prefix_bin object at 0x000002149934E400>, <encoding.prefix_bin object at 0x000002149934E4C0>, <encoding.prefix_bin object at 0x0000021499157B20>, <encoding.prefix_bin object at 0x00000214991504C0>, <encoding.prefix_bin object at 0x0000021499182580>]}, {'Application_2002564265': [<encoding.prefix_bin object at 0x00000214993E6130>, <encoding.prefix_bin object at 0x00000214993E61F0>, <encoding.prefix_bin object at 0x00000214993E6220>, <encoding.prefix_bin object at 0x00000214993E6280>, <encoding.prefix_bin object at 0x00000214993E6310>, <encoding.prefix_bin object at 0x00000214993E6340>, <encoding.prefix_bin object at 0x00000214994D1460>, <encoding.prefix_bin object at 0x00000214994D14C0>, <encoding.prefix_bin object at 0x00000214994D1520>, <encoding.prefix_bin object at 0x00000214994D1580>, <encoding.prefix_bin object at 0x00000214995C6A30>, <encoding.prefix_bin object at 0x00000214995C6A90>, <encoding.prefix_bin object at 0x00000214995C6AF0>, <encoding.prefix_bin object at 0x00000214995C6B50>, <encoding.prefix_bin object at 0x00000214995C6BB0>, <encoding.prefix_bin object at 0x00000214995C6C10>, <encoding.prefix_bin object at 0x00000214995C6C70>, <encoding.prefix_bin object at 0x00000214995C6CD0>, <encoding.prefix_bin object at 0x00000214995C6D30>, <encoding.prefix_bin object at 0x0000021499150460>, <encoding.prefix_bin object at 0x00000214990CF790>, <encoding.prefix_bin object at 0x00000214990BDF10>]}, {'Application_1674281629': [<encoding.prefix_bin object at 0x0000021499408FA0>, <encoding.prefix_bin object at 0x00000214993D40A0>, <encoding.prefix_bin object at 0x00000214993D40D0>, <encoding.prefix_bin object at 0x00000214993D4130>, <encoding.prefix_bin object at 0x00000214993D4250>, <encoding.prefix_bin object at 0x00000214993D4610>, <encoding.prefix_bin object at 0x00000214994D85B0>, <encoding.prefix_bin object at 0x00000214994D89D0>, <encoding.prefix_bin object at 0x0000021499504610>, <encoding.prefix_bin object at 0x0000021499504640>, <encoding.prefix_bin object at 0x00000214995046A0>, <encoding.prefix_bin object at 0x0000021499504700>, <encoding.prefix_bin object at 0x0000021499504760>, <encoding.prefix_bin object at 0x00000214995047C0>, <encoding.prefix_bin object at 0x0000021499504820>, <encoding.prefix_bin object at 0x0000021499504880>, <encoding.prefix_bin object at 0x0000021499504430>, <encoding.prefix_bin object at 0x0000021499504490>, <encoding.prefix_bin object at 0x00000214995044F0>, <encoding.prefix_bin object at 0x000002149918C280>, <encoding.prefix_bin object at 0x00000214990BC130>, <encoding.prefix_bin object at 0x000002149916EE20>, <encoding.prefix_bin object at 0x000002149918CC40>, <encoding.prefix_bin object at 0x00000214990BC820>, <encoding.prefix_bin object at 0x00000214991502B0>, <encoding.prefix_bin object at 0x0000021499034790>, <encoding.prefix_bin object at 0x00000214990BDE50>, <encoding.prefix_bin object at 0x000002149916E580>, <encoding.prefix_bin object at 0x00000214990BDFD0>, <encoding.prefix_bin object at 0x0000021499036C40>, <encoding.prefix_bin object at 0x000002149916E220>]}, {'Application_1691306052': [<encoding.prefix_bin object at 0x0000021498FF24F0>, <encoding.prefix_bin object at 0x0000021499401C40>, <encoding.prefix_bin object at 0x0000021499401CD0>, <encoding.prefix_bin object at 0x0000021499401C70>, <encoding.prefix_bin object at 0x0000021499401B20>, <encoding.prefix_bin object at 0x0000021499401BB0>, <encoding.prefix_bin object at 0x00000214990044F0>, <encoding.prefix_bin object at 0x0000021499004460>, <encoding.prefix_bin object at 0x0000021499004430>, <encoding.prefix_bin object at 0x0000021499004640>, <encoding.prefix_bin object at 0x0000021499004040>, <encoding.prefix_bin object at 0x00000214990046D0>, <encoding.prefix_bin object at 0x0000021499004A30>, <encoding.prefix_bin object at 0x0000021499004CD0>, <encoding.prefix_bin object at 0x0000021499004220>, <encoding.prefix_bin object at 0x00000214990045E0>, <encoding.prefix_bin object at 0x0000021499004910>, <encoding.prefix_bin object at 0x00000214995BDFD0>, <encoding.prefix_bin object at 0x0000021499187DC0>, <encoding.prefix_bin object at 0x0000021499187160>, <encoding.prefix_bin object at 0x000002149916EFD0>, <encoding.prefix_bin object at 0x0000021499150760>, <encoding.prefix_bin object at 0x00000214990BCEE0>, <encoding.prefix_bin object at 0x0000021499187430>, <encoding.prefix_bin object at 0x00000214991873D0>, <encoding.prefix_bin object at 0x000002149918CA90>, <encoding.prefix_bin object at 0x0000021499157730>, <encoding.prefix_bin object at 0x0000021499187040>, <encoding.prefix_bin object at 0x000002149918C5B0>]}, {'Application_1363980603': [<encoding.prefix_bin object at 0x00000214993E0D00>, <encoding.prefix_bin object at 0x00000214993E0DC0>, <encoding.prefix_bin object at 0x00000214993E0DF0>, <encoding.prefix_bin object at 0x00000214993E0E50>, <encoding.prefix_bin object at 0x00000214993E0EE0>, <encoding.prefix_bin object at 0x00000214993E0F10>, <encoding.prefix_bin object at 0x0000021499405070>, <encoding.prefix_bin object at 0x00000214994050D0>, <encoding.prefix_bin object at 0x00000214994055B0>, <encoding.prefix_bin object at 0x0000021499405760>, <encoding.prefix_bin object at 0x0000021499408100>, <encoding.prefix_bin object at 0x0000021499408160>, <encoding.prefix_bin object at 0x00000214994081C0>, <encoding.prefix_bin object at 0x0000021499408520>, <encoding.prefix_bin object at 0x0000021499408580>, <encoding.prefix_bin object at 0x00000214994085E0>, <encoding.prefix_bin object at 0x0000021499408640>, <encoding.prefix_bin object at 0x00000214994086A0>, <encoding.prefix_bin object at 0x00000214994088E0>, <encoding.prefix_bin object at 0x00000214990CF7C0>, <encoding.prefix_bin object at 0x000002149919C130>, <encoding.prefix_bin object at 0x000002149916E6D0>]}, {'Application_74089970': [<encoding.prefix_bin object at 0x00000214995948B0>, <encoding.prefix_bin object at 0x0000021499594970>, <encoding.prefix_bin object at 0x00000214995949A0>, <encoding.prefix_bin object at 0x0000021499594A00>, <encoding.prefix_bin object at 0x0000021499594A90>, <encoding.prefix_bin object at 0x0000021499594AC0>, <encoding.prefix_bin object at 0x0000021499187250>, <encoding.prefix_bin object at 0x0000021499157190>, <encoding.prefix_bin object at 0x00000214990BD8B0>, <encoding.prefix_bin object at 0x000002149916E070>, <encoding.prefix_bin object at 0x00000214990BD970>, <encoding.prefix_bin object at 0x0000021499157460>, <encoding.prefix_bin object at 0x00000214990BC940>, <encoding.prefix_bin object at 0x000002149916ED90>, <encoding.prefix_bin object at 0x00000214990BD1F0>, <encoding.prefix_bin object at 0x00000214990BCAF0>]}, {'Application_1931792282': [<encoding.prefix_bin object at 0x000002149931FCA0>, <encoding.prefix_bin object at 0x000002149931FD60>, <encoding.prefix_bin object at 0x000002149931FD90>, <encoding.prefix_bin object at 0x000002149931FDF0>, <encoding.prefix_bin object at 0x000002149931FE80>, <encoding.prefix_bin object at 0x000002149931FEB0>, <encoding.prefix_bin object at 0x00000214991573A0>, <encoding.prefix_bin object at 0x000002149918C9D0>, <encoding.prefix_bin object at 0x0000021499150F10>, <encoding.prefix_bin object at 0x00000214990CF7F0>, <encoding.prefix_bin object at 0x000002149918C220>, <encoding.prefix_bin object at 0x000002149918C070>, <encoding.prefix_bin object at 0x00000214990CFC10>, <encoding.prefix_bin object at 0x00000214990CF4C0>, <encoding.prefix_bin object at 0x000002149918C8E0>, <encoding.prefix_bin object at 0x0000021499150C70>, <encoding.prefix_bin object at 0x00000214990CFAF0>, <encoding.prefix_bin object at 0x00000214991BF460>, <encoding.prefix_bin object at 0x00000214990BC970>, <encoding.prefix_bin object at 0x0000021499041970>]}, {'Application_1111870538': [<encoding.prefix_bin object at 0x0000021498FF2C40>, <encoding.prefix_bin object at 0x0000021498FF2910>, <encoding.prefix_bin object at 0x0000021498FF2C10>, <encoding.prefix_bin object at 0x0000021498FF2580>, <encoding.prefix_bin object at 0x0000021498FF2A30>, <encoding.prefix_bin object at 0x0000021498FF2430>, <encoding.prefix_bin object at 0x0000021499462490>, <encoding.prefix_bin object at 0x00000214993D3BE0>, <encoding.prefix_bin object at 0x00000214993D3130>, <encoding.prefix_bin object at 0x00000214993D3FD0>, <encoding.prefix_bin object at 0x00000214993E6AF0>, <encoding.prefix_bin object at 0x00000214993E6BB0>, <encoding.prefix_bin object at 0x00000214993E6C10>, <encoding.prefix_bin object at 0x00000214993E6C70>, <encoding.prefix_bin object at 0x0000021499405130>, <encoding.prefix_bin object at 0x0000021499405190>, <encoding.prefix_bin object at 0x00000214994051F0>, <encoding.prefix_bin object at 0x0000021499405250>, <encoding.prefix_bin object at 0x00000214994052B0>, <encoding.prefix_bin object at 0x00000214991B2280>, <encoding.prefix_bin object at 0x000002149919C2E0>, <encoding.prefix_bin object at 0x00000214991A6760>, <encoding.prefix_bin object at 0x00000214991BF5B0>, <encoding.prefix_bin object at 0x000002149902D340>]}, {'Application_1786874274': [<encoding.prefix_bin object at 0x00000214990BC5E0>, <encoding.prefix_bin object at 0x000002149918C250>, <encoding.prefix_bin object at 0x000002149919C730>, <encoding.prefix_bin object at 0x000002149919AE20>, <encoding.prefix_bin object at 0x0000021499182430>, <encoding.prefix_bin object at 0x000002149958E550>, <encoding.prefix_bin object at 0x000002149919CD30>, <encoding.prefix_bin object at 0x000002149902D760>, <encoding.prefix_bin object at 0x000002149958EA30>, <encoding.prefix_bin object at 0x0000021499182250>, <encoding.prefix_bin object at 0x000002149902D880>, <encoding.prefix_bin object at 0x0000021499041430>, <encoding.prefix_bin object at 0x000002149958E5E0>, <encoding.prefix_bin object at 0x0000021499578280>, <encoding.prefix_bin object at 0x000002149919CDC0>, <encoding.prefix_bin object at 0x0000021499041EE0>, <encoding.prefix_bin object at 0x000002149902DE80>, <encoding.prefix_bin object at 0x000002149919AFD0>, <encoding.prefix_bin object at 0x000002149902D640>, <encoding.prefix_bin object at 0x0000021499182070>, <encoding.prefix_bin object at 0x000002149958E970>, <encoding.prefix_bin object at 0x000002149919CC70>, <encoding.prefix_bin object at 0x00000214991A6790>]}, {'Application_1892186837': [<encoding.prefix_bin object at 0x0000021499598160>, <encoding.prefix_bin object at 0x0000021499598220>, <encoding.prefix_bin object at 0x0000021499598250>, <encoding.prefix_bin object at 0x00000214995982B0>, <encoding.prefix_bin object at 0x0000021499598340>, <encoding.prefix_bin object at 0x0000021499598430>, <encoding.prefix_bin object at 0x0000021499598490>, <encoding.prefix_bin object at 0x00000214995984F0>, <encoding.prefix_bin object at 0x0000021499598550>, <encoding.prefix_bin object at 0x0000021499598AF0>, <encoding.prefix_bin object at 0x0000021499598B50>, <encoding.prefix_bin object at 0x000002149934EBE0>, <encoding.prefix_bin object at 0x000002149934EC40>, <encoding.prefix_bin object at 0x0000021497C62B50>, <encoding.prefix_bin object at 0x00000214993345E0>, <encoding.prefix_bin object at 0x00000214993347C0>, <encoding.prefix_bin object at 0x0000021499334820>, <encoding.prefix_bin object at 0x0000021499334880>, <encoding.prefix_bin object at 0x00000214993348E0>, <encoding.prefix_bin object at 0x0000021499334940>, <encoding.prefix_bin object at 0x00000214993349A0>, <encoding.prefix_bin object at 0x0000021499594B20>, <encoding.prefix_bin object at 0x0000021499594B80>, <encoding.prefix_bin object at 0x0000021499594BE0>, <encoding.prefix_bin object at 0x0000021499594C40>, <encoding.prefix_bin object at 0x00000214995786D0>, <encoding.prefix_bin object at 0x00000214991B2490>, <encoding.prefix_bin object at 0x000002149919A160>, <encoding.prefix_bin object at 0x00000214991A6AC0>, <encoding.prefix_bin object at 0x00000214991B2160>, <encoding.prefix_bin object at 0x000002149902D7C0>, <encoding.prefix_bin object at 0x00000214990EAF70>, <encoding.prefix_bin object at 0x0000021499041280>, <encoding.prefix_bin object at 0x00000214991B2820>]}]), 'window_size': 30, 'retraining': 10, 'retraining_count': 1}\n"
     ]
    }
   ],
   "source": [
    "print(training_window.__dict__)"
   ]
  },
  {
   "cell_type": "code",
   "execution_count": 13,
   "id": "e32ae563",
   "metadata": {},
   "outputs": [
    {
     "name": "stdout",
     "output_type": "stream",
     "text": [
      "0.0019837737083435057\n"
     ]
    }
   ],
   "source": [
    "print((end_time-start_time)/60)"
   ]
  },
  {
   "cell_type": "code",
   "execution_count": 46,
   "id": "6cc0200b",
   "metadata": {},
   "outputs": [
    {
     "name": "stdout",
     "output_type": "stream",
     "text": [
      "{'Application_1786874274': [<encoding.prefix_bin object at 0x00000214990BC5E0>, <encoding.prefix_bin object at 0x000002149918C250>, <encoding.prefix_bin object at 0x000002149919C730>, <encoding.prefix_bin object at 0x000002149919AE20>, <encoding.prefix_bin object at 0x0000021499182430>, <encoding.prefix_bin object at 0x000002149958E550>, <encoding.prefix_bin object at 0x000002149919CD30>, <encoding.prefix_bin object at 0x000002149902D760>, <encoding.prefix_bin object at 0x000002149958EA30>, <encoding.prefix_bin object at 0x0000021499182250>, <encoding.prefix_bin object at 0x000002149902D880>, <encoding.prefix_bin object at 0x0000021499041430>, <encoding.prefix_bin object at 0x000002149958E5E0>, <encoding.prefix_bin object at 0x0000021499578280>, <encoding.prefix_bin object at 0x000002149919CDC0>, <encoding.prefix_bin object at 0x0000021499041EE0>, <encoding.prefix_bin object at 0x000002149902DE80>, <encoding.prefix_bin object at 0x000002149919AFD0>, <encoding.prefix_bin object at 0x000002149902D640>, <encoding.prefix_bin object at 0x0000021499182070>, <encoding.prefix_bin object at 0x000002149958E970>, <encoding.prefix_bin object at 0x000002149919CC70>, <encoding.prefix_bin object at 0x00000214991A6790>]}\n"
     ]
    }
   ],
   "source": [
    "print(resultdict)"
   ]
  },
  {
   "cell_type": "code",
   "execution_count": 25,
   "id": "2f3fac52",
   "metadata": {},
   "outputs": [],
   "source": [
    "resultdict2 ={}"
   ]
  },
  {
   "cell_type": "code",
   "execution_count": 26,
   "id": "06a5681d",
   "metadata": {},
   "outputs": [],
   "source": [
    "for t in resultdict.keys():\n",
    "    resultdict2[t] ={}\n",
    "    for x in resultdict[t]:\n",
    "        resultdict2[t]['Event_%s'%(x.prefix_length)] =[x.predicted, x.true_label]\n"
   ]
  },
  {
   "cell_type": "code",
   "execution_count": 27,
   "id": "ccefdb52",
   "metadata": {},
   "outputs": [
    {
     "name": "stdout",
     "output_type": "stream",
     "text": [
      "dict_keys(['Application_369105792', 'Application_1754943309', 'Application_2002564265', 'Application_1674281629', 'Application_1691306052', 'Application_1363980603', 'Application_74089970', 'Application_1931792282', 'Application_1111870538', 'Application_1786874274', 'Application_1892186837', 'Application_1096831814', 'Application_1059184025', 'Application_1251541081', 'Application_1299976284', 'Application_1266995739', 'Application_662386389', 'Application_1878239836', 'Application_546206358', 'Application_1120819670', 'Application_1962860870', 'Application_842511489', 'Application_1363165385', 'Application_1210637698', 'Application_1806387393', 'Application_2118101879', 'Application_167944225', 'Application_1696031128', 'Application_1413308979', 'Application_829714042', 'Application_1428307326', 'Application_821425679', 'Application_323012882', 'Application_1310063638', 'Application_275338795', 'Application_2055987002', 'Application_822724921', 'Application_1436618564', 'Application_1979284304', 'Application_798605556', 'Application_987262285', 'Application_1471099537', 'Application_1603124379', 'Application_2005183817', 'Application_1699757505', 'Application_1300843234', 'Application_493034835', 'Application_584603670', 'Application_180547487', 'Application_909100209', 'Application_299986859', 'Application_709929024', 'Application_1462709587', 'Application_1859638703', 'Application_1386615618', 'Application_19324985', 'Application_224758141', 'Application_864903752', 'Application_948906324', 'Application_395903076', 'Application_1905015342', 'Application_243155734', 'Application_1898882436', 'Application_1812038441', 'Application_1746133767', 'Application_58755651', 'Application_1506426720', 'Application_2063036518', 'Application_220286199', 'Application_1290239114', 'Application_111540759', 'Application_562322973', 'Application_2034562541', 'Application_2078253178', 'Application_843590096', 'Application_2078020265', 'Application_1846626914', 'Application_525275343', 'Application_1513129576', 'Application_2062932311', 'Application_1943199357', 'Application_813133375', 'Application_1195396325', 'Application_1277100580', 'Application_123754331', 'Application_1845547664', 'Application_1259601023', 'Application_122336824', 'Application_505474597', 'Application_1765204099', 'Application_923808413', 'Application_2012524282', 'Application_346636726', 'Application_190984886', 'Application_144264435'])\n"
     ]
    }
   ],
   "source": [
    "    \n",
    "print(resultdict2.keys())\n"
   ]
  },
  {
   "cell_type": "code",
   "execution_count": 85,
   "id": "93d04960",
   "metadata": {},
   "outputs": [
    {
     "name": "stdout",
     "output_type": "stream",
     "text": [
      "27\n"
     ]
    }
   ],
   "source": [
    "importlib.reload(sliding_window)\n",
    "pw_window = training_window.prefix_wise_window()"
   ]
  },
  {
   "cell_type": "code",
   "execution_count": 28,
   "id": "0b8ec8df",
   "metadata": {},
   "outputs": [],
   "source": [
    "import pickle\n",
    "\n",
    "with open('result_rf.pkl', 'wb') as fp:\n",
    "    pickle.dump(resultdict2, fp)"
   ]
  },
  {
   "cell_type": "code",
   "execution_count": 103,
   "id": "18c7088d",
   "metadata": {},
   "outputs": [
    {
     "name": "stdout",
     "output_type": "stream",
     "text": [
      "['duration_1' 'cumduration_1' 'activity_1 A_Create Application'\n",
      " 'resource_1 User_5' 'duration_2' 'cumduration_2'\n",
      " 'activity_2 W_Complete application' 'resource_2 User_5'\n",
      " 'resource_1 User_1' 'activity_2 A_Submitted' 'resource_2 User_1'\n",
      " 'resource_1 User_47' 'resource_2 User_47' 'resource_1 User_3'\n",
      " 'activity_2 A_Concept' 'resource_2 User_3' 'resource_1 User_28'\n",
      " 'resource_2 User_28' 'resource_1 User_23' 'resource_2 User_23'\n",
      " 'resource_1 User_16' 'resource_2 User_16' 'resource_1 User_76'\n",
      " 'resource_2 User_76' 'resource_1 User_45' 'resource_2 User_45'\n",
      " 'resource_1 User_37' 'resource_2 User_37' 'resource_1 User_52'\n",
      " 'resource_2 User_52' 'resource_1 User_4' 'resource_2 User_4'\n",
      " 'resource_1 User_10' 'resource_2 User_10' 'resource_1 User_51'\n",
      " 'resource_2 User_51']\n"
     ]
    }
   ],
   "source": [
    "print(pw_window['window_2'][0].columns.values)"
   ]
  },
  {
   "cell_type": "code",
   "execution_count": 99,
   "id": "7a0439d7",
   "metadata": {},
   "outputs": [],
   "source": [
    "training_models = training_stage(training_window, training_models)"
   ]
  },
  {
   "cell_type": "code",
   "execution_count": 68,
   "id": "0c453149",
   "metadata": {},
   "outputs": [
    {
     "name": "stdout",
     "output_type": "stream",
     "text": [
      "['A_Accepted' 'O_Create Offer' 'O_Created' 'W_Complete application']\n",
      "[[0.06 0.   0.91 0.03]]\n",
      "['O_Created']\n"
     ]
    }
   ],
   "source": [
    "print(clf.classes_)\n",
    "print(clf.predict_proba(x_train.loc[19:]))\n",
    "print(clf.predict(x_train.loc[19:]))"
   ]
  },
  {
   "cell_type": "code",
   "execution_count": 62,
   "id": "27417bfd",
   "metadata": {},
   "outputs": [
    {
     "name": "stdout",
     "output_type": "stream",
     "text": [
      "1.0\n"
     ]
    }
   ],
   "source": [
    "print(clf.score(x_train,y_train))"
   ]
  }
 ],
 "metadata": {
  "kernelspec": {
   "display_name": "Python 3 (ipykernel)",
   "language": "python",
   "name": "python3"
  },
  "language_info": {
   "codemirror_mode": {
    "name": "ipython",
    "version": 3
   },
   "file_extension": ".py",
   "mimetype": "text/x-python",
   "name": "python",
   "nbconvert_exporter": "python",
   "pygments_lexer": "ipython3",
   "version": "3.9.5"
  }
 },
 "nbformat": 4,
 "nbformat_minor": 5
}
