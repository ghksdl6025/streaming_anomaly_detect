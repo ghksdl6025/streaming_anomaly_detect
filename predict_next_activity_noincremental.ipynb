{
 "cells": [
  {
   "cell_type": "code",
   "execution_count": 176,
   "id": "44387976",
   "metadata": {},
   "outputs": [
    {
     "data": {
      "text/plain": [
       "<module 'sliding_window' from 'C:\\\\Users\\\\suhwanlee\\\\Desktop\\\\project\\\\streaming_anomaly_detect\\\\sliding_window.py'>"
      ]
     },
     "execution_count": 176,
     "metadata": {},
     "output_type": "execute_result"
    }
   ],
   "source": [
    "import pandas as pd\n",
    "from river import stream,tree,metrics\n",
    "import utils\n",
    "from encoding import prefix_bin\n",
    "import numpy as np\n",
    "from sklearn.metrics import classification_report, accuracy_score\n",
    "import os\n",
    "import sliding_window\n",
    "from sklearn.ensemble import RandomForestClassifier\n",
    "from sklearn.tree import DecisionTreeClassifier\n",
    "import importlib\n",
    "importlib.reload(sliding_window)"
   ]
  },
  {
   "cell_type": "code",
   "execution_count": 185,
   "id": "5f424c5a",
   "metadata": {},
   "outputs": [],
   "source": [
    "dataset = stream.iter_csv(\n",
    "            './bpic17_length28.csv',\n",
    "            )\n",
    "\n",
    "totallength = len(list(dataset))"
   ]
  },
  {
   "cell_type": "code",
   "execution_count": 186,
   "id": "bd08beef",
   "metadata": {},
   "outputs": [],
   "source": [
    "dataset = stream.iter_csv(\n",
    "            './bpic17_length28.csv',\n",
    "#             drop=['Complete Timestamp'],\n",
    "            )\n",
    "enctype = 'Index-base'"
   ]
  },
  {
   "cell_type": "code",
   "execution_count": 187,
   "id": "b7654d96",
   "metadata": {},
   "outputs": [],
   "source": [
    "key_pair = {\n",
    "# 'Case ID':'caseid',\n",
    "# 'Activity':'activity',\n",
    "# 'Resource':'resource',\n",
    "# 'Complete Timestamp':'ts',\n",
    "}\n",
    "catatars= ['activity','resource']\n",
    "\n",
    "case_dict ={}\n",
    "training_models ={}\n",
    "\n",
    "casecount = 0\n",
    "rowcounter = 0\n",
    "resultdict ={}\n",
    "acc_dict ={}\n",
    "\n",
    "prediction_result = {}\n",
    "graceperiod_finish=0\n",
    "finishedcases = set()"
   ]
  },
  {
   "cell_type": "code",
   "execution_count": 188,
   "id": "0f457584",
   "metadata": {},
   "outputs": [],
   "source": [
    "# Sliding window for training setting\n",
    "window_size = 20\n",
    "training_window = sliding_window.training_window(window_size)\n"
   ]
  },
  {
   "cell_type": "code",
   "execution_count": 189,
   "id": "2bef05fd",
   "metadata": {},
   "outputs": [],
   "source": [
    "def display_progress(row_counting, total_length, interval=500):\n",
    "    if rowcounter%interval == 0:\n",
    "        print(round(rowcounter*100/totallength,2) ,'%', 'Case finished: %s'%(casecount))"
   ]
  },
  {
   "cell_type": "code",
   "execution_count": 190,
   "id": "9dc27209",
   "metadata": {},
   "outputs": [],
   "source": [
    "def training_stage(window, training_models):\n",
    "    '''\n",
    "    Manage training stage of streaming anomaly detection\n",
    "    ----------\n",
    "    Parameters\n",
    "    window: class training_window\n",
    "        Sliding window with training data\n",
    "    training_models: dict\n",
    "        Trained detector by prefix stored in. Default is randomforest\n",
    "    ----------\n",
    "    Return\n",
    "    training_models\n",
    "    '''\n",
    "    pw_window = window.prefix_wise_window()\n",
    "    for x in pw_window:\n",
    "        clf  = DecisionTreeClassifier(max_depth=10)\n",
    "        clf.fit(pw_window[x][0],pw_window[x][1])\n",
    "        if 'detector_%s'%(x) not in training_models:\n",
    "            training_models['detector_%s'%(x)] =[0,0]\n",
    "        training_models['detector_%s'%(x)][0] += 1\n",
    "        training_models['detector_%s'%(x)][1] = clf\n",
    "    return training_models"
   ]
  },
  {
   "cell_type": "code",
   "execution_count": 191,
   "id": "ebdc5a68",
   "metadata": {},
   "outputs": [
    {
     "name": "stdout",
     "output_type": "stream",
     "text": [
      "0.0 % Case finished: 0\n",
      "6.22 % Case finished: 8\n"
     ]
    },
    {
     "ename": "KeyboardInterrupt",
     "evalue": "",
     "output_type": "error",
     "traceback": [
      "\u001b[1;31m---------------------------------------------------------------------------\u001b[0m",
      "\u001b[1;31mKeyboardInterrupt\u001b[0m                         Traceback (most recent call last)",
      "\u001b[1;32mC:\\Users\\SUHWAN~1\\AppData\\Local\\Temp/ipykernel_15192/1621303399.py\u001b[0m in \u001b[0;36m<module>\u001b[1;34m\u001b[0m\n\u001b[0;32m     37\u001b[0m     \u001b[1;32mif\u001b[0m \u001b[0mx\u001b[0m\u001b[1;33m[\u001b[0m\u001b[1;34m'activity'\u001b[0m\u001b[1;33m]\u001b[0m \u001b[1;33m==\u001b[0m \u001b[1;34m'End'\u001b[0m\u001b[1;33m:\u001b[0m\u001b[1;33m\u001b[0m\u001b[1;33m\u001b[0m\u001b[0m\n\u001b[0;32m     38\u001b[0m         \u001b[0mtraining_window\u001b[0m\u001b[1;33m.\u001b[0m\u001b[0mupdate_window\u001b[0m\u001b[1;33m(\u001b[0m\u001b[1;33m{\u001b[0m\u001b[0mcaseid\u001b[0m\u001b[1;33m:\u001b[0m \u001b[0mcase_dict\u001b[0m\u001b[1;33m[\u001b[0m\u001b[0mcaseid\u001b[0m\u001b[1;33m]\u001b[0m\u001b[1;33m}\u001b[0m\u001b[1;33m)\u001b[0m\u001b[1;33m\u001b[0m\u001b[1;33m\u001b[0m\u001b[0m\n\u001b[1;32m---> 39\u001b[1;33m         \u001b[0mtraining_models\u001b[0m \u001b[1;33m=\u001b[0m \u001b[0mtraining_stage\u001b[0m\u001b[1;33m(\u001b[0m\u001b[0mtraining_window\u001b[0m\u001b[1;33m,\u001b[0m \u001b[0mtraining_models\u001b[0m\u001b[1;33m)\u001b[0m\u001b[1;33m\u001b[0m\u001b[1;33m\u001b[0m\u001b[0m\n\u001b[0m\u001b[0;32m     40\u001b[0m         \u001b[0mcase_dict\u001b[0m\u001b[1;33m.\u001b[0m\u001b[0mpop\u001b[0m\u001b[1;33m(\u001b[0m\u001b[0mcaseid\u001b[0m\u001b[1;33m)\u001b[0m\u001b[1;33m\u001b[0m\u001b[1;33m\u001b[0m\u001b[0m\n\u001b[0;32m     41\u001b[0m         \u001b[0mcasecount\u001b[0m \u001b[1;33m+=\u001b[0m\u001b[1;36m1\u001b[0m\u001b[1;33m\u001b[0m\u001b[1;33m\u001b[0m\u001b[0m\n",
      "\u001b[1;32mC:\\Users\\SUHWAN~1\\AppData\\Local\\Temp/ipykernel_15192/1867469560.py\u001b[0m in \u001b[0;36mtraining_stage\u001b[1;34m(window, training_models)\u001b[0m\n\u001b[0;32m     15\u001b[0m     \u001b[1;32mfor\u001b[0m \u001b[0mx\u001b[0m \u001b[1;32min\u001b[0m \u001b[0mpw_window\u001b[0m\u001b[1;33m:\u001b[0m\u001b[1;33m\u001b[0m\u001b[1;33m\u001b[0m\u001b[0m\n\u001b[0;32m     16\u001b[0m         \u001b[0mclf\u001b[0m  \u001b[1;33m=\u001b[0m \u001b[0mDecisionTreeClassifier\u001b[0m\u001b[1;33m(\u001b[0m\u001b[0mmax_depth\u001b[0m\u001b[1;33m=\u001b[0m\u001b[1;36m10\u001b[0m\u001b[1;33m)\u001b[0m\u001b[1;33m\u001b[0m\u001b[1;33m\u001b[0m\u001b[0m\n\u001b[1;32m---> 17\u001b[1;33m         \u001b[0mclf\u001b[0m\u001b[1;33m.\u001b[0m\u001b[0mfit\u001b[0m\u001b[1;33m(\u001b[0m\u001b[0mpw_window\u001b[0m\u001b[1;33m[\u001b[0m\u001b[0mx\u001b[0m\u001b[1;33m]\u001b[0m\u001b[1;33m[\u001b[0m\u001b[1;36m0\u001b[0m\u001b[1;33m]\u001b[0m\u001b[1;33m,\u001b[0m\u001b[0mpw_window\u001b[0m\u001b[1;33m[\u001b[0m\u001b[0mx\u001b[0m\u001b[1;33m]\u001b[0m\u001b[1;33m[\u001b[0m\u001b[1;36m1\u001b[0m\u001b[1;33m]\u001b[0m\u001b[1;33m)\u001b[0m\u001b[1;33m\u001b[0m\u001b[1;33m\u001b[0m\u001b[0m\n\u001b[0m\u001b[0;32m     18\u001b[0m         \u001b[1;32mif\u001b[0m \u001b[1;34m'detector_%s'\u001b[0m\u001b[1;33m%\u001b[0m\u001b[1;33m(\u001b[0m\u001b[0mx\u001b[0m\u001b[1;33m)\u001b[0m \u001b[1;32mnot\u001b[0m \u001b[1;32min\u001b[0m \u001b[0mtraining_models\u001b[0m\u001b[1;33m:\u001b[0m\u001b[1;33m\u001b[0m\u001b[1;33m\u001b[0m\u001b[0m\n\u001b[0;32m     19\u001b[0m             \u001b[0mtraining_models\u001b[0m\u001b[1;33m[\u001b[0m\u001b[1;34m'detector_%s'\u001b[0m\u001b[1;33m%\u001b[0m\u001b[1;33m(\u001b[0m\u001b[0mx\u001b[0m\u001b[1;33m)\u001b[0m\u001b[1;33m]\u001b[0m \u001b[1;33m=\u001b[0m\u001b[1;33m[\u001b[0m\u001b[1;36m0\u001b[0m\u001b[1;33m,\u001b[0m\u001b[1;36m0\u001b[0m\u001b[1;33m]\u001b[0m\u001b[1;33m\u001b[0m\u001b[1;33m\u001b[0m\u001b[0m\n",
      "\u001b[1;32mc:\\python\\lib\\site-packages\\sklearn\\tree\\_classes.py\u001b[0m in \u001b[0;36mfit\u001b[1;34m(self, X, y, sample_weight, check_input, X_idx_sorted)\u001b[0m\n\u001b[0;32m    901\u001b[0m         \"\"\"\n\u001b[0;32m    902\u001b[0m \u001b[1;33m\u001b[0m\u001b[0m\n\u001b[1;32m--> 903\u001b[1;33m         super().fit(\n\u001b[0m\u001b[0;32m    904\u001b[0m             \u001b[0mX\u001b[0m\u001b[1;33m,\u001b[0m \u001b[0my\u001b[0m\u001b[1;33m,\u001b[0m\u001b[1;33m\u001b[0m\u001b[1;33m\u001b[0m\u001b[0m\n\u001b[0;32m    905\u001b[0m             \u001b[0msample_weight\u001b[0m\u001b[1;33m=\u001b[0m\u001b[0msample_weight\u001b[0m\u001b[1;33m,\u001b[0m\u001b[1;33m\u001b[0m\u001b[1;33m\u001b[0m\u001b[0m\n",
      "\u001b[1;32mc:\\python\\lib\\site-packages\\sklearn\\tree\\_classes.py\u001b[0m in \u001b[0;36mfit\u001b[1;34m(self, X, y, sample_weight, check_input, X_idx_sorted)\u001b[0m\n\u001b[0;32m    155\u001b[0m             \u001b[0mcheck_X_params\u001b[0m \u001b[1;33m=\u001b[0m \u001b[0mdict\u001b[0m\u001b[1;33m(\u001b[0m\u001b[0mdtype\u001b[0m\u001b[1;33m=\u001b[0m\u001b[0mDTYPE\u001b[0m\u001b[1;33m,\u001b[0m \u001b[0maccept_sparse\u001b[0m\u001b[1;33m=\u001b[0m\u001b[1;34m\"csc\"\u001b[0m\u001b[1;33m)\u001b[0m\u001b[1;33m\u001b[0m\u001b[1;33m\u001b[0m\u001b[0m\n\u001b[0;32m    156\u001b[0m             \u001b[0mcheck_y_params\u001b[0m \u001b[1;33m=\u001b[0m \u001b[0mdict\u001b[0m\u001b[1;33m(\u001b[0m\u001b[0mensure_2d\u001b[0m\u001b[1;33m=\u001b[0m\u001b[1;32mFalse\u001b[0m\u001b[1;33m,\u001b[0m \u001b[0mdtype\u001b[0m\u001b[1;33m=\u001b[0m\u001b[1;32mNone\u001b[0m\u001b[1;33m)\u001b[0m\u001b[1;33m\u001b[0m\u001b[1;33m\u001b[0m\u001b[0m\n\u001b[1;32m--> 157\u001b[1;33m             X, y = self._validate_data(X, y,\n\u001b[0m\u001b[0;32m    158\u001b[0m                                        validate_separately=(check_X_params,\n\u001b[0;32m    159\u001b[0m                                                             check_y_params))\n",
      "\u001b[1;32mc:\\python\\lib\\site-packages\\sklearn\\base.py\u001b[0m in \u001b[0;36m_validate_data\u001b[1;34m(self, X, y, reset, validate_separately, **check_params)\u001b[0m\n\u001b[0;32m    428\u001b[0m                 \u001b[1;31m# :(\u001b[0m\u001b[1;33m\u001b[0m\u001b[1;33m\u001b[0m\u001b[1;33m\u001b[0m\u001b[0m\n\u001b[0;32m    429\u001b[0m                 \u001b[0mcheck_X_params\u001b[0m\u001b[1;33m,\u001b[0m \u001b[0mcheck_y_params\u001b[0m \u001b[1;33m=\u001b[0m \u001b[0mvalidate_separately\u001b[0m\u001b[1;33m\u001b[0m\u001b[1;33m\u001b[0m\u001b[0m\n\u001b[1;32m--> 430\u001b[1;33m                 \u001b[0mX\u001b[0m \u001b[1;33m=\u001b[0m \u001b[0mcheck_array\u001b[0m\u001b[1;33m(\u001b[0m\u001b[0mX\u001b[0m\u001b[1;33m,\u001b[0m \u001b[1;33m**\u001b[0m\u001b[0mcheck_X_params\u001b[0m\u001b[1;33m)\u001b[0m\u001b[1;33m\u001b[0m\u001b[1;33m\u001b[0m\u001b[0m\n\u001b[0m\u001b[0;32m    431\u001b[0m                 \u001b[0my\u001b[0m \u001b[1;33m=\u001b[0m \u001b[0mcheck_array\u001b[0m\u001b[1;33m(\u001b[0m\u001b[0my\u001b[0m\u001b[1;33m,\u001b[0m \u001b[1;33m**\u001b[0m\u001b[0mcheck_y_params\u001b[0m\u001b[1;33m)\u001b[0m\u001b[1;33m\u001b[0m\u001b[1;33m\u001b[0m\u001b[0m\n\u001b[0;32m    432\u001b[0m             \u001b[1;32melse\u001b[0m\u001b[1;33m:\u001b[0m\u001b[1;33m\u001b[0m\u001b[1;33m\u001b[0m\u001b[0m\n",
      "\u001b[1;32mc:\\python\\lib\\site-packages\\sklearn\\utils\\validation.py\u001b[0m in \u001b[0;36minner_f\u001b[1;34m(*args, **kwargs)\u001b[0m\n\u001b[0;32m     61\u001b[0m             \u001b[0mextra_args\u001b[0m \u001b[1;33m=\u001b[0m \u001b[0mlen\u001b[0m\u001b[1;33m(\u001b[0m\u001b[0margs\u001b[0m\u001b[1;33m)\u001b[0m \u001b[1;33m-\u001b[0m \u001b[0mlen\u001b[0m\u001b[1;33m(\u001b[0m\u001b[0mall_args\u001b[0m\u001b[1;33m)\u001b[0m\u001b[1;33m\u001b[0m\u001b[1;33m\u001b[0m\u001b[0m\n\u001b[0;32m     62\u001b[0m             \u001b[1;32mif\u001b[0m \u001b[0mextra_args\u001b[0m \u001b[1;33m<=\u001b[0m \u001b[1;36m0\u001b[0m\u001b[1;33m:\u001b[0m\u001b[1;33m\u001b[0m\u001b[1;33m\u001b[0m\u001b[0m\n\u001b[1;32m---> 63\u001b[1;33m                 \u001b[1;32mreturn\u001b[0m \u001b[0mf\u001b[0m\u001b[1;33m(\u001b[0m\u001b[1;33m*\u001b[0m\u001b[0margs\u001b[0m\u001b[1;33m,\u001b[0m \u001b[1;33m**\u001b[0m\u001b[0mkwargs\u001b[0m\u001b[1;33m)\u001b[0m\u001b[1;33m\u001b[0m\u001b[1;33m\u001b[0m\u001b[0m\n\u001b[0m\u001b[0;32m     64\u001b[0m \u001b[1;33m\u001b[0m\u001b[0m\n\u001b[0;32m     65\u001b[0m             \u001b[1;31m# extra_args > 0\u001b[0m\u001b[1;33m\u001b[0m\u001b[1;33m\u001b[0m\u001b[1;33m\u001b[0m\u001b[0m\n",
      "\u001b[1;32mc:\\python\\lib\\site-packages\\sklearn\\utils\\validation.py\u001b[0m in \u001b[0;36mcheck_array\u001b[1;34m(array, accept_sparse, accept_large_sparse, dtype, order, copy, force_all_finite, ensure_2d, allow_nd, ensure_min_samples, ensure_min_features, estimator)\u001b[0m\n\u001b[0;32m    671\u001b[0m                     \u001b[0marray\u001b[0m \u001b[1;33m=\u001b[0m \u001b[0marray\u001b[0m\u001b[1;33m.\u001b[0m\u001b[0mastype\u001b[0m\u001b[1;33m(\u001b[0m\u001b[0mdtype\u001b[0m\u001b[1;33m,\u001b[0m \u001b[0mcasting\u001b[0m\u001b[1;33m=\u001b[0m\u001b[1;34m\"unsafe\"\u001b[0m\u001b[1;33m,\u001b[0m \u001b[0mcopy\u001b[0m\u001b[1;33m=\u001b[0m\u001b[1;32mFalse\u001b[0m\u001b[1;33m)\u001b[0m\u001b[1;33m\u001b[0m\u001b[1;33m\u001b[0m\u001b[0m\n\u001b[0;32m    672\u001b[0m                 \u001b[1;32melse\u001b[0m\u001b[1;33m:\u001b[0m\u001b[1;33m\u001b[0m\u001b[1;33m\u001b[0m\u001b[0m\n\u001b[1;32m--> 673\u001b[1;33m                     \u001b[0marray\u001b[0m \u001b[1;33m=\u001b[0m \u001b[0mnp\u001b[0m\u001b[1;33m.\u001b[0m\u001b[0masarray\u001b[0m\u001b[1;33m(\u001b[0m\u001b[0marray\u001b[0m\u001b[1;33m,\u001b[0m \u001b[0morder\u001b[0m\u001b[1;33m=\u001b[0m\u001b[0morder\u001b[0m\u001b[1;33m,\u001b[0m \u001b[0mdtype\u001b[0m\u001b[1;33m=\u001b[0m\u001b[0mdtype\u001b[0m\u001b[1;33m)\u001b[0m\u001b[1;33m\u001b[0m\u001b[1;33m\u001b[0m\u001b[0m\n\u001b[0m\u001b[0;32m    674\u001b[0m             \u001b[1;32mexcept\u001b[0m \u001b[0mComplexWarning\u001b[0m \u001b[1;32mas\u001b[0m \u001b[0mcomplex_warning\u001b[0m\u001b[1;33m:\u001b[0m\u001b[1;33m\u001b[0m\u001b[1;33m\u001b[0m\u001b[0m\n\u001b[0;32m    675\u001b[0m                 raise ValueError(\"Complex data not supported\\n\"\n",
      "\u001b[1;32mc:\\python\\lib\\site-packages\\numpy\\core\\_asarray.py\u001b[0m in \u001b[0;36masarray\u001b[1;34m(a, dtype, order, like)\u001b[0m\n\u001b[0;32m    100\u001b[0m         \u001b[1;32mreturn\u001b[0m \u001b[0m_asarray_with_like\u001b[0m\u001b[1;33m(\u001b[0m\u001b[0ma\u001b[0m\u001b[1;33m,\u001b[0m \u001b[0mdtype\u001b[0m\u001b[1;33m=\u001b[0m\u001b[0mdtype\u001b[0m\u001b[1;33m,\u001b[0m \u001b[0morder\u001b[0m\u001b[1;33m=\u001b[0m\u001b[0morder\u001b[0m\u001b[1;33m,\u001b[0m \u001b[0mlike\u001b[0m\u001b[1;33m=\u001b[0m\u001b[0mlike\u001b[0m\u001b[1;33m)\u001b[0m\u001b[1;33m\u001b[0m\u001b[1;33m\u001b[0m\u001b[0m\n\u001b[0;32m    101\u001b[0m \u001b[1;33m\u001b[0m\u001b[0m\n\u001b[1;32m--> 102\u001b[1;33m     \u001b[1;32mreturn\u001b[0m \u001b[0marray\u001b[0m\u001b[1;33m(\u001b[0m\u001b[0ma\u001b[0m\u001b[1;33m,\u001b[0m \u001b[0mdtype\u001b[0m\u001b[1;33m,\u001b[0m \u001b[0mcopy\u001b[0m\u001b[1;33m=\u001b[0m\u001b[1;32mFalse\u001b[0m\u001b[1;33m,\u001b[0m \u001b[0morder\u001b[0m\u001b[1;33m=\u001b[0m\u001b[0morder\u001b[0m\u001b[1;33m)\u001b[0m\u001b[1;33m\u001b[0m\u001b[1;33m\u001b[0m\u001b[0m\n\u001b[0m\u001b[0;32m    103\u001b[0m \u001b[1;33m\u001b[0m\u001b[0m\n\u001b[0;32m    104\u001b[0m \u001b[1;33m\u001b[0m\u001b[0m\n",
      "\u001b[1;32mc:\\python\\lib\\site-packages\\pandas\\core\\generic.py\u001b[0m in \u001b[0;36m__array__\u001b[1;34m(self, dtype)\u001b[0m\n\u001b[0;32m   1897\u001b[0m \u001b[1;33m\u001b[0m\u001b[0m\n\u001b[0;32m   1898\u001b[0m     \u001b[1;32mdef\u001b[0m \u001b[0m__array__\u001b[0m\u001b[1;33m(\u001b[0m\u001b[0mself\u001b[0m\u001b[1;33m,\u001b[0m \u001b[0mdtype\u001b[0m\u001b[1;33m=\u001b[0m\u001b[1;32mNone\u001b[0m\u001b[1;33m)\u001b[0m \u001b[1;33m->\u001b[0m \u001b[0mnp\u001b[0m\u001b[1;33m.\u001b[0m\u001b[0mndarray\u001b[0m\u001b[1;33m:\u001b[0m\u001b[1;33m\u001b[0m\u001b[1;33m\u001b[0m\u001b[0m\n\u001b[1;32m-> 1899\u001b[1;33m         \u001b[1;32mreturn\u001b[0m \u001b[0mnp\u001b[0m\u001b[1;33m.\u001b[0m\u001b[0masarray\u001b[0m\u001b[1;33m(\u001b[0m\u001b[0mself\u001b[0m\u001b[1;33m.\u001b[0m\u001b[0m_values\u001b[0m\u001b[1;33m,\u001b[0m \u001b[0mdtype\u001b[0m\u001b[1;33m=\u001b[0m\u001b[0mdtype\u001b[0m\u001b[1;33m)\u001b[0m\u001b[1;33m\u001b[0m\u001b[1;33m\u001b[0m\u001b[0m\n\u001b[0m\u001b[0;32m   1900\u001b[0m \u001b[1;33m\u001b[0m\u001b[0m\n\u001b[0;32m   1901\u001b[0m     def __array_wrap__(\n",
      "\u001b[1;32mc:\\python\\lib\\site-packages\\pandas\\core\\generic.py\u001b[0m in \u001b[0;36m_values\u001b[1;34m(self)\u001b[0m\n\u001b[0;32m   5676\u001b[0m     \u001b[1;32mdef\u001b[0m \u001b[0m_values\u001b[0m\u001b[1;33m(\u001b[0m\u001b[0mself\u001b[0m\u001b[1;33m)\u001b[0m \u001b[1;33m->\u001b[0m \u001b[0mnp\u001b[0m\u001b[1;33m.\u001b[0m\u001b[0mndarray\u001b[0m\u001b[1;33m:\u001b[0m\u001b[1;33m\u001b[0m\u001b[1;33m\u001b[0m\u001b[0m\n\u001b[0;32m   5677\u001b[0m         \u001b[1;34m\"\"\"internal implementation\"\"\"\u001b[0m\u001b[1;33m\u001b[0m\u001b[1;33m\u001b[0m\u001b[0m\n\u001b[1;32m-> 5678\u001b[1;33m         \u001b[1;32mreturn\u001b[0m \u001b[0mself\u001b[0m\u001b[1;33m.\u001b[0m\u001b[0mvalues\u001b[0m\u001b[1;33m\u001b[0m\u001b[1;33m\u001b[0m\u001b[0m\n\u001b[0m\u001b[0;32m   5679\u001b[0m \u001b[1;33m\u001b[0m\u001b[0m\n\u001b[0;32m   5680\u001b[0m     \u001b[1;33m@\u001b[0m\u001b[0mproperty\u001b[0m\u001b[1;33m\u001b[0m\u001b[1;33m\u001b[0m\u001b[0m\n",
      "\u001b[1;32mc:\\python\\lib\\site-packages\\pandas\\core\\generic.py\u001b[0m in \u001b[0;36mvalues\u001b[1;34m(self)\u001b[0m\n\u001b[0;32m   5671\u001b[0m         \"\"\"\n\u001b[0;32m   5672\u001b[0m         \u001b[0mself\u001b[0m\u001b[1;33m.\u001b[0m\u001b[0m_consolidate_inplace\u001b[0m\u001b[1;33m(\u001b[0m\u001b[1;33m)\u001b[0m\u001b[1;33m\u001b[0m\u001b[1;33m\u001b[0m\u001b[0m\n\u001b[1;32m-> 5673\u001b[1;33m         \u001b[1;32mreturn\u001b[0m \u001b[0mself\u001b[0m\u001b[1;33m.\u001b[0m\u001b[0m_mgr\u001b[0m\u001b[1;33m.\u001b[0m\u001b[0mas_array\u001b[0m\u001b[1;33m(\u001b[0m\u001b[0mtranspose\u001b[0m\u001b[1;33m=\u001b[0m\u001b[0mself\u001b[0m\u001b[1;33m.\u001b[0m\u001b[0m_AXIS_REVERSED\u001b[0m\u001b[1;33m)\u001b[0m\u001b[1;33m\u001b[0m\u001b[1;33m\u001b[0m\u001b[0m\n\u001b[0m\u001b[0;32m   5674\u001b[0m \u001b[1;33m\u001b[0m\u001b[0m\n\u001b[0;32m   5675\u001b[0m     \u001b[1;33m@\u001b[0m\u001b[0mproperty\u001b[0m\u001b[1;33m\u001b[0m\u001b[1;33m\u001b[0m\u001b[0m\n",
      "\u001b[1;32mc:\\python\\lib\\site-packages\\pandas\\core\\internals\\managers.py\u001b[0m in \u001b[0;36mas_array\u001b[1;34m(self, transpose, dtype, copy, na_value)\u001b[0m\n\u001b[0;32m    870\u001b[0m                     \u001b[0marr\u001b[0m \u001b[1;33m=\u001b[0m \u001b[0marr\u001b[0m\u001b[1;33m.\u001b[0m\u001b[0mastype\u001b[0m\u001b[1;33m(\u001b[0m\u001b[0mdtype\u001b[0m\u001b[1;33m,\u001b[0m \u001b[0mcopy\u001b[0m\u001b[1;33m=\u001b[0m\u001b[1;32mFalse\u001b[0m\u001b[1;33m)\u001b[0m\u001b[1;33m\u001b[0m\u001b[1;33m\u001b[0m\u001b[0m\n\u001b[0;32m    871\u001b[0m         \u001b[1;32melse\u001b[0m\u001b[1;33m:\u001b[0m\u001b[1;33m\u001b[0m\u001b[1;33m\u001b[0m\u001b[0m\n\u001b[1;32m--> 872\u001b[1;33m             \u001b[0marr\u001b[0m \u001b[1;33m=\u001b[0m \u001b[0mself\u001b[0m\u001b[1;33m.\u001b[0m\u001b[0m_interleave\u001b[0m\u001b[1;33m(\u001b[0m\u001b[0mdtype\u001b[0m\u001b[1;33m=\u001b[0m\u001b[0mdtype\u001b[0m\u001b[1;33m,\u001b[0m \u001b[0mna_value\u001b[0m\u001b[1;33m=\u001b[0m\u001b[0mna_value\u001b[0m\u001b[1;33m)\u001b[0m\u001b[1;33m\u001b[0m\u001b[1;33m\u001b[0m\u001b[0m\n\u001b[0m\u001b[0;32m    873\u001b[0m             \u001b[1;31m# The underlying data was copied within _interleave\u001b[0m\u001b[1;33m\u001b[0m\u001b[1;33m\u001b[0m\u001b[1;33m\u001b[0m\u001b[0m\n\u001b[0;32m    874\u001b[0m             \u001b[0mcopy\u001b[0m \u001b[1;33m=\u001b[0m \u001b[1;32mFalse\u001b[0m\u001b[1;33m\u001b[0m\u001b[1;33m\u001b[0m\u001b[0m\n",
      "\u001b[1;32mc:\\python\\lib\\site-packages\\pandas\\core\\internals\\managers.py\u001b[0m in \u001b[0;36m_interleave\u001b[1;34m(self, dtype, na_value)\u001b[0m\n\u001b[0;32m    910\u001b[0m             \u001b[1;32melse\u001b[0m\u001b[1;33m:\u001b[0m\u001b[1;33m\u001b[0m\u001b[1;33m\u001b[0m\u001b[0m\n\u001b[0;32m    911\u001b[0m                 \u001b[0marr\u001b[0m \u001b[1;33m=\u001b[0m \u001b[0mblk\u001b[0m\u001b[1;33m.\u001b[0m\u001b[0mget_values\u001b[0m\u001b[1;33m(\u001b[0m\u001b[0mdtype\u001b[0m\u001b[1;33m)\u001b[0m\u001b[1;33m\u001b[0m\u001b[1;33m\u001b[0m\u001b[0m\n\u001b[1;32m--> 912\u001b[1;33m             \u001b[0mresult\u001b[0m\u001b[1;33m[\u001b[0m\u001b[0mrl\u001b[0m\u001b[1;33m.\u001b[0m\u001b[0mindexer\u001b[0m\u001b[1;33m]\u001b[0m \u001b[1;33m=\u001b[0m \u001b[0marr\u001b[0m\u001b[1;33m\u001b[0m\u001b[1;33m\u001b[0m\u001b[0m\n\u001b[0m\u001b[0;32m    913\u001b[0m             \u001b[0mitemmask\u001b[0m\u001b[1;33m[\u001b[0m\u001b[0mrl\u001b[0m\u001b[1;33m.\u001b[0m\u001b[0mindexer\u001b[0m\u001b[1;33m]\u001b[0m \u001b[1;33m=\u001b[0m \u001b[1;36m1\u001b[0m\u001b[1;33m\u001b[0m\u001b[1;33m\u001b[0m\u001b[0m\n\u001b[0;32m    914\u001b[0m \u001b[1;33m\u001b[0m\u001b[0m\n",
      "\u001b[1;31mKeyboardInterrupt\u001b[0m: "
     ]
    }
   ],
   "source": [
    "for x,y in dataset:\n",
    "    display_progress(rowcounter, totallength)\n",
    "    rowcounter +=1\n",
    "    \n",
    "    utils.dictkey_chg(x, key_pair)\n",
    "    # Event stream change dictionary keys\n",
    "    x['ts'] = x['ts'][:-4]\n",
    "    \n",
    "    # Check label possible\n",
    "    \n",
    "    # Initialize case by prefix length\n",
    "    caseid = x['caseid']\n",
    "    x.pop('caseid')\n",
    "    \n",
    "    case_bin = prefix_bin(caseid, x)\n",
    "    \n",
    "    if caseid not in list(case_dict.keys()):\n",
    "        case_dict[caseid] = []\n",
    "        case_bin.set_prefix_length(1)\n",
    "        \n",
    "    elif caseid in finishedcases:\n",
    "        continue\n",
    "    \n",
    "    else:\n",
    "        case_bin.set_prefix_length(len(case_dict[caseid])+1)\n",
    "        case_bin.set_prev_enc(case_dict[caseid][-1])\n",
    "    \n",
    "    # Encode event and cases and add to DB\n",
    "    ts = case_bin.event['ts']\n",
    "    case_bin.update_encoded(catattrs=catatars,enctype=enctype)\n",
    "    \n",
    "    # Set current activity as outcome of previous event\n",
    "    if case_bin.prefix_length != 1:\n",
    "        case_bin.prev_enc.update_truelabel(x['activity'])\n",
    "\n",
    "    # Update training window and finish the case\n",
    "    if x['activity'] == 'End':\n",
    "        training_window.update_window({caseid: case_dict[caseid]})\n",
    "        training_models = training_stage(training_window, training_models)\n",
    "        case_dict.pop(caseid)\n",
    "        casecount +=1\n",
    "    else:\n",
    "        case_dict[caseid].append(case_bin)\n",
    "    \n",
    "    # Predict probability of next activities\n",
    "    # If \n",
    "    \n",
    "    for x in case_dict:\n",
    "        print(case_dict[x][-1].encoded)\n",
    "#     if len(training_window.getAllitems()) !=0:\n",
    "#         prefix_wise_window = training_window.prefix_wise_window()\n",
    "        \n",
    "#         if 'window_%s'%(case_bin.prefix_length) in list(prefix_wise_window.keys()) and 'detector_%s'%(case_bin.prefix_length) in training_models.keys():\n",
    "#             feature_matrix = {'window_%s'%(case_bin.prefix_length): prefix_wise_window['window_%s'%(case_bin.prefix_length)][0].columns.values}\n",
    "#             current_event = utils.readjustment_training(case_bin.encoded, feature_matrix)\n",
    "#             prediction = training_models['window_%s'%(case_bin.prefix_length)][1].predict(current_event)\n",
    "#         else:\n",
    "#             prediction = 'Not Available'\n",
    "#     else:\n",
    "#         prediction = 'Not Available'\n",
    "#     case_dict[caseid][-1].update_prediction((training_models['detector_%s'%(case_bin.prefix_length)][0], (prediction,ts)))\n",
    "\n",
    "\n",
    "    "
   ]
  },
  {
   "cell_type": "code",
   "execution_count": 194,
   "id": "2177d384",
   "metadata": {},
   "outputs": [
    {
     "name": "stdout",
     "output_type": "stream",
     "text": [
      "{'prefix_length': 14, 'caseid': 'Application_1141114991', 'event': {'activity': 'W_Call after offers', 'resource': 'User_15', 'ts': datetime.datetime(2016, 1, 8, 10, 21, 49)}, 'enctype': 'Index-base', 'start_ts': datetime.datetime(2016, 1, 4, 19, 47, 14), 'prev_enc': <encoding.prefix_bin object at 0x0000018D8E790B80>, 'encoded': {'duration_1': 0, 'cumduration_1': 0, 'activity_1 A_Create Application': 1, 'resource_1 User_43': 1, 'duration_2': 0.0, 'cumduration_2': 0.0, 'activity_2 W_Complete application': 1, 'resource_2 User_43': 1, 'duration_3': 0.0, 'cumduration_3': 0.0, 'activity_3 W_Complete application': 1, 'resource_3 User_43': 1, 'duration_4': 0.0, 'cumduration_4': 0.0, 'activity_4 A_Concept': 1, 'resource_4 User_43': 1, 'duration_5': 887.0, 'cumduration_5': 887.0, 'activity_5 A_Accepted': 1, 'resource_5 User_43': 1, 'duration_6': 116.0, 'cumduration_6': 1003.0, 'activity_6 O_Create Offer': 1, 'resource_6 User_43': 1, 'duration_7': 2.0, 'cumduration_7': 1005.0, 'activity_7 O_Created': 1, 'resource_7 User_43': 1, 'duration_8': 1473.0, 'cumduration_8': 2478.0, 'activity_8 O_Sent (mail and online)': 1, 'resource_8 User_43': 1, 'duration_9': 0.0, 'cumduration_9': 2478.0, 'activity_9 W_Call after offers': 1, 'resource_9 User_43': 1, 'duration_10': 0.0, 'cumduration_10': 2478.0, 'activity_10 W_Call after offers': 1, 'resource_10 User_43': 1, 'duration_11': 0.0, 'cumduration_11': 2478.0, 'activity_11 A_Complete': 1, 'resource_11 User_43': 1, 'duration_12': 204.0, 'cumduration_12': 2682.0, 'activity_12 W_Call after offers': 1, 'resource_12 User_43': 1, 'duration_13': 308970.0, 'cumduration_13': 311652.0, 'activity_13 W_Call after offers': 1, 'resource_13 User_15': 1, 'duration_14': 23.0, 'cumduration_14': 311675.0, 'activity_14 W_Call after offers': 1, 'resource_14 User_15': 1}, 'predicted': {}, 'true_label': None, 'grace_updated': False}\n",
      "{'prefix_length': 27, 'caseid': 'Application_1507218840', 'event': {'activity': 'O_Cancelled', 'resource': 'User_115', 'ts': datetime.datetime(2016, 1, 22, 13, 52, 2)}, 'enctype': 'Index-base', 'start_ts': datetime.datetime(2016, 1, 7, 10, 43, 42), 'prev_enc': <encoding.prefix_bin object at 0x0000018D8FCBCD90>, 'encoded': {'duration_1': 0, 'cumduration_1': 0, 'activity_1 A_Create Application': 1, 'resource_1 User_21': 1, 'duration_2': 1.0, 'cumduration_2': 1.0, 'activity_2 A_Concept': 1, 'resource_2 User_21': 1, 'duration_3': 0.0, 'cumduration_3': 1.0, 'activity_3 W_Complete application': 1, 'resource_3 User_21': 1, 'duration_4': 0.0, 'cumduration_4': 1.0, 'activity_4 W_Complete application': 1, 'resource_4 User_21': 1, 'duration_5': 352.0, 'cumduration_5': 353.0, 'activity_5 A_Accepted': 1, 'resource_5 User_21': 1, 'duration_6': 334.0, 'cumduration_6': 687.0, 'activity_6 O_Create Offer': 1, 'resource_6 User_21': 1, 'duration_7': 2.0, 'cumduration_7': 689.0, 'activity_7 O_Created': 1, 'resource_7 User_21': 1, 'duration_8': 65.0, 'cumduration_8': 754.0, 'activity_8 O_Sent (mail and online)': 1, 'resource_8 User_21': 1, 'duration_9': 0.0, 'cumduration_9': 754.0, 'activity_9 W_Call after offers': 1, 'resource_9 User_21': 1, 'duration_10': 0.0, 'cumduration_10': 754.0, 'activity_10 W_Call after offers': 1, 'resource_10 User_21': 1, 'duration_11': 0.0, 'cumduration_11': 754.0, 'activity_11 A_Complete': 1, 'resource_11 User_21': 1, 'duration_12': 106.0, 'cumduration_12': 860.0, 'activity_12 W_Call after offers': 1, 'resource_12 User_21': 1, 'duration_13': 345340.0, 'cumduration_13': 346200.0, 'activity_13 W_Call after offers': 1, 'resource_13 User_2': 1, 'duration_14': 29.0, 'cumduration_14': 346229.0, 'activity_14 W_Call after offers': 1, 'resource_14 User_2': 1, 'duration_15': 601588.0, 'cumduration_15': 947817.0, 'activity_15 O_Create Offer': 1, 'resource_15 User_14': 1, 'duration_16': 1.0, 'cumduration_16': 947818.0, 'activity_16 O_Created': 1, 'resource_16 User_14': 1, 'duration_17': 12.0, 'cumduration_17': 947830.0, 'activity_17 O_Sent (mail and online)': 1, 'resource_17 User_14': 1, 'duration_18': 354902.0, 'cumduration_18': 1302732.0, 'activity_18 W_Call after offers': 1, 'resource_18 User_119': 1, 'duration_19': 0.0, 'cumduration_19': 1302732.0, 'activity_19 W_Validate application': 1, 'resource_19 User_119': 1, 'duration_20': 0.0, 'cumduration_20': 1302732.0, 'activity_20 W_Validate application': 1, 'resource_20 User_119': 1, 'duration_21': 1.0, 'cumduration_21': 1302733.0, 'activity_21 A_Validating': 1, 'resource_21 User_119': 1, 'duration_22': 13.0, 'cumduration_22': 1302746.0, 'activity_22 O_Returned': 1, 'resource_22 User_119': 1, 'duration_23': 94.0, 'cumduration_23': 1302840.0, 'activity_23 W_Validate application': 1, 'resource_23 User_119': 1, 'duration_24': 4460.0, 'cumduration_24': 1307300.0, 'activity_24 O_Accepted': 1, 'resource_24 User_115': 1, 'duration_25': 0.0, 'cumduration_25': 1307300.0, 'activity_25 A_Pending': 1, 'resource_25 User_115': 1, 'duration_26': 0.0, 'cumduration_26': 1307300.0, 'activity_26 W_Validate application': 1, 'resource_26 User_115': 1, 'duration_27': 0.0, 'cumduration_27': 1307300.0, 'activity_27 O_Cancelled': 1, 'resource_27 User_115': 1}, 'predicted': {}, 'true_label': 'End', 'grace_updated': False}\n",
      "{'prefix_length': 20, 'caseid': 'Application_1989400270', 'event': {'activity': 'W_Call after offers', 'resource': 'User_14', 'ts': datetime.datetime(2016, 1, 13, 12, 38, 34)}, 'enctype': 'Index-base', 'start_ts': datetime.datetime(2016, 1, 8, 20, 6, 30), 'prev_enc': <encoding.prefix_bin object at 0x0000018D8FCCE8B0>, 'encoded': {'duration_1': 0, 'cumduration_1': 0, 'activity_1 A_Create Application': 1, 'resource_1 User_1': 1, 'duration_2': 0.0, 'cumduration_2': 0.0, 'activity_2 A_Submitted': 1, 'resource_2 User_1': 1, 'duration_3': 0.0, 'cumduration_3': 0.0, 'activity_3 W_Handle leads': 1, 'resource_3 User_1': 1, 'duration_4': 71.0, 'cumduration_4': 71.0, 'activity_4 W_Handle leads': 1, 'resource_4 User_1': 1, 'duration_5': 0.0, 'cumduration_5': 71.0, 'activity_5 W_Complete application': 1, 'resource_5 User_1': 1, 'duration_6': 0.0, 'cumduration_6': 71.0, 'activity_6 A_Concept': 1, 'resource_6 User_1': 1, 'duration_7': 74091.0, 'cumduration_7': 74162.0, 'activity_7 W_Complete application': 1, 'resource_7 User_12': 1, 'duration_8': 879.0, 'cumduration_8': 75041.0, 'activity_8 A_Accepted': 1, 'resource_8 User_12': 1, 'duration_9': 104.0, 'cumduration_9': 75145.0, 'activity_9 O_Create Offer': 1, 'resource_9 User_12': 1, 'duration_10': 1.0, 'cumduration_10': 75146.0, 'activity_10 O_Created': 1, 'resource_10 User_12': 1, 'duration_11': 11.0, 'cumduration_11': 75157.0, 'activity_11 O_Sent (mail and online)': 1, 'resource_11 User_12': 1, 'duration_12': 0.0, 'cumduration_12': 75157.0, 'activity_12 W_Call after offers': 1, 'resource_12 User_12': 1, 'duration_13': 0.0, 'cumduration_13': 75157.0, 'activity_13 W_Call after offers': 1, 'resource_13 User_12': 1, 'duration_14': 0.0, 'cumduration_14': 75157.0, 'activity_14 A_Complete': 1, 'resource_14 User_12': 1, 'duration_15': 25265.0, 'cumduration_15': 100422.0, 'activity_15 W_Call after offers': 1, 'resource_15 User_1': 1, 'duration_16': 0.0, 'cumduration_16': 100422.0, 'activity_16 W_Call after offers': 1, 'resource_16 User_1': 1, 'duration_17': 0.0, 'cumduration_17': 100422.0, 'activity_17 W_Call after offers': 1, 'resource_17 User_1': 1, 'duration_18': 0.0, 'cumduration_18': 100422.0, 'activity_18 W_Call after offers': 1, 'resource_18 User_1': 1, 'duration_19': 304680.0, 'cumduration_19': 405102.0, 'activity_19 W_Call after offers': 1, 'resource_19 User_14': 1, 'duration_20': 22.0, 'cumduration_20': 405124.0, 'activity_20 W_Call after offers': 1, 'resource_20 User_14': 1}, 'predicted': {}, 'true_label': None, 'grace_updated': False}\n",
      "{'prefix_length': 24, 'caseid': 'Application_1261348817', 'event': {'activity': 'W_Call after offers', 'resource': 'User_31', 'ts': datetime.datetime(2016, 1, 18, 9, 14, 18)}, 'enctype': 'Index-base', 'start_ts': datetime.datetime(2016, 1, 10, 10, 37, 3), 'prev_enc': <encoding.prefix_bin object at 0x0000018D8FA5DEB0>, 'encoded': {'duration_1': 0, 'cumduration_1': 0, 'activity_1 A_Create Application': 1, 'resource_1 User_1': 1, 'duration_2': 0.0, 'cumduration_2': 0.0, 'activity_2 A_Submitted': 1, 'resource_2 User_1': 1, 'duration_3': 0.0, 'cumduration_3': 0.0, 'activity_3 W_Handle leads': 1, 'resource_3 User_1': 1, 'duration_4': 44.0, 'cumduration_4': 44.0, 'activity_4 W_Handle leads': 1, 'resource_4 User_1': 1, 'duration_5': 0.0, 'cumduration_5': 44.0, 'activity_5 W_Complete application': 1, 'resource_5 User_1': 1, 'duration_6': 0.0, 'cumduration_6': 44.0, 'activity_6 A_Concept': 1, 'resource_6 User_1': 1, 'duration_7': 98977.0, 'cumduration_7': 99021.0, 'activity_7 W_Complete application': 1, 'resource_7 User_15': 1, 'duration_8': 412.0, 'cumduration_8': 99433.0, 'activity_8 W_Complete application': 1, 'resource_8 User_15': 1, 'duration_9': 165211.0, 'cumduration_9': 264644.0, 'activity_9 W_Complete application': 1, 'resource_9 User_37': 1, 'duration_10': 159.0, 'cumduration_10': 264803.0, 'activity_10 W_Complete application': 1, 'resource_10 User_37': 1, 'duration_11': 3488.0, 'cumduration_11': 268291.0, 'activity_11 A_Accepted': 1, 'resource_11 User_41': 1, 'duration_12': 169.0, 'cumduration_12': 268460.0, 'activity_12 O_Create Offer': 1, 'resource_12 User_41': 1, 'duration_13': 1.0, 'cumduration_13': 268461.0, 'activity_13 O_Created': 1, 'resource_13 User_41': 1, 'duration_14': 18.0, 'cumduration_14': 268479.0, 'activity_14 O_Sent (mail and online)': 1, 'resource_14 User_41': 1, 'duration_15': 0.0, 'cumduration_15': 268479.0, 'activity_15 W_Complete application': 1, 'resource_15 User_41': 1, 'duration_16': 0.0, 'cumduration_16': 268479.0, 'activity_16 W_Call after offers': 1, 'resource_16 User_41': 1, 'duration_17': 0.0, 'cumduration_17': 268479.0, 'activity_17 W_Call after offers': 1, 'resource_17 User_41': 1, 'duration_18': 0.0, 'cumduration_18': 268479.0, 'activity_18 A_Complete': 1, 'resource_18 User_41': 1, 'duration_19': 38916.0, 'cumduration_19': 307395.0, 'activity_19 W_Call after offers': 1, 'resource_19 User_1': 1, 'duration_20': 0.0, 'cumduration_20': 307395.0, 'activity_20 W_Call after offers': 1, 'resource_20 User_1': 1, 'duration_21': 0.0, 'cumduration_21': 307395.0, 'activity_21 W_Call after offers': 1, 'resource_21 User_1': 1, 'duration_22': 0.0, 'cumduration_22': 307395.0, 'activity_22 W_Call after offers': 1, 'resource_22 User_1': 1, 'duration_23': 378819.0, 'cumduration_23': 686214.0, 'activity_23 W_Call after offers': 1, 'resource_23 User_31': 1, 'duration_24': 21.0, 'cumduration_24': 686235.0, 'activity_24 W_Call after offers': 1, 'resource_24 User_31': 1}, 'predicted': {}, 'true_label': None, 'grace_updated': False}\n",
      "{'prefix_length': 24, 'caseid': 'Application_1185248307', 'event': {'activity': 'W_Call after offers', 'resource': 'User_31', 'ts': datetime.datetime(2016, 1, 18, 9, 44, 11)}, 'enctype': 'Index-base', 'start_ts': datetime.datetime(2016, 1, 12, 9, 49, 58), 'prev_enc': <encoding.prefix_bin object at 0x0000018D8FA5DFA0>, 'encoded': {'duration_1': 0, 'cumduration_1': 0, 'activity_1 A_Create Application': 1, 'resource_1 User_47': 1, 'duration_2': 0.0, 'cumduration_2': 0.0, 'activity_2 W_Complete application': 1, 'resource_2 User_47': 1, 'duration_3': 0.0, 'cumduration_3': 0.0, 'activity_3 W_Complete application': 1, 'resource_3 User_71': 1, 'duration_4': 0.0, 'cumduration_4': 0.0, 'activity_4 A_Concept': 1, 'resource_4 User_47': 1, 'duration_5': 643.0, 'cumduration_5': 643.0, 'activity_5 W_Complete application': 1, 'resource_5 User_47': 1, 'duration_6': 15746.0, 'cumduration_6': 16389.0, 'activity_6 W_Complete application': 1, 'resource_6 User_49': 1, 'duration_7': 31.0, 'cumduration_7': 16420.0, 'activity_7 W_Complete application': 1, 'resource_7 User_49': 1, 'duration_8': 6364.0, 'cumduration_8': 22784.0, 'activity_8 W_Complete application': 1, 'resource_8 User_37': 1, 'duration_9': 86.0, 'cumduration_9': 22870.0, 'activity_9 W_Complete application': 1, 'resource_9 User_37': 1, 'duration_10': 86.0, 'cumduration_10': 22956.0, 'activity_10 W_Complete application': 1, 'resource_10 User_49': 1, 'duration_11': 95.0, 'cumduration_11': 23051.0, 'activity_11 W_Complete application': 1, 'resource_11 User_49': 1, 'duration_12': 593.0, 'cumduration_12': 23644.0, 'activity_12 W_Complete application': 1, 'resource_12 User_71': 1, 'duration_13': 64.0, 'cumduration_13': 23708.0, 'activity_13 W_Complete application': 1, 'resource_13 User_71': 1, 'duration_14': 374.0, 'cumduration_14': 24082.0, 'activity_14 W_Complete application': 1, 'resource_14 User_71': 1, 'duration_15': 395.0, 'cumduration_15': 24477.0, 'activity_15 A_Accepted': 1, 'resource_15 User_71': 1, 'duration_16': 309.0, 'cumduration_16': 24786.0, 'activity_16 O_Create Offer': 1, 'resource_16 User_71': 1, 'duration_17': 1.0, 'cumduration_17': 24787.0, 'activity_17 O_Created': 1, 'resource_17 User_71': 1, 'duration_18': 417.0, 'cumduration_18': 25204.0, 'activity_18 O_Sent (mail and online)': 1, 'resource_18 User_71': 1, 'duration_19': 0.0, 'cumduration_19': 25204.0, 'activity_19 W_Call after offers': 1, 'resource_19 User_71': 1, 'duration_20': 0.0, 'cumduration_20': 25204.0, 'activity_20 W_Call after offers': 1, 'resource_20 User_71': 1, 'duration_21': 0.0, 'cumduration_21': 25204.0, 'activity_21 A_Complete': 1, 'resource_21 User_71': 1, 'duration_22': 138.0, 'cumduration_22': 25342.0, 'activity_22 W_Call after offers': 1, 'resource_22 User_71': 1, 'duration_23': 492688.0, 'cumduration_23': 518030.0, 'activity_23 W_Call after offers': 1, 'resource_23 User_31': 1, 'duration_24': 23.0, 'cumduration_24': 518053.0, 'activity_24 W_Call after offers': 1, 'resource_24 User_31': 1}, 'predicted': {}, 'true_label': None, 'grace_updated': False}\n",
      "{'prefix_length': 17, 'caseid': 'Application_974860050', 'event': {'activity': 'W_Call after offers', 'resource': 'User_31', 'ts': datetime.datetime(2016, 1, 18, 9, 8, 43)}, 'enctype': 'Index-base', 'start_ts': datetime.datetime(2016, 1, 13, 11, 23, 40), 'prev_enc': <encoding.prefix_bin object at 0x0000018D8FA5DA60>, 'encoded': {'duration_1': 0, 'cumduration_1': 0, 'activity_1 A_Create Application': 1, 'resource_1 User_34': 1, 'duration_2': 0.0, 'cumduration_2': 0.0, 'activity_2 W_Complete application': 1, 'resource_2 User_34': 1, 'duration_3': 0.0, 'cumduration_3': 0.0, 'activity_3 W_Complete application': 1, 'resource_3 User_34': 1, 'duration_4': 0.0, 'cumduration_4': 0.0, 'activity_4 A_Concept': 1, 'resource_4 User_34': 1, 'duration_5': 507.0, 'cumduration_5': 507.0, 'activity_5 A_Accepted': 1, 'resource_5 User_34': 1, 'duration_6': 234.0, 'cumduration_6': 741.0, 'activity_6 O_Create Offer': 1, 'resource_6 User_34': 1, 'duration_7': 1.0, 'cumduration_7': 742.0, 'activity_7 O_Created': 1, 'resource_7 User_34': 1, 'duration_8': 123.0, 'cumduration_8': 865.0, 'activity_8 O_Sent (mail and online)': 1, 'resource_8 User_34': 1, 'duration_9': 0.0, 'cumduration_9': 865.0, 'activity_9 W_Call after offers': 1, 'resource_9 User_34': 1, 'duration_10': 0.0, 'cumduration_10': 865.0, 'activity_10 W_Call after offers': 1, 'resource_10 User_34': 1, 'duration_11': 0.0, 'cumduration_11': 865.0, 'activity_11 A_Complete': 1, 'resource_11 User_34': 1, 'duration_12': 117.0, 'cumduration_12': 982.0, 'activity_12 W_Call after offers': 1, 'resource_12 User_34': 1, 'duration_13': 173460.0, 'cumduration_13': 174442.0, 'activity_13 O_Create Offer': 1, 'resource_13 User_41': 1, 'duration_14': 2.0, 'cumduration_14': 174444.0, 'activity_14 O_Created': 1, 'resource_14 User_41': 1, 'duration_15': 25.0, 'cumduration_15': 174469.0, 'activity_15 O_Sent (mail and online)': 1, 'resource_15 User_41': 1, 'duration_16': 249408.0, 'cumduration_16': 423877.0, 'activity_16 W_Call after offers': 1, 'resource_16 User_31': 1, 'duration_17': 26.0, 'cumduration_17': 423903.0, 'activity_17 W_Call after offers': 1, 'resource_17 User_31': 1}, 'predicted': {}, 'true_label': None, 'grace_updated': False}\n",
      "{'prefix_length': 14, 'caseid': 'Application_754937126', 'event': {'activity': 'W_Call after offers', 'resource': 'User_18', 'ts': datetime.datetime(2016, 1, 19, 9, 12, 18)}, 'enctype': 'Index-base', 'start_ts': datetime.datetime(2016, 1, 15, 9, 19, 57), 'prev_enc': <encoding.prefix_bin object at 0x0000018D8F6343D0>, 'encoded': {'duration_1': 0, 'cumduration_1': 0, 'activity_1 A_Create Application': 1, 'resource_1 User_3': 1, 'duration_2': 0.0, 'cumduration_2': 0.0, 'activity_2 A_Concept': 1, 'resource_2 User_3': 1, 'duration_3': 0.0, 'cumduration_3': 0.0, 'activity_3 W_Complete application': 1, 'resource_3 User_3': 1, 'duration_4': 0.0, 'cumduration_4': 0.0, 'activity_4 W_Complete application': 1, 'resource_4 User_3': 1, 'duration_5': 156.0, 'cumduration_5': 156.0, 'activity_5 A_Accepted': 1, 'resource_5 User_3': 1, 'duration_6': 90.0, 'cumduration_6': 246.0, 'activity_6 O_Create Offer': 1, 'resource_6 User_3': 1, 'duration_7': 1.0, 'cumduration_7': 247.0, 'activity_7 O_Created': 1, 'resource_7 User_3': 1, 'duration_8': 13.0, 'cumduration_8': 260.0, 'activity_8 O_Sent (mail and online)': 1, 'resource_8 User_3': 1, 'duration_9': 0.0, 'cumduration_9': 260.0, 'activity_9 W_Call after offers': 1, 'resource_9 User_3': 1, 'duration_10': 0.0, 'cumduration_10': 260.0, 'activity_10 W_Call after offers': 1, 'resource_10 User_3': 1, 'duration_11': 0.0, 'cumduration_11': 260.0, 'activity_11 A_Complete': 1, 'resource_11 User_3': 1, 'duration_12': 25.0, 'cumduration_12': 285.0, 'activity_12 W_Call after offers': 1, 'resource_12 User_3': 1, 'duration_13': 344826.0, 'cumduration_13': 345111.0, 'activity_13 W_Call after offers': 1, 'resource_13 User_18': 1, 'duration_14': 30.0, 'cumduration_14': 345141.0, 'activity_14 W_Call after offers': 1, 'resource_14 User_18': 1}, 'predicted': {}, 'true_label': None, 'grace_updated': False}\n",
      "{'prefix_length': 14, 'caseid': 'Application_952744464', 'event': {'activity': 'W_Call after offers', 'resource': 'User_18', 'ts': datetime.datetime(2016, 1, 19, 9, 53, 3)}, 'enctype': 'Index-base', 'start_ts': datetime.datetime(2016, 1, 15, 16, 55, 48), 'prev_enc': <encoding.prefix_bin object at 0x0000018D8FB3CA00>, 'encoded': {'duration_1': 0, 'cumduration_1': 0, 'activity_1 A_Create Application': 1, 'resource_1 User_2': 1, 'duration_2': 0.0, 'cumduration_2': 0.0, 'activity_2 W_Complete application': 1, 'resource_2 User_2': 1, 'duration_3': 0.0, 'cumduration_3': 0.0, 'activity_3 W_Complete application': 1, 'resource_3 User_2': 1, 'duration_4': 0.0, 'cumduration_4': 0.0, 'activity_4 A_Concept': 1, 'resource_4 User_2': 1, 'duration_5': 87.0, 'cumduration_5': 87.0, 'activity_5 A_Accepted': 1, 'resource_5 User_2': 1, 'duration_6': 198.0, 'cumduration_6': 285.0, 'activity_6 O_Create Offer': 1, 'resource_6 User_2': 1, 'duration_7': 2.0, 'cumduration_7': 287.0, 'activity_7 O_Created': 1, 'resource_7 User_2': 1, 'duration_8': 19.0, 'cumduration_8': 306.0, 'activity_8 O_Sent (mail and online)': 1, 'resource_8 User_2': 1, 'duration_9': 0.0, 'cumduration_9': 306.0, 'activity_9 W_Call after offers': 1, 'resource_9 User_2': 1, 'duration_10': 0.0, 'cumduration_10': 306.0, 'activity_10 W_Call after offers': 1, 'resource_10 User_2': 1, 'duration_11': 0.0, 'cumduration_11': 306.0, 'activity_11 A_Complete': 1, 'resource_11 User_2': 1, 'duration_12': 243.0, 'cumduration_12': 549.0, 'activity_12 W_Call after offers': 1, 'resource_12 User_2': 1, 'duration_13': 319661.0, 'cumduration_13': 320210.0, 'activity_13 W_Call after offers': 1, 'resource_13 User_18': 1, 'duration_14': 25.0, 'cumduration_14': 320235.0, 'activity_14 W_Call after offers': 1, 'resource_14 User_18': 1}, 'predicted': {}, 'true_label': None, 'grace_updated': False}\n",
      "{'prefix_length': 14, 'caseid': 'Application_440220247', 'event': {'activity': 'W_Call after offers', 'resource': 'User_43', 'ts': datetime.datetime(2016, 1, 20, 12, 14, 50)}, 'enctype': 'Index-base', 'start_ts': datetime.datetime(2016, 1, 16, 12, 26, 24), 'prev_enc': <encoding.prefix_bin object at 0x0000018D8E6E3A00>, 'encoded': {'duration_1': 0, 'cumduration_1': 0, 'activity_1 A_Create Application': 1, 'resource_1 User_43': 1, 'duration_2': 0.0, 'cumduration_2': 0.0, 'activity_2 W_Complete application': 1, 'resource_2 User_43': 1, 'duration_3': 0.0, 'cumduration_3': 0.0, 'activity_3 W_Complete application': 1, 'resource_3 User_43': 1, 'duration_4': 0.0, 'cumduration_4': 0.0, 'activity_4 A_Concept': 1, 'resource_4 User_43': 1, 'duration_5': 391.0, 'cumduration_5': 391.0, 'activity_5 A_Accepted': 1, 'resource_5 User_43': 1, 'duration_6': 542.0, 'cumduration_6': 933.0, 'activity_6 O_Create Offer': 1, 'resource_6 User_43': 1, 'duration_7': 1.0, 'cumduration_7': 934.0, 'activity_7 O_Created': 1, 'resource_7 User_43': 1, 'duration_8': 851.0, 'cumduration_8': 1785.0, 'activity_8 O_Sent (mail and online)': 1, 'resource_8 User_43': 1, 'duration_9': 0.0, 'cumduration_9': 1785.0, 'activity_9 W_Call after offers': 1, 'resource_9 User_43': 1, 'duration_10': 0.0, 'cumduration_10': 1785.0, 'activity_10 W_Call after offers': 1, 'resource_10 User_43': 1, 'duration_11': 0.0, 'cumduration_11': 1785.0, 'activity_11 A_Complete': 1, 'resource_11 User_43': 1, 'duration_12': 28.0, 'cumduration_12': 1813.0, 'activity_12 W_Call after offers': 1, 'resource_12 User_43': 1, 'duration_13': 343060.0, 'cumduration_13': 344873.0, 'activity_13 W_Call after offers': 1, 'resource_13 User_43': 1, 'duration_14': 33.0, 'cumduration_14': 344906.0, 'activity_14 W_Call after offers': 1, 'resource_14 User_43': 1}, 'predicted': {}, 'true_label': None, 'grace_updated': False}\n",
      "{'prefix_length': 17, 'caseid': 'Application_1366775062', 'event': {'activity': 'W_Call after offers', 'resource': 'User_18', 'ts': datetime.datetime(2016, 1, 20, 14, 25, 18)}, 'enctype': 'Index-base', 'start_ts': datetime.datetime(2016, 1, 16, 14, 14, 54), 'prev_enc': <encoding.prefix_bin object at 0x0000018D8FA97910>, 'encoded': {'duration_1': 0, 'cumduration_1': 0, 'activity_1 A_Create Application': 1, 'resource_1 User_52': 1, 'duration_2': 0.0, 'cumduration_2': 0.0, 'activity_2 W_Complete application': 1, 'resource_2 User_52': 1, 'duration_3': 0.0, 'cumduration_3': 0.0, 'activity_3 W_Complete application': 1, 'resource_3 User_52': 1, 'duration_4': 0.0, 'cumduration_4': 0.0, 'activity_4 A_Concept': 1, 'resource_4 User_52': 1, 'duration_5': 197.0, 'cumduration_5': 197.0, 'activity_5 A_Accepted': 1, 'resource_5 User_52': 1, 'duration_6': 450.0, 'cumduration_6': 647.0, 'activity_6 O_Create Offer': 1, 'resource_6 User_52': 1, 'duration_7': 2.0, 'cumduration_7': 649.0, 'activity_7 O_Created': 1, 'resource_7 User_52': 1, 'duration_8': 256.0, 'cumduration_8': 905.0, 'activity_8 O_Sent (mail and online)': 1, 'resource_8 User_52': 1, 'duration_9': 0.0, 'cumduration_9': 905.0, 'activity_9 W_Call after offers': 1, 'resource_9 User_52': 1, 'duration_10': 0.0, 'cumduration_10': 905.0, 'activity_10 W_Call after offers': 1, 'resource_10 User_52': 1, 'duration_11': 0.0, 'cumduration_11': 905.0, 'activity_11 A_Complete': 1, 'resource_11 User_52': 1, 'duration_12': 102.0, 'cumduration_12': 1007.0, 'activity_12 W_Call after offers': 1, 'resource_12 User_52': 1, 'duration_13': 6753.0, 'cumduration_13': 7760.0, 'activity_13 O_Create Offer': 1, 'resource_13 User_14': 1, 'duration_14': 1.0, 'cumduration_14': 7761.0, 'activity_14 O_Created': 1, 'resource_14 User_14': 1, 'duration_15': 68.0, 'cumduration_15': 7829.0, 'activity_15 O_Sent (mail and online)': 1, 'resource_15 User_14': 1, 'duration_16': 338357.0, 'cumduration_16': 346186.0, 'activity_16 W_Call after offers': 1, 'resource_16 User_18': 1, 'duration_17': 38.0, 'cumduration_17': 346224.0, 'activity_17 W_Call after offers': 1, 'resource_17 User_18': 1}, 'predicted': {}, 'true_label': None, 'grace_updated': False}\n",
      "{'prefix_length': 20, 'caseid': 'Application_372107793', 'event': {'activity': 'W_Validate application', 'resource': 'User_113', 'ts': datetime.datetime(2016, 1, 22, 10, 43, 34)}, 'enctype': 'Index-base', 'start_ts': datetime.datetime(2016, 1, 16, 16, 32, 44), 'prev_enc': <encoding.prefix_bin object at 0x0000018D91382D60>, 'encoded': {'duration_1': 0, 'cumduration_1': 0, 'activity_1 A_Create Application': 1, 'resource_1 User_35': 1, 'duration_2': 0.0, 'cumduration_2': 0.0, 'activity_2 W_Complete application': 1, 'resource_2 User_35': 1, 'duration_3': 0.0, 'cumduration_3': 0.0, 'activity_3 W_Complete application': 1, 'resource_3 User_35': 1, 'duration_4': 0.0, 'cumduration_4': 0.0, 'activity_4 A_Concept': 1, 'resource_4 User_35': 1, 'duration_5': 302.0, 'cumduration_5': 302.0, 'activity_5 A_Accepted': 1, 'resource_5 User_35': 1, 'duration_6': 611.0, 'cumduration_6': 913.0, 'activity_6 O_Create Offer': 1, 'resource_6 User_35': 1, 'duration_7': 1.0, 'cumduration_7': 914.0, 'activity_7 O_Created': 1, 'resource_7 User_35': 1, 'duration_8': 23.0, 'cumduration_8': 937.0, 'activity_8 O_Sent (mail and online)': 1, 'resource_8 User_35': 1, 'duration_9': 0.0, 'cumduration_9': 937.0, 'activity_9 W_Call after offers': 1, 'resource_9 User_35': 1, 'duration_10': 0.0, 'cumduration_10': 937.0, 'activity_10 W_Call after offers': 1, 'resource_10 User_35': 1, 'duration_11': 0.0, 'cumduration_11': 937.0, 'activity_11 A_Complete': 1, 'resource_11 User_35': 1, 'duration_12': 126.0, 'cumduration_12': 1063.0, 'activity_12 W_Call after offers': 1, 'resource_12 User_35': 1, 'duration_13': 338738.0, 'cumduration_13': 339801.0, 'activity_13 W_Call after offers': 1, 'resource_13 User_5': 1, 'duration_14': 41.0, 'cumduration_14': 339842.0, 'activity_14 W_Call after offers': 1, 'resource_14 User_5': 1, 'duration_15': 157439.0, 'cumduration_15': 497281.0, 'activity_15 W_Call after offers': 1, 'resource_15 User_113': 1, 'duration_16': 0.0, 'cumduration_16': 497281.0, 'activity_16 W_Validate application': 1, 'resource_16 User_113': 1, 'duration_17': 0.0, 'cumduration_17': 497281.0, 'activity_17 W_Validate application': 1, 'resource_17 User_30': 1, 'duration_18': 1.0, 'cumduration_18': 497282.0, 'activity_18 A_Validating': 1, 'resource_18 User_113': 1, 'duration_19': 7.0, 'cumduration_19': 497289.0, 'activity_19 O_Returned': 1, 'resource_19 User_113': 1, 'duration_20': 161.0, 'cumduration_20': 497450.0, 'activity_20 W_Validate application': 1, 'resource_20 User_113': 1}, 'predicted': {}, 'true_label': None, 'grace_updated': False}\n",
      "{'prefix_length': 16, 'caseid': 'Application_1569654923', 'event': {'activity': 'W_Call after offers', 'resource': 'User_10', 'ts': datetime.datetime(2016, 1, 19, 14, 39, 58)}, 'enctype': 'Index-base', 'start_ts': datetime.datetime(2016, 1, 18, 9, 58, 53), 'prev_enc': <encoding.prefix_bin object at 0x0000018D91576DC0>, 'encoded': {'duration_1': 0, 'cumduration_1': 0, 'activity_1 A_Create Application': 1, 'resource_1 User_20': 1, 'duration_2': 0.0, 'cumduration_2': 0.0, 'activity_2 A_Concept': 1, 'resource_2 User_20': 1, 'duration_3': 0.0, 'cumduration_3': 0.0, 'activity_3 W_Complete application': 1, 'resource_3 User_20': 1, 'duration_4': 0.0, 'cumduration_4': 0.0, 'activity_4 W_Complete application': 1, 'resource_4 User_20': 1, 'duration_5': 77.0, 'cumduration_5': 77.0, 'activity_5 W_Complete application': 1, 'resource_5 User_20': 1, 'duration_6': 90560.0, 'cumduration_6': 90637.0, 'activity_6 W_Complete application': 1, 'resource_6 User_18': 1, 'duration_7': 78.0, 'cumduration_7': 90715.0, 'activity_7 W_Complete application': 1, 'resource_7 User_18': 1, 'duration_8': 12270.0, 'cumduration_8': 102985.0, 'activity_8 A_Accepted': 1, 'resource_8 User_10': 1, 'duration_9': 188.0, 'cumduration_9': 103173.0, 'activity_9 O_Create Offer': 1, 'resource_9 User_10': 1, 'duration_10': 1.0, 'cumduration_10': 103174.0, 'activity_10 O_Created': 1, 'resource_10 User_10': 1, 'duration_11': 20.0, 'cumduration_11': 103194.0, 'activity_11 O_Sent (mail and online)': 1, 'resource_11 User_10': 1, 'duration_12': 0.0, 'cumduration_12': 103194.0, 'activity_12 W_Complete application': 1, 'resource_12 User_10': 1, 'duration_13': 0.0, 'cumduration_13': 103194.0, 'activity_13 W_Call after offers': 1, 'resource_13 User_10': 1, 'duration_14': 0.0, 'cumduration_14': 103194.0, 'activity_14 W_Call after offers': 1, 'resource_14 User_10': 1, 'duration_15': 0.0, 'cumduration_15': 103194.0, 'activity_15 A_Complete': 1, 'resource_15 User_10': 1, 'duration_16': 71.0, 'cumduration_16': 103265.0, 'activity_16 W_Call after offers': 1, 'resource_16 User_10': 1}, 'predicted': {}, 'true_label': None, 'grace_updated': False}\n",
      "{'prefix_length': 14, 'caseid': 'Application_1626640901', 'event': {'activity': 'W_Call after offers', 'resource': 'User_24', 'ts': datetime.datetime(2016, 1, 19, 12, 19, 58)}, 'enctype': 'Index-base', 'start_ts': datetime.datetime(2016, 1, 18, 10, 14, 57), 'prev_enc': <encoding.prefix_bin object at 0x0000018D8FCCEF70>, 'encoded': {'duration_1': 0, 'cumduration_1': 0, 'activity_1 A_Create Application': 1, 'resource_1 User_20': 1, 'duration_2': 0.0, 'cumduration_2': 0.0, 'activity_2 A_Concept': 1, 'resource_2 User_20': 1, 'duration_3': 0.0, 'cumduration_3': 0.0, 'activity_3 W_Complete application': 1, 'resource_3 User_20': 1, 'duration_4': 0.0, 'cumduration_4': 0.0, 'activity_4 W_Complete application': 1, 'resource_4 User_20': 1, 'duration_5': 841.0, 'cumduration_5': 841.0, 'activity_5 W_Complete application': 1, 'resource_5 User_20': 1, 'duration_6': 92724.0, 'cumduration_6': 93565.0, 'activity_6 A_Accepted': 1, 'resource_6 User_24': 1, 'duration_7': 169.0, 'cumduration_7': 93734.0, 'activity_7 O_Create Offer': 1, 'resource_7 User_24': 1, 'duration_8': 1.0, 'cumduration_8': 93735.0, 'activity_8 O_Created': 1, 'resource_8 User_24': 1, 'duration_9': 28.0, 'cumduration_9': 93763.0, 'activity_9 O_Sent (mail and online)': 1, 'resource_9 User_24': 1, 'duration_10': 0.0, 'cumduration_10': 93763.0, 'activity_10 W_Complete application': 1, 'resource_10 User_24': 1, 'duration_11': 1.0, 'cumduration_11': 93764.0, 'activity_11 W_Call after offers': 1, 'resource_11 User_24': 1, 'duration_12': 0.0, 'cumduration_12': 93764.0, 'activity_12 W_Call after offers': 1, 'resource_12 User_24': 1, 'duration_13': 0.0, 'cumduration_13': 93764.0, 'activity_13 A_Complete': 1, 'resource_13 User_24': 1, 'duration_14': 137.0, 'cumduration_14': 93901.0, 'activity_14 W_Call after offers': 1, 'resource_14 User_24': 1}, 'predicted': {}, 'true_label': None, 'grace_updated': False}\n",
      "{'prefix_length': 22, 'caseid': 'Application_95863982', 'event': {'activity': 'W_Call after offers', 'resource': 'User_74', 'ts': datetime.datetime(2016, 1, 19, 19, 58, 53)}, 'enctype': 'Index-base', 'start_ts': datetime.datetime(2016, 1, 18, 10, 52, 38), 'prev_enc': <encoding.prefix_bin object at 0x0000018D8F31ADF0>, 'encoded': {'duration_1': 0, 'cumduration_1': 0, 'activity_1 A_Create Application': 1, 'resource_1 User_19': 1, 'duration_2': 0.0, 'cumduration_2': 0.0, 'activity_2 A_Concept': 1, 'resource_2 User_19': 1, 'duration_3': 0.0, 'cumduration_3': 0.0, 'activity_3 W_Complete application': 1, 'resource_3 User_19': 1, 'duration_4': 0.0, 'cumduration_4': 0.0, 'activity_4 W_Complete application': 1, 'resource_4 User_19': 1, 'duration_5': 13.0, 'cumduration_5': 13.0, 'activity_5 W_Complete application': 1, 'resource_5 User_19': 1, 'duration_6': 90002.0, 'cumduration_6': 90015.0, 'activity_6 W_Complete application': 1, 'resource_6 User_24': 1, 'duration_7': 36.0, 'cumduration_7': 90051.0, 'activity_7 W_Complete application': 1, 'resource_7 User_24': 1, 'duration_8': 3553.0, 'cumduration_8': 93604.0, 'activity_8 W_Complete application': 1, 'resource_8 User_5': 1, 'duration_9': 33.0, 'cumduration_9': 93637.0, 'activity_9 A_Accepted': 1, 'resource_9 User_5': 1, 'duration_10': 112.0, 'cumduration_10': 93749.0, 'activity_10 W_Complete application': 1, 'resource_10 User_5': 1, 'duration_11': 886.0, 'cumduration_11': 94635.0, 'activity_11 W_Complete application': 1, 'resource_11 User_5': 1, 'duration_12': 702.0, 'cumduration_12': 95337.0, 'activity_12 W_Complete application': 1, 'resource_12 User_5': 1, 'duration_13': 2781.0, 'cumduration_13': 98118.0, 'activity_13 W_Complete application': 1, 'resource_13 User_15': 1, 'duration_14': 155.0, 'cumduration_14': 98273.0, 'activity_14 W_Complete application': 1, 'resource_14 User_15': 1, 'duration_15': 20501.0, 'cumduration_15': 118774.0, 'activity_15 O_Create Offer': 1, 'resource_15 User_74': 1, 'duration_16': 1.0, 'cumduration_16': 118775.0, 'activity_16 O_Created': 1, 'resource_16 User_74': 1, 'duration_17': 9.0, 'cumduration_17': 118784.0, 'activity_17 O_Sent (mail and online)': 1, 'resource_17 User_74': 1, 'duration_18': 0.0, 'cumduration_18': 118784.0, 'activity_18 W_Complete application': 1, 'resource_18 User_74': 1, 'duration_19': 0.0, 'cumduration_19': 118784.0, 'activity_19 W_Call after offers': 1, 'resource_19 User_74': 1, 'duration_20': 0.0, 'cumduration_20': 118784.0, 'activity_20 W_Call after offers': 1, 'resource_20 User_74': 1, 'duration_21': 0.0, 'cumduration_21': 118784.0, 'activity_21 A_Complete': 1, 'resource_21 User_74': 1, 'duration_22': 391.0, 'cumduration_22': 119175.0, 'activity_22 W_Call after offers': 1, 'resource_22 User_74': 1}, 'predicted': {}, 'true_label': None, 'grace_updated': False}\n",
      "{'prefix_length': 22, 'caseid': 'Application_1233495129', 'event': {'activity': 'W_Call after offers', 'resource': 'User_1', 'ts': datetime.datetime(2016, 1, 20, 0, 0, 24)}, 'enctype': 'Index-base', 'start_ts': datetime.datetime(2016, 1, 18, 15, 41, 38), 'prev_enc': <encoding.prefix_bin object at 0x0000018D8E6E3C10>, 'encoded': {'duration_1': 0, 'cumduration_1': 0, 'activity_1 A_Create Application': 1, 'resource_1 User_1': 1, 'duration_2': 0.0, 'cumduration_2': 0.0, 'activity_2 A_Submitted': 1, 'resource_2 User_1': 1, 'duration_3': 0.0, 'cumduration_3': 0.0, 'activity_3 W_Handle leads': 1, 'resource_3 User_1': 1, 'duration_4': 44.0, 'cumduration_4': 44.0, 'activity_4 W_Handle leads': 1, 'resource_4 User_1': 1, 'duration_5': 0.0, 'cumduration_5': 44.0, 'activity_5 W_Complete application': 1, 'resource_5 User_1': 1, 'duration_6': 0.0, 'cumduration_6': 44.0, 'activity_6 A_Concept': 1, 'resource_6 User_1': 1, 'duration_7': 87352.0, 'cumduration_7': 87396.0, 'activity_7 W_Complete application': 1, 'resource_7 User_15': 1, 'duration_8': 156.0, 'cumduration_8': 87552.0, 'activity_8 W_Complete application': 1, 'resource_8 User_15': 1, 'duration_9': 2264.0, 'cumduration_9': 89816.0, 'activity_9 W_Complete application': 1, 'resource_9 User_71': 1, 'duration_10': 969.0, 'cumduration_10': 90785.0, 'activity_10 W_Complete application': 1, 'resource_10 User_71': 1, 'duration_11': 588.0, 'cumduration_11': 91373.0, 'activity_11 A_Accepted': 1, 'resource_11 User_24': 1, 'duration_12': 91.0, 'cumduration_12': 91464.0, 'activity_12 O_Create Offer': 1, 'resource_12 User_24': 1, 'duration_13': 2.0, 'cumduration_13': 91466.0, 'activity_13 O_Created': 1, 'resource_13 User_24': 1, 'duration_14': 27.0, 'cumduration_14': 91493.0, 'activity_14 O_Sent (mail and online)': 1, 'resource_14 User_24': 1, 'duration_15': 0.0, 'cumduration_15': 91493.0, 'activity_15 W_Complete application': 1, 'resource_15 User_24': 1, 'duration_16': 0.0, 'cumduration_16': 91493.0, 'activity_16 W_Call after offers': 1, 'resource_16 User_24': 1, 'duration_17': 0.0, 'cumduration_17': 91493.0, 'activity_17 W_Call after offers': 1, 'resource_17 User_24': 1, 'duration_18': 0.0, 'cumduration_18': 91493.0, 'activity_18 A_Complete': 1, 'resource_18 User_24': 1, 'duration_19': 24833.0, 'cumduration_19': 116326.0, 'activity_19 W_Call after offers': 1, 'resource_19 User_1': 1, 'duration_20': 0.0, 'cumduration_20': 116326.0, 'activity_20 W_Call after offers': 1, 'resource_20 User_1': 1, 'duration_21': 0.0, 'cumduration_21': 116326.0, 'activity_21 W_Call after offers': 1, 'resource_21 User_1': 1, 'duration_22': 0.0, 'cumduration_22': 116326.0, 'activity_22 W_Call after offers': 1, 'resource_22 User_1': 1}, 'predicted': {}, 'true_label': None, 'grace_updated': False}\n",
      "{'prefix_length': 16, 'caseid': 'Application_1232820241', 'event': {'activity': 'W_Call after offers', 'resource': 'User_44', 'ts': datetime.datetime(2016, 1, 21, 11, 27, 52)}, 'enctype': 'Index-base', 'start_ts': datetime.datetime(2016, 1, 19, 8, 44, 57), 'prev_enc': <encoding.prefix_bin object at 0x0000018D915B8D00>, 'encoded': {'duration_1': 0, 'cumduration_1': 0, 'activity_1 A_Create Application': 1, 'resource_1 User_5': 1, 'duration_2': 0.0, 'cumduration_2': 0.0, 'activity_2 A_Concept': 1, 'resource_2 User_5': 1, 'duration_3': 0.0, 'cumduration_3': 0.0, 'activity_3 W_Complete application': 1, 'resource_3 User_5': 1, 'duration_4': 0.0, 'cumduration_4': 0.0, 'activity_4 W_Complete application': 1, 'resource_4 User_5': 1, 'duration_5': 98.0, 'cumduration_5': 98.0, 'activity_5 A_Accepted': 1, 'resource_5 User_5': 1, 'duration_6': 10.0, 'cumduration_6': 108.0, 'activity_6 W_Complete application': 1, 'resource_6 User_5': 1, 'duration_7': 174769.0, 'cumduration_7': 174877.0, 'activity_7 W_Complete application': 1, 'resource_7 User_5': 1, 'duration_8': 1898.0, 'cumduration_8': 176775.0, 'activity_8 W_Complete application': 1, 'resource_8 User_5': 1, 'duration_9': 5606.0, 'cumduration_9': 182381.0, 'activity_9 O_Create Offer': 1, 'resource_9 User_44': 1, 'duration_10': 2.0, 'cumduration_10': 182383.0, 'activity_10 O_Created': 1, 'resource_10 User_44': 1, 'duration_11': 42.0, 'cumduration_11': 182425.0, 'activity_11 O_Sent (mail and online)': 1, 'resource_11 User_44': 1, 'duration_12': 0.0, 'cumduration_12': 182425.0, 'activity_12 W_Complete application': 1, 'resource_12 User_44': 1, 'duration_13': 0.0, 'cumduration_13': 182425.0, 'activity_13 W_Call after offers': 1, 'resource_13 User_44': 1, 'duration_14': 0.0, 'cumduration_14': 182425.0, 'activity_14 W_Call after offers': 1, 'resource_14 User_44': 1, 'duration_15': 0.0, 'cumduration_15': 182425.0, 'activity_15 A_Complete': 1, 'resource_15 User_44': 1, 'duration_16': 150.0, 'cumduration_16': 182575.0, 'activity_16 W_Call after offers': 1, 'resource_16 User_44': 1}, 'predicted': {}, 'true_label': None, 'grace_updated': False}\n",
      "{'prefix_length': 16, 'caseid': 'Application_1183938040', 'event': {'activity': 'W_Call after offers', 'resource': 'User_3', 'ts': datetime.datetime(2016, 1, 21, 13, 14, 6)}, 'enctype': 'Index-base', 'start_ts': datetime.datetime(2016, 1, 20, 9, 16, 18), 'prev_enc': <encoding.prefix_bin object at 0x0000018D91382EB0>, 'encoded': {'duration_1': 0, 'cumduration_1': 0, 'activity_1 A_Create Application': 1, 'resource_1 User_14': 1, 'duration_2': 0.0, 'cumduration_2': 0.0, 'activity_2 A_Concept': 1, 'resource_2 User_14': 1, 'duration_3': 0.0, 'cumduration_3': 0.0, 'activity_3 W_Complete application': 1, 'resource_3 User_14': 1, 'duration_4': 0.0, 'cumduration_4': 0.0, 'activity_4 W_Complete application': 1, 'resource_4 User_3': 1, 'duration_5': 26.0, 'cumduration_5': 26.0, 'activity_5 W_Complete application': 1, 'resource_5 User_14': 1, 'duration_6': 100177.0, 'cumduration_6': 100203.0, 'activity_6 W_Complete application': 1, 'resource_6 User_34': 1, 'duration_7': 53.0, 'cumduration_7': 100256.0, 'activity_7 W_Complete application': 1, 'resource_7 User_34': 1, 'duration_8': 13.0, 'cumduration_8': 100269.0, 'activity_8 W_Complete application': 1, 'resource_8 User_3': 1, 'duration_9': 271.0, 'cumduration_9': 100540.0, 'activity_9 A_Accepted': 1, 'resource_9 User_3': 1, 'duration_10': 73.0, 'cumduration_10': 100613.0, 'activity_10 O_Create Offer': 1, 'resource_10 User_3': 1, 'duration_11': 1.0, 'cumduration_11': 100614.0, 'activity_11 O_Created': 1, 'resource_11 User_3': 1, 'duration_12': 10.0, 'cumduration_12': 100624.0, 'activity_12 O_Sent (mail and online)': 1, 'resource_12 User_3': 1, 'duration_13': 0.0, 'cumduration_13': 100624.0, 'activity_13 W_Call after offers': 1, 'resource_13 User_3': 1, 'duration_14': 0.0, 'cumduration_14': 100624.0, 'activity_14 W_Call after offers': 1, 'resource_14 User_3': 1, 'duration_15': 0.0, 'cumduration_15': 100624.0, 'activity_15 A_Complete': 1, 'resource_15 User_3': 1, 'duration_16': 44.0, 'cumduration_16': 100668.0, 'activity_16 W_Call after offers': 1, 'resource_16 User_3': 1}, 'predicted': {}, 'true_label': None, 'grace_updated': False}\n",
      "{'prefix_length': 12, 'caseid': 'Application_2085485752', 'event': {'activity': 'W_Call after offers', 'resource': 'User_41', 'ts': datetime.datetime(2016, 1, 20, 13, 16, 24)}, 'enctype': 'Index-base', 'start_ts': datetime.datetime(2016, 1, 20, 13, 7, 52), 'prev_enc': <encoding.prefix_bin object at 0x0000018D8FA97C10>, 'encoded': {'duration_1': 0, 'cumduration_1': 0, 'activity_1 A_Create Application': 1, 'resource_1 User_41': 1, 'duration_2': 0.0, 'cumduration_2': 0.0, 'activity_2 A_Concept': 1, 'resource_2 User_41': 1, 'duration_3': 0.0, 'cumduration_3': 0.0, 'activity_3 W_Complete application': 1, 'resource_3 User_41': 1, 'duration_4': 0.0, 'cumduration_4': 0.0, 'activity_4 W_Complete application': 1, 'resource_4 User_41': 1, 'duration_5': 230.0, 'cumduration_5': 230.0, 'activity_5 A_Accepted': 1, 'resource_5 User_41': 1, 'duration_6': 54.0, 'cumduration_6': 284.0, 'activity_6 O_Create Offer': 1, 'resource_6 User_41': 1, 'duration_7': 1.0, 'cumduration_7': 285.0, 'activity_7 O_Created': 1, 'resource_7 User_41': 1, 'duration_8': 13.0, 'cumduration_8': 298.0, 'activity_8 O_Sent (mail and online)': 1, 'resource_8 User_41': 1, 'duration_9': 0.0, 'cumduration_9': 298.0, 'activity_9 W_Call after offers': 1, 'resource_9 User_41': 1, 'duration_10': 0.0, 'cumduration_10': 298.0, 'activity_10 W_Call after offers': 1, 'resource_10 User_41': 1, 'duration_11': 0.0, 'cumduration_11': 298.0, 'activity_11 A_Complete': 1, 'resource_11 User_41': 1, 'duration_12': 214.0, 'cumduration_12': 512.0, 'activity_12 W_Call after offers': 1, 'resource_12 User_41': 1}, 'predicted': {}, 'true_label': None, 'grace_updated': False}\n",
      "{'prefix_length': 16, 'caseid': 'Application_1303088153', 'event': {'activity': 'W_Call after offers', 'resource': 'User_36', 'ts': datetime.datetime(2016, 1, 22, 9, 18, 58)}, 'enctype': 'Index-base', 'start_ts': datetime.datetime(2016, 1, 20, 20, 44, 9), 'prev_enc': <encoding.prefix_bin object at 0x0000018D91382400>, 'encoded': {'duration_1': 0, 'cumduration_1': 0, 'activity_1 A_Create Application': 1, 'resource_1 User_14': 1, 'duration_2': 0.0, 'cumduration_2': 0.0, 'activity_2 A_Concept': 1, 'resource_2 User_14': 1, 'duration_3': 0.0, 'cumduration_3': 0.0, 'activity_3 W_Complete application': 1, 'resource_3 User_14': 1, 'duration_4': 0.0, 'cumduration_4': 0.0, 'activity_4 W_Complete application': 1, 'resource_4 User_14': 1, 'duration_5': 49.0, 'cumduration_5': 49.0, 'activity_5 W_Complete application': 1, 'resource_5 User_14': 1, 'duration_6': 66.0, 'cumduration_6': 115.0, 'activity_6 W_Complete application': 1, 'resource_6 User_43': 1, 'duration_7': 3.0, 'cumduration_7': 118.0, 'activity_7 W_Complete application': 1, 'resource_7 User_43': 1, 'duration_8': 131176.0, 'cumduration_8': 131294.0, 'activity_8 A_Accepted': 1, 'resource_8 User_36': 1, 'duration_9': 221.0, 'cumduration_9': 131515.0, 'activity_9 O_Create Offer': 1, 'resource_9 User_36': 1, 'duration_10': 2.0, 'cumduration_10': 131517.0, 'activity_10 O_Created': 1, 'resource_10 User_36': 1, 'duration_11': 18.0, 'cumduration_11': 131535.0, 'activity_11 O_Sent (mail and online)': 1, 'resource_11 User_36': 1, 'duration_12': 0.0, 'cumduration_12': 131535.0, 'activity_12 W_Complete application': 1, 'resource_12 User_36': 1, 'duration_13': 0.0, 'cumduration_13': 131535.0, 'activity_13 W_Call after offers': 1, 'resource_13 User_36': 1, 'duration_14': 0.0, 'cumduration_14': 131535.0, 'activity_14 W_Call after offers': 1, 'resource_14 User_36': 1, 'duration_15': 0.0, 'cumduration_15': 131535.0, 'activity_15 A_Complete': 1, 'resource_15 User_36': 1, 'duration_16': 154.0, 'cumduration_16': 131689.0, 'activity_16 W_Call after offers': 1, 'resource_16 User_36': 1}, 'predicted': {}, 'true_label': None, 'grace_updated': False}\n",
      "{'prefix_length': 6, 'caseid': 'Application_245612900', 'event': {'activity': 'W_Complete application', 'resource': 'User_36', 'ts': datetime.datetime(2016, 1, 21, 15, 11, 4)}, 'enctype': 'Index-base', 'start_ts': datetime.datetime(2016, 1, 21, 14, 49, 4), 'prev_enc': <encoding.prefix_bin object at 0x0000018D91576BB0>, 'encoded': {'duration_1': 0, 'cumduration_1': 0, 'activity_1 A_Create Application': 1, 'resource_1 User_36': 1, 'duration_2': 0.0, 'cumduration_2': 0.0, 'activity_2 A_Concept': 1, 'resource_2 User_36': 1, 'duration_3': 0.0, 'cumduration_3': 0.0, 'activity_3 W_Complete application': 1, 'resource_3 User_36': 1, 'duration_4': 0.0, 'cumduration_4': 0.0, 'activity_4 W_Complete application': 1, 'resource_4 User_36': 1, 'duration_5': 172.0, 'cumduration_5': 172.0, 'activity_5 A_Accepted': 1, 'resource_5 User_36': 1, 'duration_6': 1148.0, 'cumduration_6': 1320.0, 'activity_6 W_Complete application': 1, 'resource_6 User_36': 1}, 'predicted': {}, 'true_label': None, 'grace_updated': False}\n",
      "{'prefix_length': 6, 'caseid': 'Application_1668055532', 'event': {'activity': 'A_Concept', 'resource': 'User_1', 'ts': datetime.datetime(2016, 1, 21, 16, 8, 11)}, 'enctype': 'Index-base', 'start_ts': datetime.datetime(2016, 1, 21, 16, 7, 10), 'prev_enc': <encoding.prefix_bin object at 0x0000018D8FDC4700>, 'encoded': {'duration_1': 0, 'cumduration_1': 0, 'activity_1 A_Create Application': 1, 'resource_1 User_1': 1, 'duration_2': 0.0, 'cumduration_2': 0.0, 'activity_2 A_Submitted': 1, 'resource_2 User_1': 1, 'duration_3': 0.0, 'cumduration_3': 0.0, 'activity_3 W_Handle leads': 1, 'resource_3 User_1': 1, 'duration_4': 61.0, 'cumduration_4': 61.0, 'activity_4 W_Handle leads': 1, 'resource_4 User_1': 1, 'duration_5': 0.0, 'cumduration_5': 61.0, 'activity_5 W_Complete application': 1, 'resource_5 User_1': 1, 'duration_6': 0.0, 'cumduration_6': 61.0, 'activity_6 A_Concept': 1, 'resource_6 User_1': 1}, 'predicted': {}, 'true_label': None, 'grace_updated': False}\n"
     ]
    }
   ],
   "source": [
    "\n",
    "# print(case_dict)"
   ]
  },
  {
   "cell_type": "code",
   "execution_count": 85,
   "id": "93d04960",
   "metadata": {},
   "outputs": [
    {
     "name": "stdout",
     "output_type": "stream",
     "text": [
      "27\n"
     ]
    }
   ],
   "source": [
    "importlib.reload(sliding_window)\n",
    "pw_window = training_window.prefix_wise_window()"
   ]
  },
  {
   "cell_type": "code",
   "execution_count": 103,
   "id": "18c7088d",
   "metadata": {},
   "outputs": [
    {
     "name": "stdout",
     "output_type": "stream",
     "text": [
      "['duration_1' 'cumduration_1' 'activity_1 A_Create Application'\n",
      " 'resource_1 User_5' 'duration_2' 'cumduration_2'\n",
      " 'activity_2 W_Complete application' 'resource_2 User_5'\n",
      " 'resource_1 User_1' 'activity_2 A_Submitted' 'resource_2 User_1'\n",
      " 'resource_1 User_47' 'resource_2 User_47' 'resource_1 User_3'\n",
      " 'activity_2 A_Concept' 'resource_2 User_3' 'resource_1 User_28'\n",
      " 'resource_2 User_28' 'resource_1 User_23' 'resource_2 User_23'\n",
      " 'resource_1 User_16' 'resource_2 User_16' 'resource_1 User_76'\n",
      " 'resource_2 User_76' 'resource_1 User_45' 'resource_2 User_45'\n",
      " 'resource_1 User_37' 'resource_2 User_37' 'resource_1 User_52'\n",
      " 'resource_2 User_52' 'resource_1 User_4' 'resource_2 User_4'\n",
      " 'resource_1 User_10' 'resource_2 User_10' 'resource_1 User_51'\n",
      " 'resource_2 User_51']\n"
     ]
    }
   ],
   "source": [
    "print(pw_window['window_2'][0].columns.values)"
   ]
  },
  {
   "cell_type": "code",
   "execution_count": 99,
   "id": "7a0439d7",
   "metadata": {},
   "outputs": [],
   "source": [
    "training_models = training_stage(training_window, training_models)"
   ]
  },
  {
   "cell_type": "code",
   "execution_count": 68,
   "id": "0c453149",
   "metadata": {},
   "outputs": [
    {
     "name": "stdout",
     "output_type": "stream",
     "text": [
      "['A_Accepted' 'O_Create Offer' 'O_Created' 'W_Complete application']\n",
      "[[0.06 0.   0.91 0.03]]\n",
      "['O_Created']\n"
     ]
    }
   ],
   "source": [
    "print(clf.classes_)\n",
    "print(clf.predict_proba(x_train.loc[19:]))\n",
    "print(clf.predict(x_train.loc[19:]))"
   ]
  },
  {
   "cell_type": "code",
   "execution_count": 62,
   "id": "27417bfd",
   "metadata": {},
   "outputs": [
    {
     "name": "stdout",
     "output_type": "stream",
     "text": [
      "1.0\n"
     ]
    }
   ],
   "source": [
    "print(clf.score(x_train,y_train))"
   ]
  }
 ],
 "metadata": {
  "kernelspec": {
   "display_name": "Python 3 (ipykernel)",
   "language": "python",
   "name": "python3"
  },
  "language_info": {
   "codemirror_mode": {
    "name": "ipython",
    "version": 3
   },
   "file_extension": ".py",
   "mimetype": "text/x-python",
   "name": "python",
   "nbconvert_exporter": "python",
   "pygments_lexer": "ipython3",
   "version": "3.9.5"
  }
 },
 "nbformat": 4,
 "nbformat_minor": 5
}
