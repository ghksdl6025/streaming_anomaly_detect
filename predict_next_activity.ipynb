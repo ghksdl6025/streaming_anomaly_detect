{
 "cells": [
  {
   "cell_type": "code",
   "execution_count": 1,
   "id": "1e7de805",
   "metadata": {},
   "outputs": [],
   "source": [
    "import pandas as pd\n",
    "from river import stream,tree,metrics\n",
    "import utils\n",
    "from encoding import prefix_bin\n",
    "import csv\n",
    "import copy, json\n",
    "import numpy as np\n",
    "from sklearn.metrics import classification_report, accuracy_score\n",
    "from tqdm import tqdm\n",
    "import pickle as pkl\n",
    "import matplotlib.pyplot as plt\n",
    "import os"
   ]
  },
  {
   "cell_type": "code",
   "execution_count": 2,
   "id": "8579327c",
   "metadata": {},
   "outputs": [],
   "source": [
    "dataset = stream.iter_csv(\n",
    "            './bpic17_sampling.csv',\n",
    "            )\n",
    "\n",
    "totallength = len(list(dataset))"
   ]
  },
  {
   "cell_type": "code",
   "execution_count": 3,
   "id": "d0e11394",
   "metadata": {},
   "outputs": [],
   "source": [
    "dataset = stream.iter_csv(\n",
    "            './bpic17_sampling.csv',\n",
    "#             drop=['Complete Timestamp'],\n",
    "            )\n",
    "enctype = 'Index-base'"
   ]
  },
  {
   "cell_type": "code",
   "execution_count": 4,
   "id": "4a6c6d93",
   "metadata": {},
   "outputs": [
    {
     "name": "stdout",
     "output_type": "stream",
     "text": [
      "({'Case ID': 'Application_1003639640', 'Activity': 'A_Create Application', 'Resource': 'User_10', 'Complete Timestamp': '2016-01-26 12:31:07.592', 'progress': ''}, None)\n"
     ]
    }
   ],
   "source": [
    "print(next(dataset))"
   ]
  },
  {
   "cell_type": "code",
   "execution_count": 5,
   "id": "2ea3fd33",
   "metadata": {},
   "outputs": [],
   "source": [
    "key_pair = {\n",
    "'Case ID':'caseid',\n",
    "'Activity':'activity',\n",
    "'Resource':'resource',\n",
    "'Complete Timestamp':'ts',\n",
    "}\n",
    "catatars= ['activity','resource']\n",
    "\n",
    "case_dict ={}\n",
    "training_models ={}\n",
    "feature_matrix ={}\n",
    "\n",
    "casecount = 0\n",
    "rowcounter = 0\n",
    "resultdict ={}\n",
    "acc_dict ={}\n",
    "window_acc_dict={}\n",
    "running_case = 0\n",
    "prediction_result = {}\n",
    "graceperiod_finish=0\n",
    "finishedcases = set()\n",
    "usedingrace = set()\n",
    "window_size = 50\n",
    "\n",
    "window_label_dist ={}"
   ]
  },
  {
   "cell_type": "code",
   "execution_count": 7,
   "id": "4f32601f",
   "metadata": {},
   "outputs": [
    {
     "ename": "IndexError",
     "evalue": "list index out of range",
     "output_type": "error",
     "traceback": [
      "\u001b[1;31m---------------------------------------------------------------------------\u001b[0m",
      "\u001b[1;31mIndexError\u001b[0m                                Traceback (most recent call last)",
      "\u001b[1;32mC:\\Users\\SUHWAN~1\\AppData\\Local\\Temp/ipykernel_10280/3606058810.py\u001b[0m in \u001b[0;36m<module>\u001b[1;34m\u001b[0m\n\u001b[0;32m     23\u001b[0m     \u001b[1;32melse\u001b[0m\u001b[1;33m:\u001b[0m\u001b[1;33m\u001b[0m\u001b[1;33m\u001b[0m\u001b[0m\n\u001b[0;32m     24\u001b[0m         \u001b[0mcase_bin\u001b[0m\u001b[1;33m.\u001b[0m\u001b[0mset_prefix_length\u001b[0m\u001b[1;33m(\u001b[0m\u001b[0mlen\u001b[0m\u001b[1;33m(\u001b[0m\u001b[0mcase_dict\u001b[0m\u001b[1;33m[\u001b[0m\u001b[0mcaseid\u001b[0m\u001b[1;33m]\u001b[0m\u001b[1;33m)\u001b[0m\u001b[1;33m+\u001b[0m\u001b[1;36m1\u001b[0m\u001b[1;33m)\u001b[0m\u001b[1;33m\u001b[0m\u001b[1;33m\u001b[0m\u001b[0m\n\u001b[1;32m---> 25\u001b[1;33m         \u001b[0mcase_bin\u001b[0m\u001b[1;33m.\u001b[0m\u001b[0mset_prev_enc\u001b[0m\u001b[1;33m(\u001b[0m\u001b[0mcase_dict\u001b[0m\u001b[1;33m[\u001b[0m\u001b[0mcaseid\u001b[0m\u001b[1;33m]\u001b[0m\u001b[1;33m[\u001b[0m\u001b[1;33m-\u001b[0m\u001b[1;36m1\u001b[0m\u001b[1;33m]\u001b[0m\u001b[1;33m)\u001b[0m\u001b[1;33m\u001b[0m\u001b[1;33m\u001b[0m\u001b[0m\n\u001b[0m\u001b[0;32m     26\u001b[0m \u001b[1;33m\u001b[0m\u001b[0m\n\u001b[0;32m     27\u001b[0m     \u001b[1;31m# Encode event and cases and add to DB\u001b[0m\u001b[1;33m\u001b[0m\u001b[1;33m\u001b[0m\u001b[1;33m\u001b[0m\u001b[0m\n",
      "\u001b[1;31mIndexError\u001b[0m: list index out of range"
     ]
    }
   ],
   "source": [
    "for x,y in dataset:\n",
    "    if rowcounter%500 == 0:\n",
    "        print(round(rowcounter*100/totallength,2) ,'%', 'Case finished: %s'%(casecount))\n",
    "    rowcounter +=1\n",
    "    utils.dictkey_chg(x, key_pair)\n",
    "    # Event stream change dictionary keys\n",
    "    x['ts'] = x['ts'][:-4]\n",
    "    \n",
    "    # Check label possible\n",
    "    \n",
    "    # Initialize case by prefix length\n",
    "    caseid = x['caseid']    \n",
    "    progress = x['progress']\n",
    "\n",
    "    x.pop('progress')\n",
    "    x.pop('caseid')\n",
    "    case_bin = prefix_bin(caseid, x)\n",
    "    if caseid not in list(case_dict.keys()):\n",
    "        case_bin.set_prefix_length(1)    \n",
    "        case_dict[caseid] = []\n",
    "    elif caseid in finishedcases:\n",
    "        pass\n",
    "    else:\n",
    "        case_bin.set_prefix_length(len(case_dict[caseid])+1)\n",
    "        case_bin.set_prev_enc(case_dict[caseid][-1])\n",
    "    \n",
    "    # Encode event and cases and add to DB\n",
    "\n",
    "#     case_bin.set_enctype(enctype)\n",
    "    case_bin.update_encoded(catattrs=catatars,enctype=enctype)\n",
    "    next_activity = [x for x in case_bin.encoded.keys() if 'activity_%s'%(case_bin.prefix_length) in x].pop()\n",
    "    \n",
    "    if case_bin.prefix_length != 1:\n",
    "        case_bin.prev_enc.update_truelabel(next_activity)\n",
    "\n",
    "    ts = case_bin.event['ts']\n",
    "    case_dict[caseid].append(case_bin)\n",
    "    usedingrace.add(caseid)\n",
    "    # Detect label appeared case \n",
    "    if progress != '' and caseid not in finishedcases:\n",
    "        finishedcases.add(caseid)\n",
    "        # Adding newly finished case to training set.    \n",
    "        casecount +=1\n",
    "        # Grace period to collect feature matrix\n",
    "        if casecount <200:\n",
    "            case_length = len(case_dict[caseid])\n",
    "            for prefix in range(1, case_length):\n",
    "                if 'prefix_%s'%(prefix+1) not in list(feature_matrix.keys()):\n",
    "                    feature_matrix['prefix_%s'%(prefix+1)]=set()\n",
    "                    # Initialize classifier and performance matrix and updating count\n",
    "                    training_models['prefix_%s'%(prefix+1)] = [tree.ExtremelyFastDecisionTreeClassifier(grace_period=100,split_criterion='info_gain'),\n",
    "                                                               metrics.Accuracy(),\n",
    "                                                               0,0]\n",
    "                feature_list = list(case_dict[caseid][prefix].encoded.keys())\n",
    "                for x in feature_list: feature_matrix['prefix_%s'%(prefix+1)].add(x) \n",
    "            graceperiod_finish = case_dict[caseid][-1].event['ts']\n",
    "            for t in training_models.keys():\n",
    "                training_models[t][3] = graceperiod_finish\n",
    "            case_dict.pop(caseid)            \n",
    "        else:\n",
    "            break"
   ]
  },
  {
   "cell_type": "code",
   "execution_count": 15,
   "id": "57320bec",
   "metadata": {},
   "outputs": [
    {
     "name": "stdout",
     "output_type": "stream",
     "text": [
      "{'prefix_length': 1, 'caseid': 'Application_1257947863', 'event': {'activity': 'A_Create Application', 'resource': 'User_25', 'ts': datetime.datetime(2016, 1, 13, 12, 8, 4)}, 'enctype': 'Index-base', 'start_ts': datetime.datetime(2016, 1, 13, 12, 8, 4), 'prev_enc': None, 'encoded': {'duration_1': 0, 'cumduration_1': 0, 'activity_1 A_Create Application': 1, 'resource_1 User_25': 1}, 'predicted': {}, 'true_label': None, 'grace_updated': False}\n"
     ]
    }
   ],
   "source": [
    "print(case_dict['Application_1257947863'][0].__dict__)"
   ]
  },
  {
   "cell_type": "code",
   "execution_count": 24,
   "id": "957a61d8",
   "metadata": {},
   "outputs": [
    {
     "name": "stdout",
     "output_type": "stream",
     "text": [
      "91\n",
      "dict_keys(['prefix_2', 'prefix_3', 'prefix_4', 'prefix_5', 'prefix_6', 'prefix_7', 'prefix_8', 'prefix_9', 'prefix_10', 'prefix_11', 'prefix_12', 'prefix_13', 'prefix_14', 'prefix_15', 'prefix_16', 'prefix_17', 'prefix_18', 'prefix_19', 'prefix_20', 'prefix_21', 'prefix_22', 'prefix_23', 'prefix_24', 'prefix_25', 'prefix_26', 'prefix_27', 'prefix_28', 'prefix_29', 'prefix_30', 'prefix_31', 'prefix_32', 'prefix_33', 'prefix_34', 'prefix_35', 'prefix_36', 'prefix_37', 'prefix_38', 'prefix_39', 'prefix_40', 'prefix_41', 'prefix_42', 'prefix_43', 'prefix_44', 'prefix_45', 'prefix_46', 'prefix_47', 'prefix_48', 'prefix_49', 'prefix_50', 'prefix_51', 'prefix_52', 'prefix_53', 'prefix_54', 'prefix_55', 'prefix_56', 'prefix_57', 'prefix_58', 'prefix_59', 'prefix_60', 'prefix_61', 'prefix_62', 'prefix_63', 'prefix_64', 'prefix_65', 'prefix_66', 'prefix_67', 'prefix_68', 'prefix_69', 'prefix_70', 'prefix_71', 'prefix_72', 'prefix_73', 'prefix_74', 'prefix_75', 'prefix_76', 'prefix_77', 'prefix_78', 'prefix_79', 'prefix_80', 'prefix_81', 'prefix_82', 'prefix_83', 'prefix_84', 'prefix_85', 'prefix_86', 'prefix_87', 'prefix_88', 'prefix_89', 'prefix_90', 'prefix_91'])\n"
     ]
    }
   ],
   "source": [
    "maximum_prefix = sorted([int(x.split('_')[1]) for x in training_models.keys()])[-1]\n",
    "print(maximum_prefix)\n",
    "print(training_models.keys())\n",
    "# maximum_prefix = 15"
   ]
  },
  {
   "cell_type": "code",
   "execution_count": 26,
   "id": "3990fb78",
   "metadata": {},
   "outputs": [
    {
     "name": "stdout",
     "output_type": "stream",
     "text": [
      "15.11 % Case finished: 232 Running case: 1\n"
     ]
    },
    {
     "ename": "KeyError",
     "evalue": "'prefix_92'",
     "output_type": "error",
     "traceback": [
      "\u001b[1;31m---------------------------------------------------------------------------\u001b[0m",
      "\u001b[1;31mKeyError\u001b[0m                                  Traceback (most recent call last)",
      "\u001b[1;32m~\\AppData\\Local\\Temp/ipykernel_14484/728815124.py\u001b[0m in \u001b[0;36m<module>\u001b[1;34m\u001b[0m\n\u001b[0;32m     45\u001b[0m         \u001b[0mts\u001b[0m \u001b[1;33m=\u001b[0m \u001b[0mcase_bin\u001b[0m\u001b[1;33m.\u001b[0m\u001b[0mevent\u001b[0m\u001b[1;33m[\u001b[0m\u001b[1;34m'ts'\u001b[0m\u001b[1;33m]\u001b[0m\u001b[1;33m\u001b[0m\u001b[1;33m\u001b[0m\u001b[0m\n\u001b[0;32m     46\u001b[0m         \u001b[1;32mif\u001b[0m \u001b[0mcase_bin\u001b[0m\u001b[1;33m.\u001b[0m\u001b[0mprefix_length\u001b[0m \u001b[1;33m>=\u001b[0m\u001b[1;36m2\u001b[0m\u001b[1;33m:\u001b[0m\u001b[1;33m\u001b[0m\u001b[1;33m\u001b[0m\u001b[0m\n\u001b[1;32m---> 47\u001b[1;33m             \u001b[0mcase_bin\u001b[0m\u001b[1;33m.\u001b[0m\u001b[0mencoded\u001b[0m \u001b[1;33m=\u001b[0m \u001b[0mutils\u001b[0m\u001b[1;33m.\u001b[0m\u001b[0mreadjustment_training\u001b[0m\u001b[1;33m(\u001b[0m\u001b[0mcase_bin\u001b[0m\u001b[1;33m.\u001b[0m\u001b[0mencoded\u001b[0m\u001b[1;33m,\u001b[0m \u001b[0mfeature_matrix\u001b[0m\u001b[1;33m[\u001b[0m\u001b[1;34m'prefix_%s'\u001b[0m\u001b[1;33m%\u001b[0m\u001b[1;33m(\u001b[0m\u001b[0mcase_bin\u001b[0m\u001b[1;33m.\u001b[0m\u001b[0mprefix_length\u001b[0m\u001b[1;33m)\u001b[0m\u001b[1;33m]\u001b[0m\u001b[1;33m)\u001b[0m\u001b[1;33m\u001b[0m\u001b[1;33m\u001b[0m\u001b[0m\n\u001b[0m\u001b[0;32m     48\u001b[0m             \u001b[0mx_test\u001b[0m \u001b[1;33m=\u001b[0m \u001b[0mcase_bin\u001b[0m\u001b[1;33m.\u001b[0m\u001b[0mencoded\u001b[0m\u001b[1;33m\u001b[0m\u001b[1;33m\u001b[0m\u001b[0m\n\u001b[0;32m     49\u001b[0m             \u001b[0mmodel\u001b[0m \u001b[1;33m=\u001b[0m \u001b[0mtraining_models\u001b[0m\u001b[1;33m[\u001b[0m\u001b[1;34m'prefix_%s'\u001b[0m\u001b[1;33m%\u001b[0m\u001b[1;33m(\u001b[0m\u001b[0mcase_bin\u001b[0m\u001b[1;33m.\u001b[0m\u001b[0mprefix_length\u001b[0m\u001b[1;33m)\u001b[0m\u001b[1;33m]\u001b[0m\u001b[1;33m[\u001b[0m\u001b[1;36m0\u001b[0m\u001b[1;33m]\u001b[0m\u001b[1;33m\u001b[0m\u001b[1;33m\u001b[0m\u001b[0m\n",
      "\u001b[1;31mKeyError\u001b[0m: 'prefix_92'"
     ]
    }
   ],
   "source": [
    "case_dict ={}\n",
    "for x,y in dataset:\n",
    "    if rowcounter%3000 == 0:\n",
    "        print(round(rowcounter*100/totallength,2) ,'%', 'Case finished: %s'%(casecount), 'Running case: %s'%(running_case))\n",
    "    rowcounter +=1\n",
    "    # Event stream change dictionary keys\n",
    "    utils.dictkey_chg(x, key_pair)\n",
    "\n",
    "    x['ts'] = x['ts'][:-4]\n",
    "#     x['ts'] += ' 00:00:00' \n",
    "\n",
    "    # Check label possible\n",
    " \n",
    "\n",
    "    # Initialize case by prefix length\n",
    "    \n",
    "        # Initialize case by prefix length\n",
    "    caseid = x['caseid']    \n",
    "    progress = x['progress']\n",
    "\n",
    "    x.pop('progress')\n",
    "    x.pop('caseid')\n",
    "    \n",
    "    if caseid not in usedingrace:\n",
    "        case_bin = prefix_bin(caseid, x)\n",
    "        case_bin.set_enctype(enctype)\n",
    "\n",
    "        if caseid not in list(case_dict.keys()):\n",
    "            case_bin.set_prefix_length(1)    \n",
    "            case_dict[caseid] = []\n",
    "            running_case +=1\n",
    "        elif caseid in finishedcases:\n",
    "            pass\n",
    "        else:\n",
    "            case_bin.set_prefix_length(len(case_dict[caseid])+1)\n",
    "            case_bin.set_prev_enc(case_dict[caseid][-1])\n",
    "\n",
    "        # Encode event and cases and add to DB\n",
    "        case_bin.update_encoded(catattrs=catatars,enctype=enctype)        \n",
    "        next_activity = [x for x in case_bin.encoded.keys() if 'activity_%s'%(case_bin.prefix_length) in x].pop()\n",
    "\n",
    "        if case_bin.prefix_length >= 2:\n",
    "            case_bin.prev_enc.update_truelabel(next_activity)\n",
    "\n",
    "        ts = case_bin.event['ts']\n",
    "        if case_bin.prefix_length >=2:\n",
    "            case_bin.encoded = utils.readjustment_training(case_bin.encoded, feature_matrix['prefix_%s'%(case_bin.prefix_length)])\n",
    "            x_test = case_bin.encoded\n",
    "            model = training_models['prefix_%s'%(case_bin.prefix_length)][0]\n",
    "            y_pred = model.predict_one(x_test)\n",
    "            if type(y_pred) != str:\n",
    "                y_pred = 'False'\n",
    "            modelid,pred_value = copy.deepcopy(training_models['prefix_%s'%(case_bin.prefix_length)][2]), copy.deepcopy(y_pred)\n",
    "            case_bin.update_prediction((modelid, (pred_value,ts)))        \n",
    "        case_dict[caseid].append(case_bin)\n",
    "\n",
    "        # Detect label appeared case \n",
    "        if progress != '' and caseid not in finishedcases:\n",
    "            finishedcases.add(caseid)\n",
    "            # Adding newly finished case to training set.    \n",
    "            casecount +=1    \n",
    "            # Real training start\n",
    "\n",
    "            # Modify encoded attributes of cases with feature matrix\n",
    "            case_length = len(case_dict[caseid])\n",
    "            \n",
    "            y = next_activity\n",
    "            x = case_dict[caseid][-2].encoded\n",
    "            previous_event_length = case_dict[caseid][-2].prefix_length\n",
    "            model = training_models['prefix_%s'%(previous_event_length)][0]\n",
    "            model.learn_one(x,y)\n",
    "            training_models['prefix_%s'%(previous_event_length)][2] +=1\n",
    "            y_pred = model.predict_one(x)\n",
    "            training_models['prefix_%s'%(previous_event_length)][1].update(y,y_pred)\n",
    "\n",
    "            for cases in list(case_dict.keys()):\n",
    "                if len(case_dict[cases]) == previous_event_length-1:\n",
    "                    x_test = case_dict[cases][-1].encoded\n",
    "                    y_pred = model.predict_one(x_test)\n",
    "                    modelid,pred_value = copy.deepcopy(training_models['prefix_%s'%(prefix+1)][2]), copy.deepcopy(y_pred)\n",
    "                    case_dict[cases][-1].update_prediction((modelid, (pred_value,ts)))\n",
    "                    prediction_key = str(cases)+'_'+str(prefix+1)\n",
    "                    if str(cases)+'_'+str(prefix+2) not in prediction_result.keys():\n",
    "                        if prediction_key not in prediction_result.keys():\n",
    "                            prediction_result[prediction_key] = {}\n",
    "                            prediction_result[prediction_key][modelid] = (pred_value,ts)\n",
    "                        else:\n",
    "                            prediction_result[prediction_key][modelid] = (pred_value,ts)\n",
    "#             print(case_dict[caseid][-2].predicted)\n",
    "            copying = copy.deepcopy(case_dict[caseid])\n",
    "            resultdict[caseid] = copying\n",
    "            case_dict[caseid] =[]\n",
    "            running_case -=1\n",
    "\n",
    "            for prefix in training_models.keys():\n",
    "                if prefix not in list(acc_dict.keys()):\n",
    "                    acc_dict[prefix]=[training_models[prefix][1].get()]\n",
    "                else:\n",
    "                    acc_dict[prefix].append(training_models[prefix][1].get())\n"
   ]
  },
  {
   "cell_type": "code",
   "execution_count": 119,
   "id": "68941f12",
   "metadata": {},
   "outputs": [
    {
     "name": "stderr",
     "output_type": "stream",
     "text": [
      "0it [00:00, ?it/s]\n"
     ]
    }
   ],
   "source": [
    "# Continuous evaluation performance by prefix length-case bin \n",
    "\n",
    "y_true, target_pred = utils.pl_case_continuous_evaluation(resultdict)\n",
    "bin_event_acc = {}\n",
    "max_length = max([len(x) for x in resultdict])\n",
    "\n",
    "for prefix in tqdm(list(y_true.keys())):\n",
    "    t = int(prefix.split('_')[-1])\n",
    "    if t in range(2,maximum_prefix):\n",
    "        if '%s'%(t) not in list(bin_event_acc.keys()):\n",
    "            bin_event_acc['%s'%(t)] ={'y_true':[],'y_pred':[]}\n",
    "        else:\n",
    "            bin_event_acc['%s'%(t)]['y_true'].append(y_true[prefix])\n",
    "            bin_event_acc['%s'%(t)]['y_pred'].append(target_pred[prefix])\n",
    "for prefix in bin_event_acc.keys():\n",
    "#     print(prefix)\n",
    "#     print(classification_report(bin_event_acc[prefix]['y_true'], bin_event_acc[prefix]['y_pred']))\n",
    "    bin_event_acc[prefix]= accuracy_score(bin_event_acc[prefix]['y_true'], bin_event_acc[prefix]['y_pred'])"
   ]
  },
  {
   "cell_type": "code",
   "execution_count": 120,
   "id": "247378e6",
   "metadata": {},
   "outputs": [
    {
     "data": {
      "text/plain": [
       "Text(0.5, 0, 'Prefix length')"
      ]
     },
     "execution_count": 120,
     "metadata": {},
     "output_type": "execute_result"
    },
    {
     "data": {
      "image/png": "[encoded data removed]",
      "text/plain": [
       "<Figure size 864x576 with 1 Axes>"
      ]
     },
     "metadata": {
      "needs_background": "light"
     },
     "output_type": "display_data"
    }
   ],
   "source": [
    "plt.figure(figsize=(12, 8))\n",
    "\n",
    "plt.rc('axes', titlesize=18) # fontsize of the axes title \n",
    "plt.rc('axes', labelsize=18) # fontsize of the x and y labels \n",
    "plt.rc('xtick', labelsize=15) # fontsize of the tick labels \n",
    "plt.rc('ytick', labelsize=15) # fontsize of the tick labels \n",
    "plt.rc('legend', fontsize=14) # legend fontsize \n",
    "\n",
    "axes = plt.gca()\n",
    "axes.set_ylim([-0.05, 1.05])\n",
    "\n",
    "x,ce_acc_y = list(bin_event_acc.keys()),[bin_event_acc[x] for x in bin_event_acc.keys()]\n",
    "plt.plot(x,ce_acc_y,'-o',label='Continuous evaluation')\n",
    "# plt.plot(x,last_acc_y, '-o',label = 'Last accuracy')\n",
    "\n",
    "# y_gap = [[t, last_acc_y[pos]] if t<= last_acc_y[pos] else (last_acc_y[pos], t) for pos,t in enumerate(ce_acc_y)]\n",
    "# for pos in range(len(y_gap)):\n",
    "#     if y_gap[pos][0] ==0:\n",
    "#         y_gap[pos][0] = 0.05\n",
    "#     if y_gap[pos][1] ==0:\n",
    "#         y_gap[pos][1] = 0.05\n",
    "plt.title('Continuous evaluation accuracy by prefix length bin')\n",
    "plt.legend()\n",
    "plt.ylabel('Accuracy')\n",
    "plt.xlabel('Prefix length')\n",
    "    \n",
    "\n",
    "# plt.savefig('./img/%s continuous acc.png'%(classifier))\n",
    "\n",
    "# print(dataset_label)\n",
    "# with open('./result/%s/%s_continuous_evaluation_plbin.pkl'%(dataset_label,classifier),'wb') as f:\n",
    "#     pkl.dump([x,ce_acc_y],f)"
   ]
  }
 ],
 "metadata": {
  "kernelspec": {
   "display_name": "Python 3 (ipykernel)",
   "language": "python",
   "name": "python3"
  },
  "language_info": {
   "codemirror_mode": {
    "name": "ipython",
    "version": 3
   },
   "file_extension": ".py",
   "mimetype": "text/x-python",
   "name": "python",
   "nbconvert_exporter": "python",
   "pygments_lexer": "ipython3",
   "version": "3.9.5"
  }
 },
 "nbformat": 4,
 "nbformat_minor": 5
}
