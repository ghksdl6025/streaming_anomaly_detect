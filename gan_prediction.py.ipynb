{
 "cells": [
  {
   "cell_type": "code",
   "execution_count": 24,
   "metadata": {},
   "outputs": [],
   "source": [
    "import torch\n",
    "import torch.nn as nn\n",
    "import torch.nn.functional as F\n",
    "\n",
    "from torchvision import datasets\n",
    "import torchvision.transforms as transforms\n",
    "from torch.utils.data import DataLoader\n",
    "from torchvision.transforms.functional import to_pil_image\n",
    "import matplotlib.pylab as plt\n",
    "%matplotlib inline\n",
    "\n",
    "import os\n",
    "import numpy as np\n",
    "import time\n",
    "\n",
    "device = torch.device('cuda' if torch.cuda.is_available() else 'cpu')\n"
   ]
  },
  {
   "cell_type": "code",
   "execution_count": 25,
   "metadata": {},
   "outputs": [],
   "source": [
    "path2data = './gan_data'\n",
    "os.makedirs(path2data, exist_ok=True)"
   ]
  },
  {
   "cell_type": "code",
   "execution_count": 26,
   "metadata": {},
   "outputs": [],
   "source": [
    "train_ds = datasets.MNIST(path2data, train=True,\n",
    "                         transform = transforms.Compose([transforms.ToTensor(), transforms.Normalize([0.5],\n",
    "                                                                                                   [0.5])]), download=True)"
   ]
  },
  {
   "cell_type": "code",
   "execution_count": 27,
   "metadata": {},
   "outputs": [
    {
     "data": {
      "text/plain": [
       "<matplotlib.image.AxesImage at 0x23ee83c8970>"
      ]
     },
     "execution_count": 27,
     "metadata": {},
     "output_type": "execute_result"
    },
    {
     "data": {
      "image/png": "[encoded data removed]",
      "text/plain": [
       "<Figure size 432x288 with 1 Axes>"
      ]
     },
     "metadata": {
      "needs_background": "light"
     },
     "output_type": "display_data"
    }
   ],
   "source": [
    "img, label = train_ds[0]\n",
    "plt.imshow(to_pil_image(img), cmap='gray')"
   ]
  },
  {
   "cell_type": "code",
   "execution_count": 28,
   "metadata": {},
   "outputs": [
    {
     "name": "stdout",
     "output_type": "stream",
     "text": [
      "torch.Size([32, 1, 28, 28]) torch.Size([32])\n"
     ]
    }
   ],
   "source": [
    "train_dl = DataLoader(train_ds, batch_size=32, shuffle=True)\n",
    "\n",
    "for x,y in train_dl:\n",
    "    print(x.shape, y.shape)\n",
    "    break"
   ]
  },
  {
   "cell_type": "code",
   "execution_count": 29,
   "metadata": {},
   "outputs": [
    {
     "name": "stdout",
     "output_type": "stream",
     "text": [
      "torch.Size([16, 1, 28, 28])\n"
     ]
    }
   ],
   "source": [
    "class Generator(nn.Module):\n",
    "    def __init__(self, params):\n",
    "        super().__init__()\n",
    "        self.nz = params['nz']\n",
    "        self.img_size = params['img_size']\n",
    "        \n",
    "        self.model = nn.Sequential(\n",
    "            *self._fc_layer(self.nz, 128, normalize=False),\n",
    "            *self._fc_layer(128,256),\n",
    "            *self._fc_layer(256,512),\n",
    "            *self._fc_layer(512,1024),\n",
    "            nn.Linear(1024, int(np.prod(self.img_size))),\n",
    "            nn.Tanh()\n",
    "        )\n",
    "        \n",
    "    def forward(self, z):\n",
    "        img = self.model(z)\n",
    "        img = img.view(img.size(0), *self.img_size)\n",
    "        return img\n",
    "    \n",
    "    def _fc_layer(self, in_channels, out_channels, normalize=True):\n",
    "        layers = []\n",
    "        layers.append(nn.Linear(in_channels, out_channels))\n",
    "        if normalize:\n",
    "            layers.append(nn.BatchNorm1d(out_channels, 0.8))\n",
    "        layers.append(nn.LeakyReLU(0.2))\n",
    "        return layers\n",
    "    \n",
    "params = {'nz': 100,\n",
    "         'img_size':(1,28,28)}\n",
    "x = torch.randn(16,100).to(device)\n",
    "model_gen = Generator(params).to(device)\n",
    "output = model_gen(x)\n",
    "print(output.shape)"
   ]
  },
  {
   "cell_type": "code",
   "execution_count": 30,
   "metadata": {},
   "outputs": [
    {
     "name": "stdout",
     "output_type": "stream",
     "text": [
      "torch.Size([16, 1])\n"
     ]
    }
   ],
   "source": [
    "class Discriminator(nn.Module):\n",
    "    def __init__(self, params):\n",
    "        super().__init__()\n",
    "        self.img_size = params['img_size']\n",
    "        \n",
    "        self.model = nn.Sequential(\n",
    "            nn.Linear(int(np.prod(self.img_size)), 512),\n",
    "            nn.LeakyReLU(0.2),\n",
    "            nn.Linear(512,256),\n",
    "            nn.LeakyReLU(0.2),\n",
    "            nn.Linear(256,1),\n",
    "            nn.Sigmoid()\n",
    "        )\n",
    "    \n",
    "    def forward(self, x):\n",
    "        x = x.view(x.size(0), -1)\n",
    "        x = self.model(x)\n",
    "        return x\n",
    "\n",
    "x = torch.randn(16,1,28,28).to(device)\n",
    "model_dis = Discriminator(params).to(device)\n",
    "output = model_dis(x)\n",
    "print(output.shape)"
   ]
  },
  {
   "cell_type": "code",
   "execution_count": 31,
   "metadata": {},
   "outputs": [],
   "source": [
    "def initialize_weights(model):\n",
    "    classname = model.__class__.__name__\n",
    "    \n",
    "    if classname.find('Linear') != -1:\n",
    "        nn.init.normal_(model.weight.data, 0.0,0.02)\n",
    "        nn.init.constant_(model.bias.data, 0)\n",
    "        \n",
    "    elif classname.find('BatchNorm') != -1:\n",
    "        nn.init.normal_(model.weight.data, 1.0, 0.02)\n",
    "        nn.init.constant_(model.bias.data, 0)\n",
    "\n",
    "model_gen.apply(initialize_weights);\n",
    "model_dis.apply(initialize_weights);"
   ]
  },
  {
   "cell_type": "code",
   "execution_count": 32,
   "metadata": {},
   "outputs": [],
   "source": [
    "loss_func = nn.BCELoss()\n",
    "\n",
    "from torch import optim\n",
    "\n",
    "lr = 2e-4\n",
    "beta1=0.5\n",
    "\n",
    "opt_dis = optim.Adam(model_dis.parameters(), lr=lr, betas = (beta1,0.999))\n",
    "opt_gen = optim.Adam(model_gen.parameters(), lr=lr, betas = (beta1,0.999))"
   ]
  },
  {
   "cell_type": "code",
   "execution_count": 33,
   "metadata": {},
   "outputs": [],
   "source": [
    "real_label =1.\n",
    "fake_label =0.\n",
    "nz = params['nz']\n",
    "num_epochs = 100\n",
    "\n",
    "loss_history= {'gen':[],\n",
    "               'dis':[]}"
   ]
  },
  {
   "cell_type": "code",
   "execution_count": 34,
   "metadata": {
    "scrolled": false
   },
   "outputs": [
    {
     "name": "stdout",
     "output_type": "stream",
     "text": [
      "Epoch: 0, G_Loss: 2.686524, D_Loss: 0.219957, time: 0.15 min\n",
      "Epoch: 1, G_Loss: 1.111425, D_Loss: 0.294846, time: 0.29 min\n",
      "Epoch: 1, G_Loss: 1.706105, D_Loss: 0.339342, time: 0.44 min\n",
      "Epoch: 2, G_Loss: 4.363388, D_Loss: 0.812080, time: 0.59 min\n",
      "Epoch: 2, G_Loss: 1.833733, D_Loss: 0.259681, time: 0.76 min\n",
      "Epoch: 3, G_Loss: 3.040741, D_Loss: 0.446609, time: 0.90 min\n",
      "Epoch: 3, G_Loss: 1.390725, D_Loss: 0.285725, time: 1.05 min\n",
      "Epoch: 4, G_Loss: 2.242678, D_Loss: 0.690893, time: 1.20 min\n",
      "Epoch: 4, G_Loss: 1.518064, D_Loss: 0.289390, time: 1.36 min\n",
      "Epoch: 5, G_Loss: 2.164684, D_Loss: 0.181252, time: 1.51 min\n",
      "Epoch: 5, G_Loss: 3.545590, D_Loss: 0.215853, time: 1.65 min\n",
      "Epoch: 6, G_Loss: 2.507548, D_Loss: 0.389109, time: 1.80 min\n",
      "Epoch: 6, G_Loss: 3.255496, D_Loss: 0.374684, time: 1.96 min\n",
      "Epoch: 7, G_Loss: 2.075268, D_Loss: 0.225709, time: 2.11 min\n",
      "Epoch: 7, G_Loss: 1.896685, D_Loss: 0.304680, time: 2.26 min\n",
      "Epoch: 8, G_Loss: 2.516958, D_Loss: 0.463798, time: 2.41 min\n",
      "Epoch: 9, G_Loss: 1.177938, D_Loss: 0.329699, time: 2.55 min\n",
      "Epoch: 9, G_Loss: 2.142916, D_Loss: 0.254559, time: 2.70 min\n",
      "Epoch: 10, G_Loss: 2.152751, D_Loss: 0.335435, time: 2.85 min\n",
      "Epoch: 10, G_Loss: 0.971966, D_Loss: 0.336425, time: 3.00 min\n",
      "Epoch: 11, G_Loss: 2.093296, D_Loss: 0.286555, time: 3.17 min\n",
      "Epoch: 11, G_Loss: 1.973622, D_Loss: 0.286794, time: 3.34 min\n",
      "Epoch: 12, G_Loss: 1.739219, D_Loss: 0.330697, time: 3.49 min\n",
      "Epoch: 12, G_Loss: 1.254746, D_Loss: 0.329918, time: 3.64 min\n",
      "Epoch: 13, G_Loss: 2.120939, D_Loss: 0.228752, time: 3.79 min\n",
      "Epoch: 13, G_Loss: 1.564180, D_Loss: 0.322964, time: 3.93 min\n",
      "Epoch: 14, G_Loss: 1.661841, D_Loss: 0.396277, time: 4.08 min\n",
      "Epoch: 14, G_Loss: 1.146245, D_Loss: 0.405001, time: 4.22 min\n",
      "Epoch: 15, G_Loss: 2.766515, D_Loss: 0.303733, time: 4.38 min\n",
      "Epoch: 15, G_Loss: 1.771881, D_Loss: 0.249780, time: 4.53 min\n",
      "Epoch: 16, G_Loss: 1.835132, D_Loss: 0.280893, time: 4.69 min\n",
      "Epoch: 17, G_Loss: 1.255675, D_Loss: 0.302008, time: 4.84 min\n",
      "Epoch: 17, G_Loss: 2.431250, D_Loss: 0.406676, time: 4.99 min\n",
      "Epoch: 18, G_Loss: 0.949654, D_Loss: 0.382418, time: 5.14 min\n",
      "Epoch: 18, G_Loss: 3.108507, D_Loss: 0.374624, time: 5.28 min\n",
      "Epoch: 19, G_Loss: 2.741803, D_Loss: 0.284619, time: 5.43 min\n",
      "Epoch: 19, G_Loss: 1.402213, D_Loss: 0.432750, time: 5.57 min\n",
      "Epoch: 20, G_Loss: 0.823144, D_Loss: 0.467861, time: 5.71 min\n",
      "Epoch: 20, G_Loss: 1.855376, D_Loss: 0.220543, time: 5.85 min\n",
      "Epoch: 21, G_Loss: 1.504313, D_Loss: 0.370567, time: 6.00 min\n",
      "Epoch: 21, G_Loss: 1.985057, D_Loss: 0.294143, time: 6.15 min\n",
      "Epoch: 22, G_Loss: 1.612418, D_Loss: 0.209905, time: 6.30 min\n",
      "Epoch: 22, G_Loss: 2.630983, D_Loss: 0.267961, time: 6.45 min\n",
      "Epoch: 23, G_Loss: 2.553348, D_Loss: 0.354638, time: 6.59 min\n",
      "Epoch: 23, G_Loss: 1.561965, D_Loss: 0.288937, time: 6.74 min\n",
      "Epoch: 24, G_Loss: 2.376604, D_Loss: 0.220236, time: 6.89 min\n",
      "Epoch: 25, G_Loss: 3.085378, D_Loss: 0.427167, time: 7.04 min\n",
      "Epoch: 25, G_Loss: 5.085145, D_Loss: 0.471642, time: 7.18 min\n",
      "Epoch: 26, G_Loss: 2.252085, D_Loss: 0.267138, time: 7.34 min\n",
      "Epoch: 26, G_Loss: 0.880350, D_Loss: 0.435352, time: 7.48 min\n",
      "Epoch: 27, G_Loss: 1.663656, D_Loss: 0.383250, time: 7.64 min\n",
      "Epoch: 27, G_Loss: 1.909544, D_Loss: 0.197609, time: 7.79 min\n",
      "Epoch: 28, G_Loss: 2.361804, D_Loss: 0.320697, time: 7.94 min\n",
      "Epoch: 28, G_Loss: 2.406540, D_Loss: 0.239432, time: 8.09 min\n",
      "Epoch: 29, G_Loss: 2.647296, D_Loss: 0.286362, time: 8.24 min\n",
      "Epoch: 29, G_Loss: 1.252584, D_Loss: 0.332071, time: 8.39 min\n",
      "Epoch: 30, G_Loss: 1.971560, D_Loss: 0.219498, time: 8.54 min\n",
      "Epoch: 30, G_Loss: 3.682196, D_Loss: 0.282896, time: 8.68 min\n",
      "Epoch: 31, G_Loss: 3.512868, D_Loss: 0.344615, time: 8.84 min\n",
      "Epoch: 31, G_Loss: 2.804964, D_Loss: 0.128630, time: 8.99 min\n",
      "Epoch: 32, G_Loss: 2.289473, D_Loss: 0.148412, time: 9.13 min\n",
      "Epoch: 33, G_Loss: 2.045837, D_Loss: 0.306268, time: 9.29 min\n",
      "Epoch: 33, G_Loss: 3.256248, D_Loss: 0.332051, time: 9.43 min\n",
      "Epoch: 34, G_Loss: 1.630968, D_Loss: 0.235664, time: 9.59 min\n",
      "Epoch: 34, G_Loss: 2.136927, D_Loss: 0.286489, time: 9.74 min\n",
      "Epoch: 35, G_Loss: 4.178024, D_Loss: 0.546385, time: 9.91 min\n",
      "Epoch: 35, G_Loss: 1.667673, D_Loss: 0.250309, time: 10.06 min\n",
      "Epoch: 36, G_Loss: 2.627628, D_Loss: 0.210932, time: 10.22 min\n",
      "Epoch: 36, G_Loss: 2.581843, D_Loss: 0.231025, time: 10.38 min\n",
      "Epoch: 37, G_Loss: 2.194719, D_Loss: 0.333745, time: 10.54 min\n",
      "Epoch: 37, G_Loss: 2.710314, D_Loss: 0.199393, time: 10.70 min\n",
      "Epoch: 38, G_Loss: 2.288915, D_Loss: 0.303750, time: 10.85 min\n",
      "Epoch: 38, G_Loss: 2.156980, D_Loss: 0.238727, time: 11.00 min\n",
      "Epoch: 39, G_Loss: 3.038535, D_Loss: 0.260386, time: 11.16 min\n",
      "Epoch: 39, G_Loss: 2.875148, D_Loss: 0.181081, time: 11.31 min\n",
      "Epoch: 40, G_Loss: 2.950887, D_Loss: 0.300569, time: 11.47 min\n",
      "Epoch: 41, G_Loss: 2.198096, D_Loss: 0.281829, time: 11.62 min\n",
      "Epoch: 41, G_Loss: 1.348969, D_Loss: 0.307519, time: 11.77 min\n",
      "Epoch: 42, G_Loss: 2.038424, D_Loss: 0.313200, time: 11.92 min\n",
      "Epoch: 42, G_Loss: 1.538732, D_Loss: 0.359955, time: 12.07 min\n",
      "Epoch: 43, G_Loss: 4.127632, D_Loss: 0.575254, time: 12.22 min\n",
      "Epoch: 43, G_Loss: 2.166591, D_Loss: 0.227975, time: 12.36 min\n",
      "Epoch: 44, G_Loss: 2.128337, D_Loss: 0.225336, time: 12.52 min\n",
      "Epoch: 44, G_Loss: 1.991709, D_Loss: 0.255076, time: 12.66 min\n",
      "Epoch: 45, G_Loss: 2.113199, D_Loss: 0.311119, time: 12.81 min\n",
      "Epoch: 45, G_Loss: 2.491776, D_Loss: 0.229441, time: 12.96 min\n",
      "Epoch: 46, G_Loss: 1.818187, D_Loss: 0.280804, time: 13.11 min\n",
      "Epoch: 46, G_Loss: 2.811190, D_Loss: 0.199044, time: 13.26 min\n",
      "Epoch: 47, G_Loss: 3.044784, D_Loss: 0.263674, time: 13.42 min\n",
      "Epoch: 47, G_Loss: 2.951061, D_Loss: 0.289795, time: 13.57 min\n",
      "Epoch: 48, G_Loss: 2.661537, D_Loss: 0.197302, time: 13.71 min\n",
      "Epoch: 49, G_Loss: 1.761472, D_Loss: 0.343148, time: 13.86 min\n",
      "Epoch: 49, G_Loss: 2.287935, D_Loss: 0.273061, time: 14.01 min\n",
      "Epoch: 50, G_Loss: 3.151709, D_Loss: 0.327644, time: 14.16 min\n",
      "Epoch: 50, G_Loss: 2.445277, D_Loss: 0.247795, time: 14.31 min\n",
      "Epoch: 51, G_Loss: 1.346789, D_Loss: 0.348375, time: 14.46 min\n",
      "Epoch: 51, G_Loss: 2.308904, D_Loss: 0.204993, time: 14.61 min\n",
      "Epoch: 52, G_Loss: 2.792065, D_Loss: 0.176021, time: 14.76 min\n",
      "Epoch: 52, G_Loss: 1.800154, D_Loss: 0.278394, time: 14.91 min\n",
      "Epoch: 53, G_Loss: 2.168467, D_Loss: 0.230122, time: 15.06 min\n",
      "Epoch: 53, G_Loss: 1.894204, D_Loss: 0.280896, time: 15.21 min\n",
      "Epoch: 54, G_Loss: 2.369392, D_Loss: 0.255657, time: 15.36 min\n",
      "Epoch: 54, G_Loss: 2.452106, D_Loss: 0.229720, time: 15.50 min\n",
      "Epoch: 55, G_Loss: 2.131184, D_Loss: 0.183363, time: 15.66 min\n",
      "Epoch: 55, G_Loss: 2.637516, D_Loss: 0.226928, time: 15.81 min\n",
      "Epoch: 56, G_Loss: 2.200346, D_Loss: 0.189877, time: 15.96 min\n",
      "Epoch: 57, G_Loss: 2.639903, D_Loss: 0.218479, time: 16.10 min\n",
      "Epoch: 57, G_Loss: 2.451111, D_Loss: 0.356654, time: 16.25 min\n",
      "Epoch: 58, G_Loss: 2.458125, D_Loss: 0.354684, time: 16.42 min\n",
      "Epoch: 58, G_Loss: 3.094948, D_Loss: 0.180315, time: 16.59 min\n",
      "Epoch: 59, G_Loss: 2.952126, D_Loss: 0.213184, time: 16.73 min\n",
      "Epoch: 59, G_Loss: 2.851978, D_Loss: 0.272461, time: 16.88 min\n",
      "Epoch: 60, G_Loss: 2.464598, D_Loss: 0.225486, time: 17.04 min\n",
      "Epoch: 60, G_Loss: 2.662813, D_Loss: 0.290929, time: 17.19 min\n",
      "Epoch: 61, G_Loss: 1.941137, D_Loss: 0.294711, time: 17.34 min\n",
      "Epoch: 61, G_Loss: 2.601195, D_Loss: 0.344775, time: 17.49 min\n",
      "Epoch: 62, G_Loss: 1.693902, D_Loss: 0.268829, time: 17.63 min\n",
      "Epoch: 62, G_Loss: 1.871881, D_Loss: 0.198857, time: 17.78 min\n",
      "Epoch: 63, G_Loss: 2.121612, D_Loss: 0.159006, time: 17.93 min\n",
      "Epoch: 63, G_Loss: 3.225167, D_Loss: 0.345331, time: 18.07 min\n",
      "Epoch: 64, G_Loss: 2.384830, D_Loss: 0.228570, time: 18.23 min\n",
      "Epoch: 65, G_Loss: 2.231748, D_Loss: 0.371489, time: 18.38 min\n",
      "Epoch: 65, G_Loss: 2.744868, D_Loss: 0.155951, time: 18.54 min\n",
      "Epoch: 66, G_Loss: 2.589677, D_Loss: 0.397385, time: 18.69 min\n",
      "Epoch: 66, G_Loss: 2.324028, D_Loss: 0.320595, time: 18.85 min\n",
      "Epoch: 67, G_Loss: 2.764953, D_Loss: 0.245944, time: 19.00 min\n",
      "Epoch: 67, G_Loss: 2.181036, D_Loss: 0.149878, time: 19.15 min\n",
      "Epoch: 68, G_Loss: 2.278713, D_Loss: 0.298952, time: 19.30 min\n",
      "Epoch: 68, G_Loss: 3.188930, D_Loss: 0.209376, time: 19.44 min\n",
      "Epoch: 69, G_Loss: 2.418230, D_Loss: 0.217673, time: 19.59 min\n",
      "Epoch: 69, G_Loss: 1.660285, D_Loss: 0.253170, time: 19.73 min\n",
      "Epoch: 70, G_Loss: 2.488298, D_Loss: 0.218592, time: 19.89 min\n"
     ]
    },
    {
     "name": "stdout",
     "output_type": "stream",
     "text": [
      "Epoch: 70, G_Loss: 2.130124, D_Loss: 0.228401, time: 20.04 min\n",
      "Epoch: 71, G_Loss: 2.088840, D_Loss: 0.226489, time: 20.19 min\n",
      "Epoch: 71, G_Loss: 1.784649, D_Loss: 0.309598, time: 20.35 min\n",
      "Epoch: 72, G_Loss: 2.153725, D_Loss: 0.291606, time: 20.49 min\n",
      "Epoch: 73, G_Loss: 2.222868, D_Loss: 0.272761, time: 20.64 min\n",
      "Epoch: 73, G_Loss: 1.652388, D_Loss: 0.251170, time: 20.82 min\n",
      "Epoch: 74, G_Loss: 2.009182, D_Loss: 0.173552, time: 20.96 min\n",
      "Epoch: 74, G_Loss: 2.578509, D_Loss: 0.213680, time: 21.11 min\n",
      "Epoch: 75, G_Loss: 2.225499, D_Loss: 0.292452, time: 21.25 min\n",
      "Epoch: 75, G_Loss: 2.320677, D_Loss: 0.212836, time: 21.40 min\n",
      "Epoch: 76, G_Loss: 1.222275, D_Loss: 0.291438, time: 21.57 min\n",
      "Epoch: 76, G_Loss: 2.210193, D_Loss: 0.157397, time: 21.72 min\n",
      "Epoch: 77, G_Loss: 1.782999, D_Loss: 0.364072, time: 21.89 min\n",
      "Epoch: 77, G_Loss: 2.321247, D_Loss: 0.193463, time: 22.03 min\n",
      "Epoch: 78, G_Loss: 2.717659, D_Loss: 0.253160, time: 22.17 min\n",
      "Epoch: 78, G_Loss: 3.585983, D_Loss: 0.220724, time: 22.32 min\n",
      "Epoch: 79, G_Loss: 1.991859, D_Loss: 0.186381, time: 22.48 min\n",
      "Epoch: 79, G_Loss: 2.081885, D_Loss: 0.188556, time: 22.62 min\n",
      "Epoch: 80, G_Loss: 1.789591, D_Loss: 0.334363, time: 22.78 min\n",
      "Epoch: 81, G_Loss: 2.020468, D_Loss: 0.328920, time: 22.92 min\n",
      "Epoch: 81, G_Loss: 2.092178, D_Loss: 0.269735, time: 23.07 min\n",
      "Epoch: 82, G_Loss: 2.123888, D_Loss: 0.310176, time: 23.23 min\n",
      "Epoch: 82, G_Loss: 1.943945, D_Loss: 0.417795, time: 23.39 min\n",
      "Epoch: 83, G_Loss: 2.274327, D_Loss: 0.175619, time: 23.56 min\n",
      "Epoch: 83, G_Loss: 2.176844, D_Loss: 0.229418, time: 23.70 min\n",
      "Epoch: 84, G_Loss: 1.542243, D_Loss: 0.330384, time: 23.85 min\n",
      "Epoch: 84, G_Loss: 2.021002, D_Loss: 0.281212, time: 23.99 min\n",
      "Epoch: 85, G_Loss: 2.170842, D_Loss: 0.456538, time: 24.14 min\n",
      "Epoch: 85, G_Loss: 1.514627, D_Loss: 0.341652, time: 24.29 min\n",
      "Epoch: 86, G_Loss: 2.354906, D_Loss: 0.186579, time: 24.44 min\n",
      "Epoch: 86, G_Loss: 1.908339, D_Loss: 0.388865, time: 24.59 min\n",
      "Epoch: 87, G_Loss: 2.604637, D_Loss: 0.191231, time: 24.73 min\n",
      "Epoch: 87, G_Loss: 1.775674, D_Loss: 0.323056, time: 24.87 min\n",
      "Epoch: 88, G_Loss: 1.516011, D_Loss: 0.256976, time: 25.02 min\n",
      "Epoch: 89, G_Loss: 2.007656, D_Loss: 0.324635, time: 25.17 min\n",
      "Epoch: 89, G_Loss: 1.989708, D_Loss: 0.318583, time: 25.31 min\n",
      "Epoch: 90, G_Loss: 2.245468, D_Loss: 0.361364, time: 25.46 min\n",
      "Epoch: 90, G_Loss: 1.591918, D_Loss: 0.286495, time: 25.61 min\n",
      "Epoch: 91, G_Loss: 1.409030, D_Loss: 0.388189, time: 25.76 min\n",
      "Epoch: 91, G_Loss: 1.828852, D_Loss: 0.399483, time: 25.91 min\n",
      "Epoch: 92, G_Loss: 1.550730, D_Loss: 0.316476, time: 26.06 min\n",
      "Epoch: 92, G_Loss: 2.498114, D_Loss: 0.307220, time: 26.21 min\n",
      "Epoch: 93, G_Loss: 1.989063, D_Loss: 0.282402, time: 26.36 min\n",
      "Epoch: 93, G_Loss: 1.558635, D_Loss: 0.267237, time: 26.50 min\n",
      "Epoch: 94, G_Loss: 1.994169, D_Loss: 0.268355, time: 26.65 min\n",
      "Epoch: 94, G_Loss: 1.958316, D_Loss: 0.333379, time: 26.79 min\n",
      "Epoch: 95, G_Loss: 1.386580, D_Loss: 0.384924, time: 26.93 min\n",
      "Epoch: 95, G_Loss: 1.964969, D_Loss: 0.266119, time: 27.07 min\n",
      "Epoch: 96, G_Loss: 2.043745, D_Loss: 0.203266, time: 27.21 min\n",
      "Epoch: 97, G_Loss: 2.153368, D_Loss: 0.301799, time: 27.36 min\n",
      "Epoch: 97, G_Loss: 2.116659, D_Loss: 0.305867, time: 27.50 min\n",
      "Epoch: 98, G_Loss: 1.706514, D_Loss: 0.288684, time: 27.64 min\n",
      "Epoch: 98, G_Loss: 1.401834, D_Loss: 0.330761, time: 27.78 min\n",
      "Epoch: 99, G_Loss: 2.030025, D_Loss: 0.273163, time: 27.93 min\n",
      "Epoch: 99, G_Loss: 1.833263, D_Loss: 0.387582, time: 28.07 min\n"
     ]
    }
   ],
   "source": [
    "batch_count = 0\n",
    "start_time = time.time()\n",
    "model_dis.train()\n",
    "model_gen.train()\n",
    "\n",
    "for epoch in range(num_epochs):\n",
    "    for xb, yb in train_dl:\n",
    "        ba_si = xb.size(0)\n",
    "        \n",
    "        xb = xb.to(device)\n",
    "        yb_real = torch.Tensor(ba_si, 1).fill_(1.0).to(device)\n",
    "        yb_fake = torch.Tensor(ba_si, 1).fill_(0.0).to(device)\n",
    "        \n",
    "        model_gen.zero_grad()\n",
    "        noise = torch.randn(ba_si, nz, device=device)\n",
    "        out_gen =model_gen(noise)\n",
    "        out_dis = model_dis(out_gen)\n",
    "        \n",
    "        loss_gen = loss_func(out_dis, yb_real)\n",
    "        loss_gen.backward()\n",
    "        opt_gen.step()\n",
    "        \n",
    "        model_dis.zero_grad()\n",
    "        \n",
    "        out_real = model_dis(xb)\n",
    "        out_fake = model_dis(out_gen.detach())\n",
    "        loss_real = loss_func(out_real, yb_real)\n",
    "        loss_fake = loss_func(out_fake, yb_fake)\n",
    "        loss_dis = (loss_real + loss_fake) / 2\n",
    "        \n",
    "        loss_dis.backward()\n",
    "        opt_dis.step()\n",
    "        \n",
    "        loss_history['gen'].append(loss_gen.item())\n",
    "        loss_history['dis'].append(loss_dis.item())\n",
    "        \n",
    "        batch_count +=1\n",
    "        if batch_count % 1000 ==0:\n",
    "            print('Epoch: %.0f, G_Loss: %.6f, D_Loss: %.6f, time: %.2f min' %(epoch, loss_gen.item(),\n",
    "                                                                             loss_dis.item(), (time.time() - start_time)/60))\n"
   ]
  },
  {
   "cell_type": "code",
   "execution_count": 35,
   "metadata": {},
   "outputs": [
    {
     "data": {
      "image/png": "[encoded data removed]",
      "text/plain": [
       "<Figure size 720x360 with 1 Axes>"
      ]
     },
     "metadata": {
      "needs_background": "light"
     },
     "output_type": "display_data"
    }
   ],
   "source": [
    "plt.figure(figsize=(10,5))\n",
    "plt.title('Loss Progress')\n",
    "plt.plot(loss_history['gen'], label='Gen. Loss')\n",
    "plt.plot(loss_history['dis'], label='Dis. Loss')\n",
    "plt.xlabel('batch count')\n",
    "plt.ylabel('Loss')\n",
    "plt.legend()\n",
    "plt.show()"
   ]
  },
  {
   "cell_type": "code",
   "execution_count": 36,
   "metadata": {},
   "outputs": [],
   "source": [
    "path2models = './models/'\n",
    "os.makedirs(path2models, exist_ok=True)\n",
    "path2weights_gen = os.path.join(path2models, 'weights_gen.pt')\n",
    "path2weights_dis = os.path.join(path2models, 'weights_dis.pt')\n",
    "\n",
    "torch.save(model_gen.state_dict(), path2weights_gen)\n",
    "torch.save(model_dis.state_dict(), path2weights_dis)"
   ]
  },
  {
   "cell_type": "code",
   "execution_count": 37,
   "metadata": {},
   "outputs": [
    {
     "name": "stdout",
     "output_type": "stream",
     "text": [
      "torch.Size([16, 1, 28, 28])\n"
     ]
    }
   ],
   "source": [
    "weights = torch.load(path2weights_gen)\n",
    "model_gen.load_state_dict(weights)\n",
    "\n",
    "# evaluation mode\n",
    "model_gen.eval()\n",
    "\n",
    "# fake image 생성\n",
    "with torch.no_grad():\n",
    "    fixed_noise = torch.randn(16, 100, device=device)\n",
    "    img_fake = model_gen(fixed_noise).detach().cpu()\n",
    "print(img_fake.shape)"
   ]
  },
  {
   "cell_type": "code",
   "execution_count": 39,
   "metadata": {},
   "outputs": [
    {
     "name": "stdout",
     "output_type": "stream",
     "text": [
      "tensor([[ 0.7723, -1.1918,  0.6274,  ..., -0.0833, -0.2863, -0.2501],\n",
      "        [ 0.1867, -0.0550,  1.2680,  ...,  1.5707, -0.7410, -0.5311],\n",
      "        [ 0.8721,  1.2469, -1.8917,  ...,  1.7014, -0.4903, -1.5402],\n",
      "        ...,\n",
      "        [-1.6612, -0.6921,  0.2913,  ..., -1.6074, -1.4969, -0.2989],\n",
      "        [-1.0272,  0.0182,  0.7338,  ..., -0.1574,  0.4436, -0.3920],\n",
      "        [-1.8295,  0.3320, -0.0077,  ..., -0.3436,  1.6346, -0.1234]],\n",
      "       device='cuda:0')\n"
     ]
    },
    {
     "data": {
      "image/png": "[encoded data removed]",
      "text/plain": [
       "<Figure size 720x720 with 16 Axes>"
      ]
     },
     "metadata": {
      "needs_background": "light"
     },
     "output_type": "display_data"
    }
   ],
   "source": [
    "plt.figure(figsize=(10,10))\n",
    "print(fixed_noise)\n",
    "for ii in range(16):\n",
    "    plt.subplot(4,4,ii+1)\n",
    "    plt.imshow(to_pil_image(0.5*img_fake[ii]+0.5),cmap='gray')\n",
    "    plt.axis('off')"
   ]
  },
  {
   "cell_type": "code",
   "execution_count": null,
   "metadata": {},
   "outputs": [],
   "source": []
  }
 ],
 "metadata": {
  "kernelspec": {
   "display_name": "Python 3",
   "language": "python",
   "name": "python3"
  },
  "language_info": {
   "codemirror_mode": {
    "name": "ipython",
    "version": 3
   },
   "file_extension": ".py",
   "mimetype": "text/x-python",
   "name": "python",
   "nbconvert_exporter": "python",
   "pygments_lexer": "ipython3",
   "version": "3.6.5"
  }
 },
 "nbformat": 4,
 "nbformat_minor": 5
}
