{
 "cells": [
  {
   "cell_type": "code",
   "execution_count": 1,
   "id": "48f69e45",
   "metadata": {},
   "outputs": [
    {
     "data": {
      "text/plain": [
       "<module 'sliding_window' from 'C:\\\\Users\\\\suhwanlee\\\\Desktop\\\\project\\\\streaming_anomaly_detect\\\\sliding_window.py'>"
      ]
     },
     "execution_count": 1,
     "metadata": {},
     "output_type": "execute_result"
    }
   ],
   "source": [
    "import pandas as pd\n",
    "from river import stream,tree,metrics\n",
    "import utils\n",
    "from encoding import prefix_bin\n",
    "import numpy as np\n",
    "from sklearn.metrics import classification_report, accuracy_score\n",
    "import os\n",
    "from tqdm import tqdm\n",
    "import sliding_window\n",
    "from sklearn.ensemble import RandomForestClassifier, IsolationForest\n",
    "\n",
    "from sklearn.tree import DecisionTreeClassifier\n",
    "import datetime, time\n",
    "import importlib\n",
    "importlib.reload(sliding_window)"
   ]
  },
  {
   "cell_type": "code",
   "execution_count": 2,
   "id": "d070d97b",
   "metadata": {},
   "outputs": [],
   "source": [
    "file_name = './data/loan_baseline.pnml_noise_0.15_iteration_1_seed_614_sample.csv'\n",
    "\n",
    "dataset = stream.iter_csv(\n",
    "            file_name\n",
    "#             './data/loan_baseline.pnml_noise_0.15_iteration_1_seed_614_simple.csv',\n",
    "            )\n",
    "\n",
    "totallength = len(list(dataset))"
   ]
  },
  {
   "cell_type": "code",
   "execution_count": 3,
   "id": "d32a9cd5",
   "metadata": {},
   "outputs": [],
   "source": [
    "dataset = stream.iter_csv(\n",
    "            file_name,\n",
    "            drop=['noise', 'lifecycle:transition', 'Variant', 'Variant index'],\n",
    "            )\n",
    "enctype = 'Index-base'"
   ]
  },
  {
   "cell_type": "code",
   "execution_count": 4,
   "id": "01d90d1c",
   "metadata": {},
   "outputs": [],
   "source": [
    "key_pair = {\n",
    "'Case ID':'caseid',\n",
    "'Activity':'activity',\n",
    "# 'Resource':'resource',\n",
    "'Complete Timestamp':'ts',\n",
    "}\n",
    "catatars= ['activity']#,'resource']\n",
    "\n",
    "case_dict ={}\n",
    "training_models ={}\n",
    "\n",
    "casecount = 0\n",
    "rowcounter = 0\n",
    "resultdict ={}\n",
    "acc_dict ={}\n",
    "prefix_wise_window = {}\n",
    "prediction_result = {}\n",
    "graceperiod_finish=0\n",
    "finishedcases = set()"
   ]
  },
  {
   "cell_type": "code",
   "execution_count": 5,
   "id": "5892fefc",
   "metadata": {},
   "outputs": [],
   "source": [
    "# Sliding window for training setting\n",
    "window_size = 50\n",
    "retraining_size = 10\n",
    "training_window = sliding_window.training_window(window_size,retraining_size)\n",
    "contamination = 'auto'"
   ]
  },
  {
   "cell_type": "code",
   "execution_count": 6,
   "id": "35c34002",
   "metadata": {},
   "outputs": [],
   "source": [
    "def display_progress(row_counting, total_length, interval=500):\n",
    "    if rowcounter%interval == 0:\n",
    "        print(round(rowcounter*100/totallength,2) ,'%', 'Case finished: %s'%(casecount), 'Running cases: %s'%(len(case_dict)))"
   ]
  },
  {
   "cell_type": "code",
   "execution_count": 7,
   "id": "c2fb6460",
   "metadata": {},
   "outputs": [],
   "source": [
    "def training_stage(window, training_models):\n",
    "    '''\n",
    "    Manage training stage of streaming anomaly detection\n",
    "    ----------\n",
    "    Parameters\n",
    "    window: class training_window\n",
    "        Sliding window with training data\n",
    "    training_models: dict\n",
    "        Trained detector by prefix stored in. Default is randomforest\n",
    "    ----------\n",
    "    Return\n",
    "    training_models\n",
    "    '''\n",
    "    pw_window = window.prefix_wise_window()\n",
    "    for x in pw_window:\n",
    "        clf  = IsolationForest(max_samples='auto', contamination=contamination)\n",
    "        \n",
    "        clf.fit(pw_window[x][0])\n",
    "        if 'detector_%s'%(x) not in training_models:\n",
    "            training_models['detector_%s'%(x)] =[0,0]\n",
    "        training_models['detector_%s'%(x)][0] += 1\n",
    "        training_models['detector_%s'%(x)][1] = clf\n",
    "    return training_models"
   ]
  },
  {
   "cell_type": "code",
   "execution_count": 8,
   "id": "baf239bd",
   "metadata": {},
   "outputs": [],
   "source": [
    "def predict_activity_proba(last_event):\n",
    "    '''\n",
    "    Predict next activity prediction \n",
    "    \n",
    "    Parameters\n",
    "    ----------\n",
    "    last_event: case_bin\n",
    "    \n",
    "    Return\n",
    "    ----------\n",
    "    modelid, prediction\n",
    "    \n",
    "    '''\n",
    "    feature_matrix = prefix_wise_window['window_%s'%(last_event.prefix_length)][0].columns.values\n",
    "    current_event = utils.readjustment_training(last_event.encoded, feature_matrix)\n",
    "    current_event = pd.Series(current_event).to_frame().T\n",
    "    prediction = [training_models['detector_window_%s'%(last_event.prefix_length)][1].predict_proba(current_event), training_models['detector_window_%s'%(last_event.prefix_length)][1].classes_]\n",
    "    modelid = training_models['detector_window_%s'%(last_event.prefix_length)][0]\n",
    "\n",
    "    return modelid, prediction"
   ]
  },
  {
   "cell_type": "code",
   "execution_count": 9,
   "id": "a8d051cc",
   "metadata": {},
   "outputs": [],
   "source": [
    "def first_event(case_bin):\n",
    "    '''\n",
    "    Generate start event before first event\n",
    "    '''\n",
    "    print(case_bin.event['ts'])\n",
    "    empty_data ={'activity':'Start signal', 'ts':datetime.datetime.strftime(case_bin.event['ts'], '%Y-%m-%d %H:%M:%S')}\n",
    "    start_event = prefix_bin(case_bin.caseid, empty_data)\n",
    "    start_event.set_prefix_length(0)\n",
    "    start_event.update_encoded(catattrs=catatars,enctype=enctype)\n",
    "    start_event.update_truelabel(case_bin.event['activity'])\n",
    "    return start_event"
   ]
  },
  {
   "cell_type": "code",
   "execution_count": 10,
   "id": "580aba60",
   "metadata": {},
   "outputs": [],
   "source": [
    "training_time = []"
   ]
  },
  {
   "cell_type": "code",
   "execution_count": 11,
   "id": "198e3bb1",
   "metadata": {
    "scrolled": true
   },
   "outputs": [
    {
     "name": "stdout",
     "output_type": "stream",
     "text": [
      "0.0 % Case finished: 0 Running cases: 0\n"
     ]
    },
    {
     "name": "stderr",
     "output_type": "stream",
     "text": [
      "c:\\python\\lib\\site-packages\\sklearn\\ensemble\\_iforest.py:451: RuntimeWarning: invalid value encountered in true_divide\n",
      "  -depths\n",
      "c:\\python\\lib\\site-packages\\sklearn\\ensemble\\_iforest.py:451: RuntimeWarning: invalid value encountered in true_divide\n",
      "  -depths\n",
      "c:\\python\\lib\\site-packages\\sklearn\\ensemble\\_iforest.py:451: RuntimeWarning: invalid value encountered in true_divide\n",
      "  -depths\n",
      "c:\\python\\lib\\site-packages\\sklearn\\ensemble\\_iforest.py:451: RuntimeWarning: invalid value encountered in true_divide\n",
      "  -depths\n",
      "c:\\python\\lib\\site-packages\\sklearn\\ensemble\\_iforest.py:451: RuntimeWarning: invalid value encountered in true_divide\n",
      "  -depths\n",
      "c:\\python\\lib\\site-packages\\sklearn\\ensemble\\_iforest.py:451: RuntimeWarning: invalid value encountered in true_divide\n",
      "  -depths\n",
      "c:\\python\\lib\\site-packages\\sklearn\\ensemble\\_iforest.py:451: RuntimeWarning: invalid value encountered in true_divide\n",
      "  -depths\n",
      "c:\\python\\lib\\site-packages\\sklearn\\ensemble\\_iforest.py:451: RuntimeWarning: invalid value encountered in true_divide\n",
      "  -depths\n",
      "c:\\python\\lib\\site-packages\\sklearn\\ensemble\\_iforest.py:451: RuntimeWarning: invalid value encountered in true_divide\n",
      "  -depths\n",
      "c:\\python\\lib\\site-packages\\sklearn\\ensemble\\_iforest.py:451: RuntimeWarning: invalid value encountered in true_divide\n",
      "  -depths\n"
     ]
    },
    {
     "name": "stdout",
     "output_type": "stream",
     "text": [
      "5.8 % Case finished: 29 Running cases: 1\n"
     ]
    },
    {
     "name": "stderr",
     "output_type": "stream",
     "text": [
      "c:\\python\\lib\\site-packages\\sklearn\\ensemble\\_iforest.py:451: RuntimeWarning: invalid value encountered in true_divide\n",
      "  -depths\n",
      "c:\\python\\lib\\site-packages\\sklearn\\ensemble\\_iforest.py:451: RuntimeWarning: invalid value encountered in true_divide\n",
      "  -depths\n",
      "c:\\python\\lib\\site-packages\\sklearn\\ensemble\\_iforest.py:451: RuntimeWarning: invalid value encountered in true_divide\n",
      "  -depths\n",
      "c:\\python\\lib\\site-packages\\sklearn\\ensemble\\_iforest.py:451: RuntimeWarning: invalid value encountered in true_divide\n",
      "  -depths\n",
      "c:\\python\\lib\\site-packages\\sklearn\\ensemble\\_iforest.py:451: RuntimeWarning: invalid value encountered in true_divide\n",
      "  -depths\n"
     ]
    },
    {
     "name": "stdout",
     "output_type": "stream",
     "text": [
      "11.61 % Case finished: 60 Running cases: 1\n"
     ]
    },
    {
     "name": "stderr",
     "output_type": "stream",
     "text": [
      "c:\\python\\lib\\site-packages\\sklearn\\ensemble\\_iforest.py:451: RuntimeWarning: invalid value encountered in true_divide\n",
      "  -depths\n",
      "c:\\python\\lib\\site-packages\\sklearn\\ensemble\\_iforest.py:451: RuntimeWarning: invalid value encountered in true_divide\n",
      "  -depths\n"
     ]
    },
    {
     "name": "stdout",
     "output_type": "stream",
     "text": [
      "17.41 % Case finished: 92 Running cases: 1\n"
     ]
    },
    {
     "name": "stderr",
     "output_type": "stream",
     "text": [
      "c:\\python\\lib\\site-packages\\sklearn\\ensemble\\_iforest.py:451: RuntimeWarning: invalid value encountered in true_divide\n",
      "  -depths\n",
      "c:\\python\\lib\\site-packages\\sklearn\\ensemble\\_iforest.py:451: RuntimeWarning: invalid value encountered in true_divide\n",
      "  -depths\n"
     ]
    },
    {
     "name": "stdout",
     "output_type": "stream",
     "text": [
      "23.22 % Case finished: 121 Running cases: 1\n"
     ]
    },
    {
     "name": "stderr",
     "output_type": "stream",
     "text": [
      "c:\\python\\lib\\site-packages\\sklearn\\ensemble\\_iforest.py:451: RuntimeWarning: invalid value encountered in true_divide\n",
      "  -depths\n",
      "c:\\python\\lib\\site-packages\\sklearn\\ensemble\\_iforest.py:451: RuntimeWarning: invalid value encountered in true_divide\n",
      "  -depths\n",
      "c:\\python\\lib\\site-packages\\sklearn\\ensemble\\_iforest.py:451: RuntimeWarning: invalid value encountered in true_divide\n",
      "  -depths\n",
      "c:\\python\\lib\\site-packages\\sklearn\\ensemble\\_iforest.py:451: RuntimeWarning: invalid value encountered in true_divide\n",
      "  -depths\n",
      "c:\\python\\lib\\site-packages\\sklearn\\ensemble\\_iforest.py:451: RuntimeWarning: invalid value encountered in true_divide\n",
      "  -depths\n",
      "c:\\python\\lib\\site-packages\\sklearn\\ensemble\\_iforest.py:451: RuntimeWarning: invalid value encountered in true_divide\n",
      "  -depths\n"
     ]
    },
    {
     "name": "stdout",
     "output_type": "stream",
     "text": [
      "29.02 % Case finished: 148 Running cases: 1\n"
     ]
    },
    {
     "name": "stderr",
     "output_type": "stream",
     "text": [
      "c:\\python\\lib\\site-packages\\sklearn\\ensemble\\_iforest.py:451: RuntimeWarning: invalid value encountered in true_divide\n",
      "  -depths\n",
      "c:\\python\\lib\\site-packages\\sklearn\\ensemble\\_iforest.py:451: RuntimeWarning: invalid value encountered in true_divide\n",
      "  -depths\n",
      "c:\\python\\lib\\site-packages\\sklearn\\ensemble\\_iforest.py:451: RuntimeWarning: invalid value encountered in true_divide\n",
      "  -depths\n"
     ]
    },
    {
     "name": "stdout",
     "output_type": "stream",
     "text": [
      "34.83 % Case finished: 180 Running cases: 0\n"
     ]
    },
    {
     "name": "stderr",
     "output_type": "stream",
     "text": [
      "c:\\python\\lib\\site-packages\\sklearn\\ensemble\\_iforest.py:451: RuntimeWarning: invalid value encountered in true_divide\n",
      "  -depths\n",
      "c:\\python\\lib\\site-packages\\sklearn\\ensemble\\_iforest.py:451: RuntimeWarning: invalid value encountered in true_divide\n",
      "  -depths\n",
      "c:\\python\\lib\\site-packages\\sklearn\\ensemble\\_iforest.py:451: RuntimeWarning: invalid value encountered in true_divide\n",
      "  -depths\n",
      "c:\\python\\lib\\site-packages\\sklearn\\ensemble\\_iforest.py:451: RuntimeWarning: invalid value encountered in true_divide\n",
      "  -depths\n",
      "c:\\python\\lib\\site-packages\\sklearn\\ensemble\\_iforest.py:451: RuntimeWarning: invalid value encountered in true_divide\n",
      "  -depths\n",
      "c:\\python\\lib\\site-packages\\sklearn\\ensemble\\_iforest.py:451: RuntimeWarning: invalid value encountered in true_divide\n",
      "  -depths\n",
      "c:\\python\\lib\\site-packages\\sklearn\\ensemble\\_iforest.py:451: RuntimeWarning: invalid value encountered in true_divide\n",
      "  -depths\n"
     ]
    },
    {
     "name": "stdout",
     "output_type": "stream",
     "text": [
      "40.63 % Case finished: 211 Running cases: 1\n"
     ]
    },
    {
     "name": "stderr",
     "output_type": "stream",
     "text": [
      "c:\\python\\lib\\site-packages\\sklearn\\ensemble\\_iforest.py:451: RuntimeWarning: invalid value encountered in true_divide\n",
      "  -depths\n",
      "c:\\python\\lib\\site-packages\\sklearn\\ensemble\\_iforest.py:451: RuntimeWarning: invalid value encountered in true_divide\n",
      "  -depths\n",
      "c:\\python\\lib\\site-packages\\sklearn\\ensemble\\_iforest.py:451: RuntimeWarning: invalid value encountered in true_divide\n",
      "  -depths\n",
      "c:\\python\\lib\\site-packages\\sklearn\\ensemble\\_iforest.py:451: RuntimeWarning: invalid value encountered in true_divide\n",
      "  -depths\n",
      "c:\\python\\lib\\site-packages\\sklearn\\ensemble\\_iforest.py:451: RuntimeWarning: invalid value encountered in true_divide\n",
      "  -depths\n"
     ]
    },
    {
     "name": "stdout",
     "output_type": "stream",
     "text": [
      "46.44 % Case finished: 242 Running cases: 1\n"
     ]
    },
    {
     "name": "stderr",
     "output_type": "stream",
     "text": [
      "c:\\python\\lib\\site-packages\\sklearn\\ensemble\\_iforest.py:451: RuntimeWarning: invalid value encountered in true_divide\n",
      "  -depths\n",
      "c:\\python\\lib\\site-packages\\sklearn\\ensemble\\_iforest.py:451: RuntimeWarning: invalid value encountered in true_divide\n",
      "  -depths\n",
      "c:\\python\\lib\\site-packages\\sklearn\\ensemble\\_iforest.py:451: RuntimeWarning: invalid value encountered in true_divide\n",
      "  -depths\n",
      "c:\\python\\lib\\site-packages\\sklearn\\ensemble\\_iforest.py:451: RuntimeWarning: invalid value encountered in true_divide\n",
      "  -depths\n",
      "c:\\python\\lib\\site-packages\\sklearn\\ensemble\\_iforest.py:451: RuntimeWarning: invalid value encountered in true_divide\n",
      "  -depths\n",
      "c:\\python\\lib\\site-packages\\sklearn\\ensemble\\_iforest.py:451: RuntimeWarning: invalid value encountered in true_divide\n",
      "  -depths\n"
     ]
    },
    {
     "name": "stdout",
     "output_type": "stream",
     "text": [
      "52.24 % Case finished: 273 Running cases: 0\n"
     ]
    },
    {
     "name": "stderr",
     "output_type": "stream",
     "text": [
      "c:\\python\\lib\\site-packages\\sklearn\\ensemble\\_iforest.py:451: RuntimeWarning: invalid value encountered in true_divide\n",
      "  -depths\n",
      "c:\\python\\lib\\site-packages\\sklearn\\ensemble\\_iforest.py:451: RuntimeWarning: invalid value encountered in true_divide\n",
      "  -depths\n",
      "c:\\python\\lib\\site-packages\\sklearn\\ensemble\\_iforest.py:451: RuntimeWarning: invalid value encountered in true_divide\n",
      "  -depths\n",
      "c:\\python\\lib\\site-packages\\sklearn\\ensemble\\_iforest.py:451: RuntimeWarning: invalid value encountered in true_divide\n",
      "  -depths\n",
      "c:\\python\\lib\\site-packages\\sklearn\\ensemble\\_iforest.py:451: RuntimeWarning: invalid value encountered in true_divide\n",
      "  -depths\n"
     ]
    },
    {
     "name": "stdout",
     "output_type": "stream",
     "text": [
      "58.05 % Case finished: 301 Running cases: 1\n",
      "63.85 % Case finished: 334 Running cases: 0\n"
     ]
    },
    {
     "name": "stderr",
     "output_type": "stream",
     "text": [
      "c:\\python\\lib\\site-packages\\sklearn\\ensemble\\_iforest.py:451: RuntimeWarning: invalid value encountered in true_divide\n",
      "  -depths\n",
      "c:\\python\\lib\\site-packages\\sklearn\\ensemble\\_iforest.py:451: RuntimeWarning: invalid value encountered in true_divide\n",
      "  -depths\n"
     ]
    },
    {
     "name": "stdout",
     "output_type": "stream",
     "text": [
      "69.65 % Case finished: 365 Running cases: 1\n"
     ]
    },
    {
     "name": "stderr",
     "output_type": "stream",
     "text": [
      "c:\\python\\lib\\site-packages\\sklearn\\ensemble\\_iforest.py:451: RuntimeWarning: invalid value encountered in true_divide\n",
      "  -depths\n",
      "c:\\python\\lib\\site-packages\\sklearn\\ensemble\\_iforest.py:451: RuntimeWarning: invalid value encountered in true_divide\n",
      "  -depths\n",
      "c:\\python\\lib\\site-packages\\sklearn\\ensemble\\_iforest.py:451: RuntimeWarning: invalid value encountered in true_divide\n",
      "  -depths\n"
     ]
    },
    {
     "name": "stdout",
     "output_type": "stream",
     "text": [
      "75.46 % Case finished: 395 Running cases: 1\n",
      "81.26 % Case finished: 427 Running cases: 1\n"
     ]
    },
    {
     "name": "stderr",
     "output_type": "stream",
     "text": [
      "c:\\python\\lib\\site-packages\\sklearn\\ensemble\\_iforest.py:451: RuntimeWarning: invalid value encountered in true_divide\n",
      "  -depths\n",
      "c:\\python\\lib\\site-packages\\sklearn\\ensemble\\_iforest.py:451: RuntimeWarning: invalid value encountered in true_divide\n",
      "  -depths\n",
      "c:\\python\\lib\\site-packages\\sklearn\\ensemble\\_iforest.py:451: RuntimeWarning: invalid value encountered in true_divide\n",
      "  -depths\n",
      "c:\\python\\lib\\site-packages\\sklearn\\ensemble\\_iforest.py:451: RuntimeWarning: invalid value encountered in true_divide\n",
      "  -depths\n",
      "c:\\python\\lib\\site-packages\\sklearn\\ensemble\\_iforest.py:451: RuntimeWarning: invalid value encountered in true_divide\n",
      "  -depths\n",
      "c:\\python\\lib\\site-packages\\sklearn\\ensemble\\_iforest.py:451: RuntimeWarning: invalid value encountered in true_divide\n",
      "  -depths\n",
      "c:\\python\\lib\\site-packages\\sklearn\\ensemble\\_iforest.py:451: RuntimeWarning: invalid value encountered in true_divide\n",
      "  -depths\n"
     ]
    },
    {
     "name": "stdout",
     "output_type": "stream",
     "text": [
      "87.07 % Case finished: 457 Running cases: 1\n",
      "92.87 % Case finished: 490 Running cases: 1\n"
     ]
    },
    {
     "name": "stderr",
     "output_type": "stream",
     "text": [
      "c:\\python\\lib\\site-packages\\sklearn\\ensemble\\_iforest.py:451: RuntimeWarning: invalid value encountered in true_divide\n",
      "  -depths\n",
      "c:\\python\\lib\\site-packages\\sklearn\\ensemble\\_iforest.py:451: RuntimeWarning: invalid value encountered in true_divide\n",
      "  -depths\n",
      "c:\\python\\lib\\site-packages\\sklearn\\ensemble\\_iforest.py:451: RuntimeWarning: invalid value encountered in true_divide\n",
      "  -depths\n",
      "c:\\python\\lib\\site-packages\\sklearn\\ensemble\\_iforest.py:451: RuntimeWarning: invalid value encountered in true_divide\n",
      "  -depths\n",
      "c:\\python\\lib\\site-packages\\sklearn\\ensemble\\_iforest.py:451: RuntimeWarning: invalid value encountered in true_divide\n",
      "  -depths\n"
     ]
    },
    {
     "name": "stdout",
     "output_type": "stream",
     "text": [
      "98.68 % Case finished: 518 Running cases: 1\n"
     ]
    }
   ],
   "source": [
    "start_time = time.time()\n",
    "\n",
    "for x,y in dataset:\n",
    "    display_progress(rowcounter, totallength)\n",
    "    rowcounter +=1\n",
    "    \n",
    "    utils.dictkey_chg(x, key_pair)\n",
    "    # Event stream change dictionary keys\n",
    "    x['ts'] = x['ts'][:-4]\n",
    "    \n",
    "    # Check label possible\n",
    "    \n",
    "    # Initialize case by prefix length\n",
    "    caseid = x['caseid']\n",
    "    x.pop('caseid')\n",
    "    \n",
    "    case_bin = prefix_bin(caseid, x)\n",
    "    \n",
    "    if caseid not in list(case_dict.keys()):\n",
    "        case_dict[caseid] = []\n",
    "        case_bin.set_prefix_length(1)\n",
    "        \n",
    "    elif caseid in finishedcases:\n",
    "        continue\n",
    "    \n",
    "    else:\n",
    "        case_bin.set_prefix_length(len(case_dict[caseid])+1)\n",
    "        case_bin.set_prev_enc(case_dict[caseid][-1])\n",
    "    \n",
    "    # Encode event and cases and add to DB\n",
    "    ts = case_bin.event['ts']\n",
    "    case_bin.update_encoded(catattrs=catatars,enctype=enctype)\n",
    "    \n",
    "    # Set current activity as outcome of previous event\n",
    "    if case_bin.prefix_length != 1:\n",
    "        case_bin.prev_enc.update_truelabel(x['activity'])\n",
    "\n",
    "    # First prediction for current event\n",
    "    \n",
    "    last_event = case_bin\n",
    "    modelid = 'None'\n",
    "    prediction = 'Not Available'\n",
    "\n",
    "    if len(training_window.getAllitems()) !=0:\n",
    "        if 'window_%s'%(last_event.prefix_length) in list(prefix_wise_window.keys()) and 'detector_window_%s'%(last_event.prefix_length) in training_models.keys():\n",
    "#             modelid, prediction = predict_activity_proba(last_event)\n",
    "            feature_matrix = prefix_wise_window['window_%s'%(last_event.prefix_length)][0].columns.values\n",
    "            current_event = utils.readjustment_training(last_event.encoded, feature_matrix)\n",
    "            current_event = pd.Series(current_event).to_frame().T\n",
    "            prediction = [training_models['detector_window_%s'%(last_event.prefix_length)][1].predict(current_event)]\n",
    "            modelid = training_models['detector_window_%s'%(last_event.prefix_length)][0]\n",
    "    case_bin.update_prediction((modelid, (prediction,ts)))        \n",
    "            \n",
    "    # Update training window and finish the case\n",
    "    if x['activity'] == 'End':\n",
    "        training_window.update_window({caseid: case_dict[caseid]})        \n",
    "        if training_window.retraining == training_window.retraining_count:            \n",
    "            train_start = time.time()\n",
    "            training_models = training_stage(training_window, training_models)\n",
    "            train_end = time.time()\n",
    "            training_time.append(train_end-train_start)\n",
    "            prefix_wise_window = training_window.prefix_wise_window()\n",
    "            \n",
    "        resultdict[caseid] = case_dict[caseid]\n",
    "        case_dict.pop(caseid)\n",
    "\n",
    "        casecount +=1\n",
    "        for x in case_dict:\n",
    "            last_event = case_dict[x][-1]\n",
    "            modelid = 'None'\n",
    "            prediction = 'Not Available'\n",
    "\n",
    "            if len(training_window.getAllitems()) !=0:\n",
    "                prefix_wise_window = training_window.prefix_wise_window()\n",
    "                if 'window_%s'%(last_event.prefix_length) in list(prefix_wise_window.keys()) and 'detector_window_%s'%(last_event.prefix_length) in training_models.keys():\n",
    "#                     modelid, prediction = predict_activity_proba(last_event)\n",
    "\n",
    "                    feature_matrix = prefix_wise_window['window_%s'%(last_event.prefix_length)][0].columns.values\n",
    "                    current_event = utils.readjustment_training(last_event.encoded, feature_matrix)\n",
    "                    current_event = pd.Series(current_event).to_frame().T\n",
    "                    prediction = [training_models['detector_window_%s'%(last_event.prefix_length)][1].predict(current_event)]\n",
    "                    modelid = training_models['detector_window_%s'%(last_event.prefix_length)][0]\n",
    "            case_dict[x][-1].update_prediction((modelid, (prediction,ts)))        \n",
    "        training_window.reset_retraining_count()\n",
    "    else:\n",
    "        case_dict[caseid].append(case_bin)\n",
    "\n",
    "\n",
    "end_time = time.time()"
   ]
  },
  {
   "cell_type": "code",
   "execution_count": 12,
   "id": "c8b14c15",
   "metadata": {},
   "outputs": [
    {
     "name": "stdout",
     "output_type": "stream",
     "text": [
      "2.69846995977255 0.4413794279773605\n"
     ]
    }
   ],
   "source": [
    "print(np.mean(training_time), np.std(training_time))"
   ]
  },
  {
   "cell_type": "code",
   "execution_count": 13,
   "id": "8172bad1",
   "metadata": {},
   "outputs": [
    {
     "name": "stdout",
     "output_type": "stream",
     "text": [
      "6.1237222909927365\n"
     ]
    }
   ],
   "source": [
    "print((end_time-start_time)/60)"
   ]
  },
  {
   "cell_type": "code",
   "execution_count": 14,
   "id": "1fc25db6",
   "metadata": {},
   "outputs": [],
   "source": [
    "original_df = pd.read_csv(file_name)\n"
   ]
  },
  {
   "cell_type": "code",
   "execution_count": 15,
   "id": "1516e214",
   "metadata": {},
   "outputs": [],
   "source": [
    "for_confusion_matrix = {}\n",
    "\n",
    "global_true =[]\n",
    "global_pred = []\n",
    "counting_normal = 0\n",
    "for caseid in list(resultdict.keys()):\n",
    "\n",
    "    for_confusion_matrix[int(caseid)] =[]\n",
    "    \n",
    "    prediction_list = []\n",
    "    \n",
    "    df = original_df[original_df['Case ID'] == int(caseid)].reset_index(drop=True)\n",
    "    for pos, t in enumerate(resultdict['%s'%(caseid)]):\n",
    "        \n",
    "        predictions = list(t.predicted.values())[0][0]    \n",
    "        if predictions  == 'Not Available':\n",
    "            predictions_label = 'Not Available'\n",
    "        else:\n",
    "            predictions_label = predictions[0][0]\n",
    "\n",
    "        if predictions_label == 1:\n",
    "            predictions_label = 'Normal'\n",
    "        elif predictions_label == -1:\n",
    "            predictions_label = 'Anomalous'\n",
    "\n",
    "        if t.event['activity'] != 'Start':\n",
    "            prediction_list.append(predictions_label)\n",
    "            \n",
    "    true_label_list = []\n",
    "\n",
    "    labellist = list(df['noise'])\n",
    "    actlist = list(df['Activity'])\n",
    "    for pos, t in enumerate(labellist):\n",
    "        if t == 'Start' or t == 'End':\n",
    "            continue\n",
    "        elif t == 'true':\n",
    "            true_label = 'Anomalous'\n",
    "        else:\n",
    "            true_label = 'Normal'\n",
    "        true_label_list.append(true_label)\n",
    "\n",
    "    \n",
    "    for pos, p in enumerate(prediction_list):\n",
    "        global_pred.append(p)\n",
    "        global_true.append(true_label_list[pos])\n",
    "saving_data = {'y_true':global_true, 'y_pred':global_pred}\n",
    "import pickle\n",
    "saving_file_name = file_name.split('/')[-1][:-4]\n",
    "\n",
    "with open('./result/iso_cont%s_%s.pkl'%(contamination, saving_file_name), 'wb') as fp:\n",
    "    pickle.dump(saving_data, fp)\n",
    "#     print(caseid, len(true_label_list), len(prediction_list))\n",
    "\n",
    "#     for t in true_label_list:\n",
    "#         global_true.append(t)\n",
    "#     print(prediction_list)\n",
    "#     print(true_label_list)"
   ]
  },
  {
   "cell_type": "code",
   "execution_count": 16,
   "id": "d290675b",
   "metadata": {},
   "outputs": [
    {
     "name": "stdout",
     "output_type": "stream",
     "text": [
      "7562 7562\n",
      "0\n",
      "               precision    recall  f1-score   support\n",
      "\n",
      "    Anomalous       0.35      0.08      0.13      1065\n",
      "       Normal       0.87      0.95      0.91      6497\n",
      "Not Available       0.00      0.00      0.00         0\n",
      "\n",
      "     accuracy                           0.83      7562\n",
      "    macro avg       0.41      0.34      0.35      7562\n",
      " weighted avg       0.79      0.83      0.80      7562\n",
      "\n"
     ]
    },
    {
     "name": "stderr",
     "output_type": "stream",
     "text": [
      "c:\\python3\\lib\\site-packages\\sklearn\\metrics\\_classification.py:1248: UndefinedMetricWarning: Recall and F-score are ill-defined and being set to 0.0 in labels with no true samples. Use `zero_division` parameter to control this behavior.\n",
      "  _warn_prf(average, modifier, msg_start, len(result))\n",
      "c:\\python3\\lib\\site-packages\\sklearn\\metrics\\_classification.py:1248: UndefinedMetricWarning: Recall and F-score are ill-defined and being set to 0.0 in labels with no true samples. Use `zero_division` parameter to control this behavior.\n",
      "  _warn_prf(average, modifier, msg_start, len(result))\n",
      "c:\\python3\\lib\\site-packages\\sklearn\\metrics\\_classification.py:1248: UndefinedMetricWarning: Recall and F-score are ill-defined and being set to 0.0 in labels with no true samples. Use `zero_division` parameter to control this behavior.\n",
      "  _warn_prf(average, modifier, msg_start, len(result))\n"
     ]
    }
   ],
   "source": [
    "# for pos, t in enumerate(prediction_list):\n",
    "#     if t == 'Not Available':\n",
    "#         true_label_list.pop(pos)\n",
    "print(len(global_true), len(global_pred))\n",
    "matrix = classification_report(y_true = global_true, y_pred = global_pred)\n",
    "\n",
    "print(counting_normal)\n",
    "print(matrix)"
   ]
  },
  {
   "cell_type": "code",
   "execution_count": null,
   "id": "b6ac1f9c",
   "metadata": {},
   "outputs": [],
   "source": []
  }
 ],
 "metadata": {
  "kernelspec": {
   "display_name": "Python 3 (ipykernel)",
   "language": "python",
   "name": "python3"
  },
  "language_info": {
   "codemirror_mode": {
    "name": "ipython",
    "version": 3
   },
   "file_extension": ".py",
   "mimetype": "text/x-python",
   "name": "python",
   "nbconvert_exporter": "python",
   "pygments_lexer": "ipython3",
   "version": "3.9.5"
  }
 },
 "nbformat": 4,
 "nbformat_minor": 5
}
