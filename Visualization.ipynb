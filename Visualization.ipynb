{
 "cells": [
  {
   "cell_type": "code",
   "execution_count": null,
   "id": "c093c1ae",
   "metadata": {},
   "outputs": [],
   "source": [
    "import pickle\n",
    "from matplotlib import pyplot as plt\n",
    "from matplotlib import patches\n",
    "import numpy as np\n",
    "import matplotlib.dates as mdates\n",
    "import pandas as pd"
   ]
  },
  {
   "cell_type": "code",
   "execution_count": null,
   "id": "4c4f5fdb",
   "metadata": {},
   "outputs": [],
   "source": [
    "end_ts = 0\n",
    "start_ts =0\n",
    "previous_t = 0\n",
    "ats = []\n",
    "for x in range(len(anomalous_result['Application_1892186837'])):\n",
    "    anomalous_ts_set = []\n",
    "\n",
    "    for pos, t in enumerate(anomalous_result['Application_1892186837'][x]):\n",
    "        if pos == 0 :\n",
    "            previous_t = t[0]\n",
    "            start_ts = t[1]\n",
    "        if previous_t != t[0]:\n",
    "            end_ts = t[1]\n",
    "            anomalous_ts_set.append([previous_t, start_ts, end_ts])\n",
    "            previous_t = t[0]\n",
    "            start_ts = t[1]\n",
    "    end_ts = t[1]\n",
    "    anomalous_ts_set.append([previous_t, start_ts, end_ts])\n",
    "    \n",
    "    if x == len(anomalous_result['Application_1892186837'])-1:\n",
    "            anomalous_ts_set[-1][2] = anomalous_result['Application_1892186837'][x][0][1]\n",
    "    else:\n",
    "        anomalous_ts_set[-1][2] = anomalous_result['Application_1892186837'][x+1][0][1]\n",
    "    ats.append(anomalous_ts_set)\n"
   ]
  },
  {
   "cell_type": "code",
   "execution_count": null,
   "id": "c376a807",
   "metadata": {},
   "outputs": [],
   "source": [
    "colormap = {'Not Available' : 'lightgray', 'Normal': 'Green', 'Potential anomalous':'Yellow'}"
   ]
  },
  {
   "cell_type": "code",
   "execution_count": null,
   "id": "5335fcbf",
   "metadata": {},
   "outputs": [],
   "source": [
    "from datetime import datetime, timedelta\n",
    "from matplotlib.patches import Rectangle\n",
    "import matplotlib.pyplot as plt\n",
    "import matplotlib.dates as mdates\n",
    "\n",
    "start_list = []\n",
    "end_list = []\n",
    "\n",
    "# Create new plot\n",
    "fig = plt.figure(figsize=(18,6))\n",
    "ax = fig.add_subplot(111)\n",
    "\n",
    "for pos, anomalous_ts_set in enumerate(ats):\n",
    "    for x in range(len(anomalous_ts_set)):\n",
    "        # Create rectangle x coordinates\n",
    "        startTime = anomalous_ts_set[x][1]\n",
    "        endTime = anomalous_ts_set[x][2]\n",
    "        # endTime = startTime + timedelta(seconds = 1)\n",
    "\n",
    "        # convert to matplotlib date representation\n",
    "        start = mdates.date2num(startTime)\n",
    "        end = mdates.date2num(endTime)\n",
    "        width = end - start\n",
    "        # Plot rectangle\n",
    "        rect = Rectangle((start, 0), width, 0.5, color=colormap[anomalous_ts_set[x][0]])\n",
    "        ax.add_patch(rect)   \n",
    "\n",
    "        # assign date locator / formatter to the x-axis to get proper labels\n",
    "        locator = mdates.AutoDateLocator(minticks=3)\n",
    "        formatter = mdates.AutoDateFormatter(locator)\n",
    "        ax.xaxis.set_major_locator(locator)\n",
    "        ax.xaxis.set_major_formatter(formatter)\n",
    "\n",
    "        start_list.append(start)\n",
    "        end_list.append(end)\n",
    "        ax.plot([end,0],[end, 1], 'k-',lw=2)\n",
    "# set the limits\n",
    "plt.xlim([min(start_list), max(end_list)])\n",
    "\n",
    "# plt.xlim([start-width, end+width])\n",
    "plt.ylim([-.5, 1.5])\n",
    "\n",
    "# go\n",
    "plt.show()"
   ]
  }
 ],
 "metadata": {
  "kernelspec": {
   "display_name": "Python 3 (ipykernel)",
   "language": "python",
   "name": "python3"
  },
  "language_info": {
   "codemirror_mode": {
    "name": "ipython",
    "version": 3
   },
   "file_extension": ".py",
   "mimetype": "text/x-python",
   "name": "python",
   "nbconvert_exporter": "python",
   "pygments_lexer": "ipython3",
   "version": "3.9.4"
  }
 },
 "nbformat": 4,
 "nbformat_minor": 5
}
