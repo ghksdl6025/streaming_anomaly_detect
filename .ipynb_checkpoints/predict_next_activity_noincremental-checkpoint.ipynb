{
 "cells": [
  {
   "cell_type": "code",
   "execution_count": 38,
   "id": "44387976",
   "metadata": {},
   "outputs": [],
   "source": [
    "import pandas as pd\n",
    "from river import stream,tree,metrics\n",
    "import utils\n",
    "from encoding import prefix_bin\n",
    "import numpy as np\n",
    "from sklearn.metrics import classification_report, accuracy_score\n",
    "import os\n",
    "import sliding_window\n",
    "from sklearn.ensemble import RandomForestClassifier"
   ]
  },
  {
   "cell_type": "code",
   "execution_count": 39,
   "id": "5f424c5a",
   "metadata": {},
   "outputs": [],
   "source": [
    "dataset = stream.iter_csv(\n",
    "            './bpic17_length28.csv',\n",
    "            )\n",
    "\n",
    "totallength = len(list(dataset))"
   ]
  },
  {
   "cell_type": "code",
   "execution_count": 40,
   "id": "bd08beef",
   "metadata": {},
   "outputs": [],
   "source": [
    "dataset = stream.iter_csv(\n",
    "            './bpic17_length28.csv',\n",
    "#             drop=['Complete Timestamp'],\n",
    "            )\n",
    "enctype = 'Index-base'"
   ]
  },
  {
   "cell_type": "code",
   "execution_count": 41,
   "id": "b7654d96",
   "metadata": {},
   "outputs": [],
   "source": [
    "key_pair = {\n",
    "# 'Case ID':'caseid',\n",
    "# 'Activity':'activity',\n",
    "# 'Resource':'resource',\n",
    "# 'Complete Timestamp':'ts',\n",
    "}\n",
    "catatars= ['activity','resource']\n",
    "\n",
    "case_dict ={}\n",
    "training_models ={}\n",
    "\n",
    "casecount = 0\n",
    "rowcounter = 0\n",
    "resultdict ={}\n",
    "acc_dict ={}\n",
    "\n",
    "prediction_result = {}\n",
    "graceperiod_finish=0\n",
    "finishedcases = set()"
   ]
  },
  {
   "cell_type": "code",
   "execution_count": 42,
   "id": "0f457584",
   "metadata": {},
   "outputs": [],
   "source": [
    "# Sliding window for training setting\n",
    "window_size = 20\n",
    "training_window = sliding_window.training_window(window_size)\n"
   ]
  },
  {
   "cell_type": "code",
   "execution_count": 43,
   "id": "2bef05fd",
   "metadata": {},
   "outputs": [],
   "source": [
    "def display_progress(row_counting, total_length, interval=500):\n",
    "    if rowcounter%interval == 0:\n",
    "        print(round(rowcounter*100/totallength,2) ,'%', 'Case finished: %s'%(casecount))"
   ]
  },
  {
   "cell_type": "code",
   "execution_count": 44,
   "id": "ebdc5a68",
   "metadata": {},
   "outputs": [
    {
     "name": "stdout",
     "output_type": "stream",
     "text": [
      "0.0 % Case finished: 0\n",
      "6.22 % Case finished: 0\n",
      "12.44 % Case finished: 0\n",
      "18.67 % Case finished: 0\n",
      "24.89 % Case finished: 0\n",
      "31.11 % Case finished: 0\n",
      "37.33 % Case finished: 0\n",
      "43.55 % Case finished: 0\n",
      "49.78 % Case finished: 0\n",
      "56.0 % Case finished: 0\n",
      "62.22 % Case finished: 0\n",
      "68.44 % Case finished: 0\n",
      "74.66 % Case finished: 0\n",
      "80.89 % Case finished: 0\n",
      "87.11 % Case finished: 0\n",
      "93.33 % Case finished: 0\n",
      "99.55 % Case finished: 0\n"
     ]
    }
   ],
   "source": [
    "for x,y in dataset:\n",
    "    display_progress(rowcounter, totallength)\n",
    "    rowcounter +=1\n",
    "    \n",
    "    utils.dictkey_chg(x, key_pair)\n",
    "    # Event stream change dictionary keys\n",
    "    x['ts'] = x['ts'][:-4]\n",
    "    \n",
    "    # Check label possible\n",
    "    \n",
    "    # Initialize case by prefix length\n",
    "    caseid = x['caseid']\n",
    "    x.pop('caseid')\n",
    "    \n",
    "    case_bin = prefix_bin(caseid, x)\n",
    "    \n",
    "    if caseid not in list(case_dict.keys()):\n",
    "        case_dict[caseid] = []\n",
    "        case_bin.set_prefix_length(1)\n",
    "        \n",
    "    elif caseid in finishedcases:\n",
    "        continue\n",
    "    \n",
    "    else:\n",
    "        case_bin.set_prefix_length(len(case_dict[caseid])+1)\n",
    "        case_bin.set_prev_enc(case_dict[caseid][-1])\n",
    "    \n",
    "    # Encode event and cases and add to DB\n",
    "    ts = case_bin.event['ts']\n",
    "    case_bin.update_encoded(catattrs=catatars,enctype=enctype)\n",
    "    \n",
    "    # Set current activity as outcome of previous event\n",
    "    if case_bin.prefix_length != 1:\n",
    "        case_bin.prev_enc.update_truelabel(x['activity'])\n",
    "\n",
    "    \n",
    "    if x['activity'] == 'End':\n",
    "        training_window.update_window({caseid: case_dict[caseid]})\n",
    "        case_dict.pop(caseid)\n",
    "    else:\n",
    "        case_dict[caseid].append(case_bin)\n",
    "    \n",
    "    "
   ]
  },
  {
   "cell_type": "code",
   "execution_count": 47,
   "id": "4abde22c",
   "metadata": {},
   "outputs": [],
   "source": [
    "x_train = []\n",
    "y_train = []\n",
    "for t in training_window.getAllitems():\n",
    "    x_train.append(list(t.values())[0][5].encoded)\n",
    "    y_train.append(list(t.values())[0][5].true_label)"
   ]
  },
  {
   "cell_type": "code",
   "execution_count": 50,
   "id": "0a975dce",
   "metadata": {},
   "outputs": [
    {
     "name": "stdout",
     "output_type": "stream",
     "text": [
      "[{'duration_1': 0, 'cumduration_1': 0, 'activity_1 A_Create Application': 1, 'resource_1 User_5': 1, 'duration_2': 0.0, 'cumduration_2': 0.0, 'activity_2 W_Complete application': 1, 'resource_2 User_5': 1, 'duration_3': 0.0, 'cumduration_3': 0.0, 'activity_3 W_Complete application': 1, 'resource_3 User_5': 1, 'duration_4': 0.0, 'cumduration_4': 0.0, 'activity_4 A_Concept': 1, 'resource_4 User_5': 1, 'duration_5': 283.0, 'cumduration_5': 283.0, 'activity_5 A_Accepted': 1, 'resource_5 User_5': 1, 'duration_6': 153.0, 'cumduration_6': 436.0, 'activity_6 O_Create Offer': 1, 'resource_6 User_5': 1}, {'duration_1': 0, 'cumduration_1': 0, 'activity_1 A_Create Application': 1, 'resource_1 User_1': 1, 'duration_2': 1.0, 'cumduration_2': 1.0, 'activity_2 A_Submitted': 1, 'resource_2 User_1': 1, 'duration_3': 0.0, 'cumduration_3': 1.0, 'activity_3 W_Handle leads': 1, 'resource_3 User_1': 1, 'duration_4': 80.0, 'cumduration_4': 81.0, 'activity_4 W_Handle leads': 1, 'resource_4 User_1': 1, 'duration_5': 0.0, 'cumduration_5': 81.0, 'activity_5 W_Complete application': 1, 'resource_5 User_1': 1, 'duration_6': 0.0, 'cumduration_6': 81.0, 'activity_6 A_Concept': 1, 'resource_6 User_1': 1}, {'duration_1': 0, 'cumduration_1': 0, 'activity_1 A_Create Application': 1, 'resource_1 User_47': 1, 'duration_2': 0.0, 'cumduration_2': 0.0, 'activity_2 W_Complete application': 1, 'resource_2 User_47': 1, 'duration_3': 0.0, 'cumduration_3': 0.0, 'activity_3 W_Complete application': 1, 'resource_3 User_47': 1, 'duration_4': 0.0, 'cumduration_4': 0.0, 'activity_4 A_Concept': 1, 'resource_4 User_47': 1, 'duration_5': 203.0, 'cumduration_5': 203.0, 'activity_5 A_Accepted': 1, 'resource_5 User_47': 1, 'duration_6': 343.0, 'cumduration_6': 546.0, 'activity_6 O_Create Offer': 1, 'resource_6 User_47': 1}, {'duration_1': 0, 'cumduration_1': 0, 'activity_1 A_Create Application': 1, 'resource_1 User_3': 1, 'duration_2': 0.0, 'cumduration_2': 0.0, 'activity_2 A_Concept': 1, 'resource_2 User_3': 1, 'duration_3': 0.0, 'cumduration_3': 0.0, 'activity_3 W_Complete application': 1, 'resource_3 User_3': 1, 'duration_4': 0.0, 'cumduration_4': 0.0, 'activity_4 W_Complete application': 1, 'resource_4 User_3': 1, 'duration_5': 60.0, 'cumduration_5': 60.0, 'activity_5 A_Accepted': 1, 'resource_5 User_3': 1, 'duration_6': 16.0, 'cumduration_6': 76.0, 'activity_6 W_Complete application': 1, 'resource_6 User_3': 1}, {'duration_1': 0, 'cumduration_1': 0, 'activity_1 A_Create Application': 1, 'resource_1 User_28': 1, 'duration_2': 0.0, 'cumduration_2': 0.0, 'activity_2 W_Complete application': 1, 'resource_2 User_28': 1, 'duration_3': 0.0, 'cumduration_3': 0.0, 'activity_3 W_Complete application': 1, 'resource_3 User_28': 1, 'duration_4': 0.0, 'cumduration_4': 0.0, 'activity_4 A_Concept': 1, 'resource_4 User_28': 1, 'duration_5': 85.0, 'cumduration_5': 85.0, 'activity_5 A_Accepted': 1, 'resource_5 User_28': 1, 'duration_6': 256.0, 'cumduration_6': 341.0, 'activity_6 O_Create Offer': 1, 'resource_6 User_28': 1}, {'duration_1': 0, 'cumduration_1': 0, 'activity_1 A_Create Application': 1, 'resource_1 User_23': 1, 'duration_2': 0.0, 'cumduration_2': 0.0, 'activity_2 A_Concept': 1, 'resource_2 User_23': 1, 'duration_3': 0.0, 'cumduration_3': 0.0, 'activity_3 W_Complete application': 1, 'resource_3 User_23': 1, 'duration_4': 0.0, 'cumduration_4': 0.0, 'activity_4 W_Complete application': 1, 'resource_4 User_23': 1, 'duration_5': 57.0, 'cumduration_5': 57.0, 'activity_5 W_Complete application': 1, 'resource_5 User_23': 1, 'duration_6': 249187.0, 'cumduration_6': 249244.0, 'activity_6 W_Complete application': 1, 'resource_6 User_60': 1}, {'duration_1': 0, 'cumduration_1': 0, 'activity_1 A_Create Application': 1, 'resource_1 User_5': 1, 'duration_2': 0.0, 'cumduration_2': 0.0, 'activity_2 W_Complete application': 1, 'resource_2 User_5': 1, 'duration_3': 0.0, 'cumduration_3': 0.0, 'activity_3 W_Complete application': 1, 'resource_3 User_5': 1, 'duration_4': 0.0, 'cumduration_4': 0.0, 'activity_4 A_Concept': 1, 'resource_4 User_5': 1, 'duration_5': 375.0, 'cumduration_5': 375.0, 'activity_5 A_Accepted': 1, 'resource_5 User_5': 1, 'duration_6': 549.0, 'cumduration_6': 924.0, 'activity_6 O_Create Offer': 1, 'resource_6 User_5': 1}, {'duration_1': 0, 'cumduration_1': 0, 'activity_1 A_Create Application': 1, 'resource_1 User_16': 1, 'duration_2': 0.0, 'cumduration_2': 0.0, 'activity_2 W_Complete application': 1, 'resource_2 User_16': 1, 'duration_3': 0.0, 'cumduration_3': 0.0, 'activity_3 W_Complete application': 1, 'resource_3 User_16': 1, 'duration_4': 0.0, 'cumduration_4': 0.0, 'activity_4 A_Concept': 1, 'resource_4 User_16': 1, 'duration_5': 230.0, 'cumduration_5': 230.0, 'activity_5 A_Accepted': 1, 'resource_5 User_16': 1, 'duration_6': 263.0, 'cumduration_6': 493.0, 'activity_6 O_Create Offer': 1, 'resource_6 User_16': 1}, {'duration_1': 0, 'cumduration_1': 0, 'activity_1 A_Create Application': 1, 'resource_1 User_76': 1, 'duration_2': 0.0, 'cumduration_2': 0.0, 'activity_2 W_Complete application': 1, 'resource_2 User_76': 1, 'duration_3': 0.0, 'cumduration_3': 0.0, 'activity_3 W_Complete application': 1, 'resource_3 User_76': 1, 'duration_4': 0.0, 'cumduration_4': 0.0, 'activity_4 A_Concept': 1, 'resource_4 User_76': 1, 'duration_5': 192.0, 'cumduration_5': 192.0, 'activity_5 A_Accepted': 1, 'resource_5 User_76': 1, 'duration_6': 312.0, 'cumduration_6': 504.0, 'activity_6 O_Create Offer': 1, 'resource_6 User_76': 1}, {'duration_1': 0, 'cumduration_1': 0, 'activity_1 A_Create Application': 1, 'resource_1 User_45': 1, 'duration_2': 0.0, 'cumduration_2': 0.0, 'activity_2 A_Concept': 1, 'resource_2 User_45': 1, 'duration_3': 0.0, 'cumduration_3': 0.0, 'activity_3 W_Complete application': 1, 'resource_3 User_45': 1, 'duration_4': 0.0, 'cumduration_4': 0.0, 'activity_4 W_Complete application': 1, 'resource_4 User_45': 1, 'duration_5': 38.0, 'cumduration_5': 38.0, 'activity_5 W_Complete application': 1, 'resource_5 User_45': 1, 'duration_6': 6039.0, 'cumduration_6': 6077.0, 'activity_6 A_Accepted': 1, 'resource_6 User_42': 1}, {'duration_1': 0, 'cumduration_1': 0, 'activity_1 A_Create Application': 1, 'resource_1 User_37': 1, 'duration_2': 0.0, 'cumduration_2': 0.0, 'activity_2 W_Complete application': 1, 'resource_2 User_37': 1, 'duration_3': 0.0, 'cumduration_3': 0.0, 'activity_3 W_Complete application': 1, 'resource_3 User_37': 1, 'duration_4': 0.0, 'cumduration_4': 0.0, 'activity_4 A_Concept': 1, 'resource_4 User_37': 1, 'duration_5': 26.0, 'cumduration_5': 26.0, 'activity_5 W_Complete application': 1, 'resource_5 User_37': 1, 'duration_6': 161.0, 'cumduration_6': 187.0, 'activity_6 A_Accepted': 1, 'resource_6 User_37': 1}, {'duration_1': 0, 'cumduration_1': 0, 'activity_1 A_Create Application': 1, 'resource_1 User_28': 1, 'duration_2': 0.0, 'cumduration_2': 0.0, 'activity_2 W_Complete application': 1, 'resource_2 User_28': 1, 'duration_3': 0.0, 'cumduration_3': 0.0, 'activity_3 W_Complete application': 1, 'resource_3 User_28': 1, 'duration_4': 0.0, 'cumduration_4': 0.0, 'activity_4 A_Concept': 1, 'resource_4 User_28': 1, 'duration_5': 265.0, 'cumduration_5': 265.0, 'activity_5 A_Accepted': 1, 'resource_5 User_28': 1, 'duration_6': 322.0, 'cumduration_6': 587.0, 'activity_6 O_Create Offer': 1, 'resource_6 User_28': 1}, {'duration_1': 0, 'cumduration_1': 0, 'activity_1 A_Create Application': 1, 'resource_1 User_16': 1, 'duration_2': 0.0, 'cumduration_2': 0.0, 'activity_2 W_Complete application': 1, 'resource_2 User_16': 1, 'duration_3': 0.0, 'cumduration_3': 0.0, 'activity_3 W_Complete application': 1, 'resource_3 User_16': 1, 'duration_4': 0.0, 'cumduration_4': 0.0, 'activity_4 A_Concept': 1, 'resource_4 User_16': 1, 'duration_5': 166.0, 'cumduration_5': 166.0, 'activity_5 A_Accepted': 1, 'resource_5 User_16': 1, 'duration_6': 181.0, 'cumduration_6': 347.0, 'activity_6 O_Create Offer': 1, 'resource_6 User_16': 1}, {'duration_1': 0, 'cumduration_1': 0, 'activity_1 A_Create Application': 1, 'resource_1 User_52': 1, 'duration_2': 0.0, 'cumduration_2': 0.0, 'activity_2 A_Concept': 1, 'resource_2 User_52': 1, 'duration_3': 0.0, 'cumduration_3': 0.0, 'activity_3 W_Complete application': 1, 'resource_3 User_52': 1, 'duration_4': 0.0, 'cumduration_4': 0.0, 'activity_4 W_Complete application': 1, 'resource_4 User_51': 1, 'duration_5': 123.0, 'cumduration_5': 123.0, 'activity_5 W_Complete application': 1, 'resource_5 User_52': 1, 'duration_6': 260385.0, 'cumduration_6': 260508.0, 'activity_6 W_Complete application': 1, 'resource_6 User_51': 1}, {'duration_1': 0, 'cumduration_1': 0, 'activity_1 A_Create Application': 1, 'resource_1 User_16': 1, 'duration_2': 0.0, 'cumduration_2': 0.0, 'activity_2 A_Concept': 1, 'resource_2 User_16': 1, 'duration_3': 0.0, 'cumduration_3': 0.0, 'activity_3 W_Complete application': 1, 'resource_3 User_16': 1, 'duration_4': 0.0, 'cumduration_4': 0.0, 'activity_4 W_Complete application': 1, 'resource_4 User_16': 1, 'duration_5': 163.0, 'cumduration_5': 163.0, 'activity_5 A_Accepted': 1, 'resource_5 User_16': 1, 'duration_6': 78.0, 'cumduration_6': 241.0, 'activity_6 O_Create Offer': 1, 'resource_6 User_16': 1}, {'duration_1': 0, 'cumduration_1': 0, 'activity_1 A_Create Application': 1, 'resource_1 User_4': 1, 'duration_2': 0.0, 'cumduration_2': 0.0, 'activity_2 A_Concept': 1, 'resource_2 User_4': 1, 'duration_3': 0.0, 'cumduration_3': 0.0, 'activity_3 W_Complete application': 1, 'resource_3 User_4': 1, 'duration_4': 0.0, 'cumduration_4': 0.0, 'activity_4 W_Complete application': 1, 'resource_4 User_4': 1, 'duration_5': 111.0, 'cumduration_5': 111.0, 'activity_5 A_Accepted': 1, 'resource_5 User_4': 1, 'duration_6': 90.0, 'cumduration_6': 201.0, 'activity_6 O_Create Offer': 1, 'resource_6 User_4': 1}, {'duration_1': 0, 'cumduration_1': 0, 'activity_1 A_Create Application': 1, 'resource_1 User_47': 1, 'duration_2': 0.0, 'cumduration_2': 0.0, 'activity_2 W_Complete application': 1, 'resource_2 User_47': 1, 'duration_3': 0.0, 'cumduration_3': 0.0, 'activity_3 W_Complete application': 1, 'resource_3 User_47': 1, 'duration_4': 0.0, 'cumduration_4': 0.0, 'activity_4 A_Concept': 1, 'resource_4 User_47': 1, 'duration_5': 515.0, 'cumduration_5': 515.0, 'activity_5 A_Accepted': 1, 'resource_5 User_47': 1, 'duration_6': 202.0, 'cumduration_6': 717.0, 'activity_6 O_Create Offer': 1, 'resource_6 User_47': 1}, {'duration_1': 0, 'cumduration_1': 0, 'activity_1 A_Create Application': 1, 'resource_1 User_45': 1, 'duration_2': 0.0, 'cumduration_2': 0.0, 'activity_2 W_Complete application': 1, 'resource_2 User_45': 1, 'duration_3': 0.0, 'cumduration_3': 0.0, 'activity_3 W_Complete application': 1, 'resource_3 User_45': 1, 'duration_4': 0.0, 'cumduration_4': 0.0, 'activity_4 A_Concept': 1, 'resource_4 User_45': 1, 'duration_5': 90.0, 'cumduration_5': 90.0, 'activity_5 A_Accepted': 1, 'resource_5 User_45': 1, 'duration_6': 161.0, 'cumduration_6': 251.0, 'activity_6 O_Create Offer': 1, 'resource_6 User_45': 1}, {'duration_1': 0, 'cumduration_1': 0, 'activity_1 A_Create Application': 1, 'resource_1 User_10': 1, 'duration_2': 0.0, 'cumduration_2': 0.0, 'activity_2 W_Complete application': 1, 'resource_2 User_10': 1, 'duration_3': 0.0, 'cumduration_3': 0.0, 'activity_3 W_Complete application': 1, 'resource_3 User_10': 1, 'duration_4': 0.0, 'cumduration_4': 0.0, 'activity_4 A_Concept': 1, 'resource_4 User_10': 1, 'duration_5': 117.0, 'cumduration_5': 117.0, 'activity_5 A_Accepted': 1, 'resource_5 User_10': 1, 'duration_6': 188.0, 'cumduration_6': 305.0, 'activity_6 O_Create Offer': 1, 'resource_6 User_10': 1}, {'duration_1': 0, 'cumduration_1': 0, 'activity_1 A_Create Application': 1, 'resource_1 User_51': 1, 'duration_2': 0.0, 'cumduration_2': 0.0, 'activity_2 A_Concept': 1, 'resource_2 User_51': 1, 'duration_3': 0.0, 'cumduration_3': 0.0, 'activity_3 W_Complete application': 1, 'resource_3 User_51': 1, 'duration_4': 0.0, 'cumduration_4': 0.0, 'activity_4 W_Complete application': 1, 'resource_4 User_51': 1, 'duration_5': 471.0, 'cumduration_5': 471.0, 'activity_5 A_Accepted': 1, 'resource_5 User_51': 1, 'duration_6': 210.0, 'cumduration_6': 681.0, 'activity_6 O_Create Offer': 1, 'resource_6 User_51': 1}]\n"
     ]
    }
   ],
   "source": [
    "print(x_train)"
   ]
  },
  {
   "cell_type": "code",
   "execution_count": 56,
   "id": "6eae5a8a",
   "metadata": {},
   "outputs": [
    {
     "name": "stdout",
     "output_type": "stream",
     "text": [
      "    duration_1  cumduration_1  activity_1 A_Create Application  \\\n",
      "0            0              0                                1   \n",
      "1            0              0                                1   \n",
      "2            0              0                                1   \n",
      "3            0              0                                1   \n",
      "4            0              0                                1   \n",
      "5            0              0                                1   \n",
      "6            0              0                                1   \n",
      "7            0              0                                1   \n",
      "8            0              0                                1   \n",
      "9            0              0                                1   \n",
      "10           0              0                                1   \n",
      "11           0              0                                1   \n",
      "12           0              0                                1   \n",
      "13           0              0                                1   \n",
      "14           0              0                                1   \n",
      "15           0              0                                1   \n",
      "16           0              0                                1   \n",
      "17           0              0                                1   \n",
      "18           0              0                                1   \n",
      "19           0              0                                1   \n",
      "\n",
      "    resource_1 User_5  duration_2  cumduration_2  \\\n",
      "0                 1.0         0.0            0.0   \n",
      "1                 0.0         1.0            1.0   \n",
      "2                 0.0         0.0            0.0   \n",
      "3                 0.0         0.0            0.0   \n",
      "4                 0.0         0.0            0.0   \n",
      "5                 0.0         0.0            0.0   \n",
      "6                 1.0         0.0            0.0   \n",
      "7                 0.0         0.0            0.0   \n",
      "8                 0.0         0.0            0.0   \n",
      "9                 0.0         0.0            0.0   \n",
      "10                0.0         0.0            0.0   \n",
      "11                0.0         0.0            0.0   \n",
      "12                0.0         0.0            0.0   \n",
      "13                0.0         0.0            0.0   \n",
      "14                0.0         0.0            0.0   \n",
      "15                0.0         0.0            0.0   \n",
      "16                0.0         0.0            0.0   \n",
      "17                0.0         0.0            0.0   \n",
      "18                0.0         0.0            0.0   \n",
      "19                0.0         0.0            0.0   \n",
      "\n",
      "    activity_2 W_Complete application  resource_2 User_5  duration_3  \\\n",
      "0                                 1.0                1.0         0.0   \n",
      "1                                 0.0                0.0         0.0   \n",
      "2                                 1.0                0.0         0.0   \n",
      "3                                 0.0                0.0         0.0   \n",
      "4                                 1.0                0.0         0.0   \n",
      "5                                 0.0                0.0         0.0   \n",
      "6                                 1.0                1.0         0.0   \n",
      "7                                 1.0                0.0         0.0   \n",
      "8                                 1.0                0.0         0.0   \n",
      "9                                 0.0                0.0         0.0   \n",
      "10                                1.0                0.0         0.0   \n",
      "11                                1.0                0.0         0.0   \n",
      "12                                1.0                0.0         0.0   \n",
      "13                                0.0                0.0         0.0   \n",
      "14                                0.0                0.0         0.0   \n",
      "15                                0.0                0.0         0.0   \n",
      "16                                1.0                0.0         0.0   \n",
      "17                                1.0                0.0         0.0   \n",
      "18                                1.0                0.0         0.0   \n",
      "19                                0.0                0.0         0.0   \n",
      "\n",
      "    cumduration_3  ...  resource_1 User_10  resource_2 User_10  \\\n",
      "0             0.0  ...                 0.0                 0.0   \n",
      "1             1.0  ...                 0.0                 0.0   \n",
      "2             0.0  ...                 0.0                 0.0   \n",
      "3             0.0  ...                 0.0                 0.0   \n",
      "4             0.0  ...                 0.0                 0.0   \n",
      "5             0.0  ...                 0.0                 0.0   \n",
      "6             0.0  ...                 0.0                 0.0   \n",
      "7             0.0  ...                 0.0                 0.0   \n",
      "8             0.0  ...                 0.0                 0.0   \n",
      "9             0.0  ...                 0.0                 0.0   \n",
      "10            0.0  ...                 0.0                 0.0   \n",
      "11            0.0  ...                 0.0                 0.0   \n",
      "12            0.0  ...                 0.0                 0.0   \n",
      "13            0.0  ...                 0.0                 0.0   \n",
      "14            0.0  ...                 0.0                 0.0   \n",
      "15            0.0  ...                 0.0                 0.0   \n",
      "16            0.0  ...                 0.0                 0.0   \n",
      "17            0.0  ...                 0.0                 0.0   \n",
      "18            0.0  ...                 1.0                 1.0   \n",
      "19            0.0  ...                 0.0                 0.0   \n",
      "\n",
      "    resource_3 User_10  resource_4 User_10  resource_5 User_10  \\\n",
      "0                  0.0                 0.0                 0.0   \n",
      "1                  0.0                 0.0                 0.0   \n",
      "2                  0.0                 0.0                 0.0   \n",
      "3                  0.0                 0.0                 0.0   \n",
      "4                  0.0                 0.0                 0.0   \n",
      "5                  0.0                 0.0                 0.0   \n",
      "6                  0.0                 0.0                 0.0   \n",
      "7                  0.0                 0.0                 0.0   \n",
      "8                  0.0                 0.0                 0.0   \n",
      "9                  0.0                 0.0                 0.0   \n",
      "10                 0.0                 0.0                 0.0   \n",
      "11                 0.0                 0.0                 0.0   \n",
      "12                 0.0                 0.0                 0.0   \n",
      "13                 0.0                 0.0                 0.0   \n",
      "14                 0.0                 0.0                 0.0   \n",
      "15                 0.0                 0.0                 0.0   \n",
      "16                 0.0                 0.0                 0.0   \n",
      "17                 0.0                 0.0                 0.0   \n",
      "18                 1.0                 1.0                 1.0   \n",
      "19                 0.0                 0.0                 0.0   \n",
      "\n",
      "    resource_6 User_10  resource_1 User_51  resource_2 User_51  \\\n",
      "0                  0.0                 0.0                 0.0   \n",
      "1                  0.0                 0.0                 0.0   \n",
      "2                  0.0                 0.0                 0.0   \n",
      "3                  0.0                 0.0                 0.0   \n",
      "4                  0.0                 0.0                 0.0   \n",
      "5                  0.0                 0.0                 0.0   \n",
      "6                  0.0                 0.0                 0.0   \n",
      "7                  0.0                 0.0                 0.0   \n",
      "8                  0.0                 0.0                 0.0   \n",
      "9                  0.0                 0.0                 0.0   \n",
      "10                 0.0                 0.0                 0.0   \n",
      "11                 0.0                 0.0                 0.0   \n",
      "12                 0.0                 0.0                 0.0   \n",
      "13                 0.0                 0.0                 0.0   \n",
      "14                 0.0                 0.0                 0.0   \n",
      "15                 0.0                 0.0                 0.0   \n",
      "16                 0.0                 0.0                 0.0   \n",
      "17                 0.0                 0.0                 0.0   \n",
      "18                 1.0                 0.0                 0.0   \n",
      "19                 0.0                 1.0                 1.0   \n",
      "\n",
      "    resource_3 User_51  resource_5 User_51  \n",
      "0                  0.0                 0.0  \n",
      "1                  0.0                 0.0  \n",
      "2                  0.0                 0.0  \n",
      "3                  0.0                 0.0  \n",
      "4                  0.0                 0.0  \n",
      "5                  0.0                 0.0  \n",
      "6                  0.0                 0.0  \n",
      "7                  0.0                 0.0  \n",
      "8                  0.0                 0.0  \n",
      "9                  0.0                 0.0  \n",
      "10                 0.0                 0.0  \n",
      "11                 0.0                 0.0  \n",
      "12                 0.0                 0.0  \n",
      "13                 0.0                 0.0  \n",
      "14                 0.0                 0.0  \n",
      "15                 0.0                 0.0  \n",
      "16                 0.0                 0.0  \n",
      "17                 0.0                 0.0  \n",
      "18                 0.0                 0.0  \n",
      "19                 1.0                 1.0  \n",
      "\n",
      "[20 rows x 110 columns]\n"
     ]
    }
   ],
   "source": [
    "x_train = pd.DataFrame.from_dict(x_train)\n",
    "x_train = x_train.fillna(0)\n",
    "print(x_train)"
   ]
  },
  {
   "cell_type": "code",
   "execution_count": 57,
   "id": "a151b25b",
   "metadata": {},
   "outputs": [
    {
     "data": {
      "text/plain": [
       "RandomForestClassifier()"
      ]
     },
     "execution_count": 57,
     "metadata": {},
     "output_type": "execute_result"
    }
   ],
   "source": [
    "clf  = RandomForestClassifier()\n",
    "clf.fit(x_train,y_train)"
   ]
  },
  {
   "cell_type": "code",
   "execution_count": 68,
   "id": "0c453149",
   "metadata": {},
   "outputs": [
    {
     "name": "stdout",
     "output_type": "stream",
     "text": [
      "['A_Accepted' 'O_Create Offer' 'O_Created' 'W_Complete application']\n",
      "[[0.06 0.   0.91 0.03]]\n",
      "['O_Created']\n"
     ]
    }
   ],
   "source": [
    "print(clf.classes_)\n",
    "print(clf.predict_proba(x_train.loc[19:]))\n",
    "print(clf.predict(x_train.loc[19:]))"
   ]
  },
  {
   "cell_type": "code",
   "execution_count": 62,
   "id": "27417bfd",
   "metadata": {},
   "outputs": [
    {
     "name": "stdout",
     "output_type": "stream",
     "text": [
      "1.0\n"
     ]
    }
   ],
   "source": [
    "print(clf.score(x_train,y_train))"
   ]
  }
 ],
 "metadata": {
  "kernelspec": {
   "display_name": "Python 3 (ipykernel)",
   "language": "python",
   "name": "python3"
  },
  "language_info": {
   "codemirror_mode": {
    "name": "ipython",
    "version": 3
   },
   "file_extension": ".py",
   "mimetype": "text/x-python",
   "name": "python",
   "nbconvert_exporter": "python",
   "pygments_lexer": "ipython3",
   "version": "3.9.4"
  }
 },
 "nbformat": 4,
 "nbformat_minor": 5
}
